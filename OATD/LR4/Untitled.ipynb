{
 "cells": [
  {
   "cell_type": "markdown",
   "id": "a4ac9149",
   "metadata": {},
   "source": [
    "# Лабораторная работа №4. Использование нейронных сетей для генерации текста"
   ]
  },
  {
   "cell_type": "markdown",
   "id": "b2334eec",
   "metadata": {},
   "source": [
    "## Цель работы\n",
    "Получить практические навыки решения задачи генерации текста."
   ]
  },
  {
   "cell_type": "markdown",
   "id": "6c164c77",
   "metadata": {},
   "source": [
    "## Импорт необходимых библиотек и модулей"
   ]
  },
  {
   "cell_type": "code",
   "execution_count": 4,
   "id": "8e380be3",
   "metadata": {},
   "outputs": [
    {
     "ename": "ModuleNotFoundError",
     "evalue": "No module named 'tensorflow'",
     "output_type": "error",
     "traceback": [
      "\u001b[1;31m---------------------------------------------------------------------------\u001b[0m",
      "\u001b[1;31mModuleNotFoundError\u001b[0m                       Traceback (most recent call last)",
      "Input \u001b[1;32mIn [4]\u001b[0m, in \u001b[0;36m<cell line: 1>\u001b[1;34m()\u001b[0m\n\u001b[1;32m----> 1\u001b[0m \u001b[38;5;28;01mimport\u001b[39;00m \u001b[38;5;21;01mtensorflow\u001b[39;00m \u001b[38;5;28;01mas\u001b[39;00m \u001b[38;5;21;01mtf\u001b[39;00m\n\u001b[0;32m      2\u001b[0m \u001b[38;5;28;01mfrom\u001b[39;00m \u001b[38;5;21;01msklearn\u001b[39;00m\u001b[38;5;21;01m.\u001b[39;00m\u001b[38;5;21;01mmodel_selection\u001b[39;00m  \u001b[38;5;28;01mimport\u001b[39;00m train_test_split\n\u001b[0;32m      3\u001b[0m \u001b[38;5;28;01mimport\u001b[39;00m \u001b[38;5;21;01mnumpy\u001b[39;00m \u001b[38;5;28;01mas\u001b[39;00m \u001b[38;5;21;01mnp\u001b[39;00m\n",
      "\u001b[1;31mModuleNotFoundError\u001b[0m: No module named 'tensorflow'"
     ]
    }
   ],
   "source": [
    "import tensorflow as tf\n",
    "from sklearn.model_selection  import train_test_split\n",
    "import numpy as np\n",
    "import pandas as pd\n",
    "import os\n",
    "import time"
   ]
  },
  {
   "cell_type": "markdown",
   "id": "e8990f7e",
   "metadata": {},
   "source": [
    "## Выполнение работы"
   ]
  },
  {
   "cell_type": "markdown",
   "id": "6d7aa3bf",
   "metadata": {},
   "source": [
    "## 1.Загрузить выборку стихотворений одного из поэтов в соответствии с вариантом."
   ]
  },
  {
   "cell_type": "code",
   "execution_count": 2,
   "id": "90cddd45",
   "metadata": {},
   "outputs": [
    {
     "ename": "NameError",
     "evalue": "name 'tf' is not defined",
     "output_type": "error",
     "traceback": [
      "\u001b[1;31m---------------------------------------------------------------------------\u001b[0m",
      "\u001b[1;31mNameError\u001b[0m                                 Traceback (most recent call last)",
      "Input \u001b[1;32mIn [2]\u001b[0m, in \u001b[0;36m<cell line: 4>\u001b[1;34m()\u001b[0m\n\u001b[0;32m      1\u001b[0m poet \u001b[38;5;241m=\u001b[39m \u001b[38;5;124m'\u001b[39m\u001b[38;5;124mmayakovskiy\u001b[39m\u001b[38;5;124m'\u001b[39m\n\u001b[0;32m      3\u001b[0m path_to_file \u001b[38;5;241m=\u001b[39m \u001b[38;5;124mf\u001b[39m\u001b[38;5;124m'\u001b[39m\u001b[38;5;132;01m{\u001b[39;00mpoet\u001b[38;5;132;01m}\u001b[39;00m\u001b[38;5;124m.txt\u001b[39m\u001b[38;5;124m'\u001b[39m\n\u001b[1;32m----> 4\u001b[0m path_to_file \u001b[38;5;241m=\u001b[39m \u001b[43mtf\u001b[49m\u001b[38;5;241m.\u001b[39mkeras\u001b[38;5;241m.\u001b[39mutils\u001b[38;5;241m.\u001b[39mget_file(path_to_file, \u001b[38;5;124mf\u001b[39m\u001b[38;5;124m'\u001b[39m\u001b[38;5;124mhttp://uit.mpei.ru/git/main/TDA/raw/branch/master/assets/poems/\u001b[39m\u001b[38;5;132;01m{\u001b[39;00mpath_to_file\u001b[38;5;132;01m}\u001b[39;00m\u001b[38;5;124m'\u001b[39m)\n",
      "\u001b[1;31mNameError\u001b[0m: name 'tf' is not defined"
     ]
    }
   ],
   "source": [
    "poet = 'mayakovskiy'\n",
    "\n",
    "path_to_file = f'{poet}.txt'\n",
    "path_to_file = tf.keras.utils.get_file(path_to_file, f'http://uit.mpei.ru/git/main/TDA/raw/branch/master/assets/poems/{path_to_file}')"
   ]
  },
  {
   "cell_type": "markdown",
   "id": "d4a6681f",
   "metadata": {},
   "source": [
    "## 2. Познакомиться с данными. Проанализировать статистические характеристики исходных данных (среднюю длину стихотворения, среднюю длину строки)."
   ]
  },
  {
   "cell_type": "code",
   "execution_count": null,
   "id": "8bed6759",
   "metadata": {},
   "outputs": [],
   "source": [
    "with open(path_to_file,encoding = \"utf-8\") as f:\n",
    "    text = f.read()\n",
    "\n",
    "print(f'Length of text: {len(text)} characters')\n",
    "\n",
    "EOS_TOKEN = '</s>'\n",
    "print('Example of text:\\n',text[:500])"
   ]
  },
  {
   "cell_type": "markdown",
   "id": "733d1233",
   "metadata": {},
   "source": [
    "## 3. Подготовить выборку для обучения."
   ]
  },
  {
   "cell_type": "code",
   "execution_count": null,
   "id": "8e7a8b83",
   "metadata": {},
   "outputs": [],
   "source": []
  },
  {
   "cell_type": "markdown",
   "id": "08543949",
   "metadata": {},
   "source": [
    "## 4. Построить нейронную сеть. Тип ячейки RNN выбрать в соответствии с вариантом.\n"
   ]
  },
  {
   "cell_type": "code",
   "execution_count": null,
   "id": "0e3536ae",
   "metadata": {},
   "outputs": [],
   "source": []
  },
  {
   "cell_type": "markdown",
   "id": "d26062ef",
   "metadata": {},
   "source": [
    "## 5. Обучить нейронную сеть на разных количествах эпох (5, 15, 30, 50, 70) при зафиксированных параметрах embedding_dim = 256, rnn_units = 300, T = 0.3 и сравнить результаты генерации (тексты), перплексию и статистические характеристики сгенерированных текстов. Выбрать оптимальное количество эпох"
   ]
  },
  {
   "cell_type": "code",
   "execution_count": null,
   "id": "d8e6e468",
   "metadata": {},
   "outputs": [],
   "source": []
  },
  {
   "cell_type": "markdown",
   "id": "2c68d5c6",
   "metadata": {},
   "source": [
    "## 6. Изменяя параметр температуры T проанализировать изменения сгенерированного текста. Выбрать оптимальное значение параметра."
   ]
  },
  {
   "cell_type": "code",
   "execution_count": null,
   "id": "bd90f6e9",
   "metadata": {},
   "outputs": [],
   "source": []
  },
  {
   "cell_type": "markdown",
   "id": "becab4bf",
   "metadata": {},
   "source": [
    "## 7. Проанализировать зависимость перплексии, скорости обучения, результатов генерации от параметров нейронной сети embedding_dim, rnn_units: embedding_dim = {vocab/4, vocab/2, vocab, vocab * 2, vocab * 4}, где vocab = размер словаря выборки. rnn_units = {10, 100, 300, 500}"
   ]
  },
  {
   "cell_type": "code",
   "execution_count": null,
   "id": "a27ff9cb",
   "metadata": {},
   "outputs": [],
   "source": []
  }
 ],
 "metadata": {
  "kernelspec": {
   "display_name": "Python 3 (ipykernel)",
   "language": "python",
   "name": "python3"
  },
  "language_info": {
   "codemirror_mode": {
    "name": "ipython",
    "version": 3
   },
   "file_extension": ".py",
   "mimetype": "text/x-python",
   "name": "python",
   "nbconvert_exporter": "python",
   "pygments_lexer": "ipython3",
   "version": "3.9.12"
  }
 },
 "nbformat": 4,
 "nbformat_minor": 5
}
