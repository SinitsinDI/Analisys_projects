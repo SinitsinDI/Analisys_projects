{
 "cells": [
  {
   "cell_type": "markdown",
   "id": "c81daeeb",
   "metadata": {
    "deletable": false,
    "id": "c81daeeb"
   },
   "source": [
    "# Исследование надежности заемщиков\n"
   ]
  },
  {
   "cell_type": "markdown",
   "id": "e401da8d",
   "metadata": {},
   "source": [
    "Исследование предполгает работу с данными, представленными в виде датафрейма. В ходе выполнения исследования предстоит пройти все шаги выполнения проекта от знакомства с данными до представления финального решения задачи со всеми необходимыми результатами и выводами. \n",
    "Результатом исследования станет ответ на вопрос: зависит ли надёжность заёмщиков от факторов, представленных в датафрейме?\n"
   ]
  },
  {
   "cell_type": "markdown",
   "id": "744d7639",
   "metadata": {
    "deletable": false,
    "id": "744d7639"
   },
   "source": [
    "## Общая информация о данных"
   ]
  },
  {
   "cell_type": "markdown",
   "id": "e7a14c31",
   "metadata": {
    "deletable": false,
    "id": "e7a14c31"
   },
   "source": [
    "**Задание 1. Импортируйте библиотеку pandas. Считайте данные из csv-файла в датафрейм и сохраните в переменную `data`. Путь к файлу:**\n",
    "\n",
    "`/datasets/data.csv`"
   ]
  },
  {
   "cell_type": "code",
   "execution_count": 1,
   "id": "7bcf75c9",
   "metadata": {
    "deletable": false,
    "id": "7bcf75c9"
   },
   "outputs": [],
   "source": [
    "import pandas as pd"
   ]
  },
  {
   "cell_type": "code",
   "execution_count": 2,
   "id": "8bf02894",
   "metadata": {},
   "outputs": [],
   "source": [
    "data = pd.read_csv('data.csv')"
   ]
  },
  {
   "cell_type": "markdown",
   "id": "b8038fe3",
   "metadata": {
    "deletable": false,
    "id": "b8038fe3"
   },
   "source": [
    "**Задание 2. Выведите первые 20 строчек датафрейма `data` на экран.**"
   ]
  },
  {
   "cell_type": "code",
   "execution_count": 3,
   "id": "2a7cab99",
   "metadata": {
    "deletable": false,
    "id": "2a7cab99",
    "outputId": "1a8f3ef2-d323-4ec2-ddf7-89670b5944c4"
   },
   "outputs": [
    {
     "data": {
      "text/html": [
       "<div>\n",
       "<style scoped>\n",
       "    .dataframe tbody tr th:only-of-type {\n",
       "        vertical-align: middle;\n",
       "    }\n",
       "\n",
       "    .dataframe tbody tr th {\n",
       "        vertical-align: top;\n",
       "    }\n",
       "\n",
       "    .dataframe thead th {\n",
       "        text-align: right;\n",
       "    }\n",
       "</style>\n",
       "<table border=\"1\" class=\"dataframe\">\n",
       "  <thead>\n",
       "    <tr style=\"text-align: right;\">\n",
       "      <th></th>\n",
       "      <th>children</th>\n",
       "      <th>days_employed</th>\n",
       "      <th>dob_years</th>\n",
       "      <th>education</th>\n",
       "      <th>education_id</th>\n",
       "      <th>family_status</th>\n",
       "      <th>family_status_id</th>\n",
       "      <th>gender</th>\n",
       "      <th>income_type</th>\n",
       "      <th>debt</th>\n",
       "      <th>total_income</th>\n",
       "      <th>purpose</th>\n",
       "    </tr>\n",
       "  </thead>\n",
       "  <tbody>\n",
       "    <tr>\n",
       "      <th>0</th>\n",
       "      <td>1</td>\n",
       "      <td>-8437.673028</td>\n",
       "      <td>42</td>\n",
       "      <td>высшее</td>\n",
       "      <td>0</td>\n",
       "      <td>женат / замужем</td>\n",
       "      <td>0</td>\n",
       "      <td>F</td>\n",
       "      <td>сотрудник</td>\n",
       "      <td>0</td>\n",
       "      <td>253875.639453</td>\n",
       "      <td>покупка жилья</td>\n",
       "    </tr>\n",
       "    <tr>\n",
       "      <th>1</th>\n",
       "      <td>1</td>\n",
       "      <td>-4024.803754</td>\n",
       "      <td>36</td>\n",
       "      <td>среднее</td>\n",
       "      <td>1</td>\n",
       "      <td>женат / замужем</td>\n",
       "      <td>0</td>\n",
       "      <td>F</td>\n",
       "      <td>сотрудник</td>\n",
       "      <td>0</td>\n",
       "      <td>112080.014102</td>\n",
       "      <td>приобретение автомобиля</td>\n",
       "    </tr>\n",
       "    <tr>\n",
       "      <th>2</th>\n",
       "      <td>0</td>\n",
       "      <td>-5623.422610</td>\n",
       "      <td>33</td>\n",
       "      <td>Среднее</td>\n",
       "      <td>1</td>\n",
       "      <td>женат / замужем</td>\n",
       "      <td>0</td>\n",
       "      <td>M</td>\n",
       "      <td>сотрудник</td>\n",
       "      <td>0</td>\n",
       "      <td>145885.952297</td>\n",
       "      <td>покупка жилья</td>\n",
       "    </tr>\n",
       "    <tr>\n",
       "      <th>3</th>\n",
       "      <td>3</td>\n",
       "      <td>-4124.747207</td>\n",
       "      <td>32</td>\n",
       "      <td>среднее</td>\n",
       "      <td>1</td>\n",
       "      <td>женат / замужем</td>\n",
       "      <td>0</td>\n",
       "      <td>M</td>\n",
       "      <td>сотрудник</td>\n",
       "      <td>0</td>\n",
       "      <td>267628.550329</td>\n",
       "      <td>дополнительное образование</td>\n",
       "    </tr>\n",
       "    <tr>\n",
       "      <th>4</th>\n",
       "      <td>0</td>\n",
       "      <td>340266.072047</td>\n",
       "      <td>53</td>\n",
       "      <td>среднее</td>\n",
       "      <td>1</td>\n",
       "      <td>гражданский брак</td>\n",
       "      <td>1</td>\n",
       "      <td>F</td>\n",
       "      <td>пенсионер</td>\n",
       "      <td>0</td>\n",
       "      <td>158616.077870</td>\n",
       "      <td>сыграть свадьбу</td>\n",
       "    </tr>\n",
       "    <tr>\n",
       "      <th>5</th>\n",
       "      <td>0</td>\n",
       "      <td>-926.185831</td>\n",
       "      <td>27</td>\n",
       "      <td>высшее</td>\n",
       "      <td>0</td>\n",
       "      <td>гражданский брак</td>\n",
       "      <td>1</td>\n",
       "      <td>M</td>\n",
       "      <td>компаньон</td>\n",
       "      <td>0</td>\n",
       "      <td>255763.565419</td>\n",
       "      <td>покупка жилья</td>\n",
       "    </tr>\n",
       "    <tr>\n",
       "      <th>6</th>\n",
       "      <td>0</td>\n",
       "      <td>-2879.202052</td>\n",
       "      <td>43</td>\n",
       "      <td>высшее</td>\n",
       "      <td>0</td>\n",
       "      <td>женат / замужем</td>\n",
       "      <td>0</td>\n",
       "      <td>F</td>\n",
       "      <td>компаньон</td>\n",
       "      <td>0</td>\n",
       "      <td>240525.971920</td>\n",
       "      <td>операции с жильем</td>\n",
       "    </tr>\n",
       "    <tr>\n",
       "      <th>7</th>\n",
       "      <td>0</td>\n",
       "      <td>-152.779569</td>\n",
       "      <td>50</td>\n",
       "      <td>СРЕДНЕЕ</td>\n",
       "      <td>1</td>\n",
       "      <td>женат / замужем</td>\n",
       "      <td>0</td>\n",
       "      <td>M</td>\n",
       "      <td>сотрудник</td>\n",
       "      <td>0</td>\n",
       "      <td>135823.934197</td>\n",
       "      <td>образование</td>\n",
       "    </tr>\n",
       "    <tr>\n",
       "      <th>8</th>\n",
       "      <td>2</td>\n",
       "      <td>-6929.865299</td>\n",
       "      <td>35</td>\n",
       "      <td>ВЫСШЕЕ</td>\n",
       "      <td>0</td>\n",
       "      <td>гражданский брак</td>\n",
       "      <td>1</td>\n",
       "      <td>F</td>\n",
       "      <td>сотрудник</td>\n",
       "      <td>0</td>\n",
       "      <td>95856.832424</td>\n",
       "      <td>на проведение свадьбы</td>\n",
       "    </tr>\n",
       "    <tr>\n",
       "      <th>9</th>\n",
       "      <td>0</td>\n",
       "      <td>-2188.756445</td>\n",
       "      <td>41</td>\n",
       "      <td>среднее</td>\n",
       "      <td>1</td>\n",
       "      <td>женат / замужем</td>\n",
       "      <td>0</td>\n",
       "      <td>M</td>\n",
       "      <td>сотрудник</td>\n",
       "      <td>0</td>\n",
       "      <td>144425.938277</td>\n",
       "      <td>покупка жилья для семьи</td>\n",
       "    </tr>\n",
       "    <tr>\n",
       "      <th>10</th>\n",
       "      <td>2</td>\n",
       "      <td>-4171.483647</td>\n",
       "      <td>36</td>\n",
       "      <td>высшее</td>\n",
       "      <td>0</td>\n",
       "      <td>женат / замужем</td>\n",
       "      <td>0</td>\n",
       "      <td>M</td>\n",
       "      <td>компаньон</td>\n",
       "      <td>0</td>\n",
       "      <td>113943.491460</td>\n",
       "      <td>покупка недвижимости</td>\n",
       "    </tr>\n",
       "    <tr>\n",
       "      <th>11</th>\n",
       "      <td>0</td>\n",
       "      <td>-792.701887</td>\n",
       "      <td>40</td>\n",
       "      <td>среднее</td>\n",
       "      <td>1</td>\n",
       "      <td>женат / замужем</td>\n",
       "      <td>0</td>\n",
       "      <td>F</td>\n",
       "      <td>сотрудник</td>\n",
       "      <td>0</td>\n",
       "      <td>77069.234271</td>\n",
       "      <td>покупка коммерческой недвижимости</td>\n",
       "    </tr>\n",
       "    <tr>\n",
       "      <th>12</th>\n",
       "      <td>0</td>\n",
       "      <td>NaN</td>\n",
       "      <td>65</td>\n",
       "      <td>среднее</td>\n",
       "      <td>1</td>\n",
       "      <td>гражданский брак</td>\n",
       "      <td>1</td>\n",
       "      <td>M</td>\n",
       "      <td>пенсионер</td>\n",
       "      <td>0</td>\n",
       "      <td>NaN</td>\n",
       "      <td>сыграть свадьбу</td>\n",
       "    </tr>\n",
       "    <tr>\n",
       "      <th>13</th>\n",
       "      <td>0</td>\n",
       "      <td>-1846.641941</td>\n",
       "      <td>54</td>\n",
       "      <td>неоконченное высшее</td>\n",
       "      <td>2</td>\n",
       "      <td>женат / замужем</td>\n",
       "      <td>0</td>\n",
       "      <td>F</td>\n",
       "      <td>сотрудник</td>\n",
       "      <td>0</td>\n",
       "      <td>130458.228857</td>\n",
       "      <td>приобретение автомобиля</td>\n",
       "    </tr>\n",
       "    <tr>\n",
       "      <th>14</th>\n",
       "      <td>0</td>\n",
       "      <td>-1844.956182</td>\n",
       "      <td>56</td>\n",
       "      <td>высшее</td>\n",
       "      <td>0</td>\n",
       "      <td>гражданский брак</td>\n",
       "      <td>1</td>\n",
       "      <td>F</td>\n",
       "      <td>компаньон</td>\n",
       "      <td>1</td>\n",
       "      <td>165127.911772</td>\n",
       "      <td>покупка жилой недвижимости</td>\n",
       "    </tr>\n",
       "    <tr>\n",
       "      <th>15</th>\n",
       "      <td>1</td>\n",
       "      <td>-972.364419</td>\n",
       "      <td>26</td>\n",
       "      <td>среднее</td>\n",
       "      <td>1</td>\n",
       "      <td>женат / замужем</td>\n",
       "      <td>0</td>\n",
       "      <td>F</td>\n",
       "      <td>сотрудник</td>\n",
       "      <td>0</td>\n",
       "      <td>116820.904450</td>\n",
       "      <td>строительство собственной недвижимости</td>\n",
       "    </tr>\n",
       "    <tr>\n",
       "      <th>16</th>\n",
       "      <td>0</td>\n",
       "      <td>-1719.934226</td>\n",
       "      <td>35</td>\n",
       "      <td>среднее</td>\n",
       "      <td>1</td>\n",
       "      <td>женат / замужем</td>\n",
       "      <td>0</td>\n",
       "      <td>F</td>\n",
       "      <td>сотрудник</td>\n",
       "      <td>0</td>\n",
       "      <td>289202.704229</td>\n",
       "      <td>недвижимость</td>\n",
       "    </tr>\n",
       "    <tr>\n",
       "      <th>17</th>\n",
       "      <td>0</td>\n",
       "      <td>-2369.999720</td>\n",
       "      <td>33</td>\n",
       "      <td>высшее</td>\n",
       "      <td>0</td>\n",
       "      <td>гражданский брак</td>\n",
       "      <td>1</td>\n",
       "      <td>M</td>\n",
       "      <td>сотрудник</td>\n",
       "      <td>0</td>\n",
       "      <td>90410.586745</td>\n",
       "      <td>строительство недвижимости</td>\n",
       "    </tr>\n",
       "    <tr>\n",
       "      <th>18</th>\n",
       "      <td>0</td>\n",
       "      <td>400281.136913</td>\n",
       "      <td>53</td>\n",
       "      <td>среднее</td>\n",
       "      <td>1</td>\n",
       "      <td>вдовец / вдова</td>\n",
       "      <td>2</td>\n",
       "      <td>F</td>\n",
       "      <td>пенсионер</td>\n",
       "      <td>0</td>\n",
       "      <td>56823.777243</td>\n",
       "      <td>на покупку подержанного автомобиля</td>\n",
       "    </tr>\n",
       "    <tr>\n",
       "      <th>19</th>\n",
       "      <td>0</td>\n",
       "      <td>-10038.818549</td>\n",
       "      <td>48</td>\n",
       "      <td>СРЕДНЕЕ</td>\n",
       "      <td>1</td>\n",
       "      <td>в разводе</td>\n",
       "      <td>3</td>\n",
       "      <td>F</td>\n",
       "      <td>сотрудник</td>\n",
       "      <td>0</td>\n",
       "      <td>242831.107982</td>\n",
       "      <td>на покупку своего автомобиля</td>\n",
       "    </tr>\n",
       "  </tbody>\n",
       "</table>\n",
       "</div>"
      ],
      "text/plain": [
       "    children  days_employed  dob_years            education  education_id  \\\n",
       "0          1   -8437.673028         42               высшее             0   \n",
       "1          1   -4024.803754         36              среднее             1   \n",
       "2          0   -5623.422610         33              Среднее             1   \n",
       "3          3   -4124.747207         32              среднее             1   \n",
       "4          0  340266.072047         53              среднее             1   \n",
       "5          0    -926.185831         27               высшее             0   \n",
       "6          0   -2879.202052         43               высшее             0   \n",
       "7          0    -152.779569         50              СРЕДНЕЕ             1   \n",
       "8          2   -6929.865299         35               ВЫСШЕЕ             0   \n",
       "9          0   -2188.756445         41              среднее             1   \n",
       "10         2   -4171.483647         36               высшее             0   \n",
       "11         0    -792.701887         40              среднее             1   \n",
       "12         0            NaN         65              среднее             1   \n",
       "13         0   -1846.641941         54  неоконченное высшее             2   \n",
       "14         0   -1844.956182         56               высшее             0   \n",
       "15         1    -972.364419         26              среднее             1   \n",
       "16         0   -1719.934226         35              среднее             1   \n",
       "17         0   -2369.999720         33               высшее             0   \n",
       "18         0  400281.136913         53              среднее             1   \n",
       "19         0  -10038.818549         48              СРЕДНЕЕ             1   \n",
       "\n",
       "       family_status  family_status_id gender income_type  debt  \\\n",
       "0    женат / замужем                 0      F   сотрудник     0   \n",
       "1    женат / замужем                 0      F   сотрудник     0   \n",
       "2    женат / замужем                 0      M   сотрудник     0   \n",
       "3    женат / замужем                 0      M   сотрудник     0   \n",
       "4   гражданский брак                 1      F   пенсионер     0   \n",
       "5   гражданский брак                 1      M   компаньон     0   \n",
       "6    женат / замужем                 0      F   компаньон     0   \n",
       "7    женат / замужем                 0      M   сотрудник     0   \n",
       "8   гражданский брак                 1      F   сотрудник     0   \n",
       "9    женат / замужем                 0      M   сотрудник     0   \n",
       "10   женат / замужем                 0      M   компаньон     0   \n",
       "11   женат / замужем                 0      F   сотрудник     0   \n",
       "12  гражданский брак                 1      M   пенсионер     0   \n",
       "13   женат / замужем                 0      F   сотрудник     0   \n",
       "14  гражданский брак                 1      F   компаньон     1   \n",
       "15   женат / замужем                 0      F   сотрудник     0   \n",
       "16   женат / замужем                 0      F   сотрудник     0   \n",
       "17  гражданский брак                 1      M   сотрудник     0   \n",
       "18    вдовец / вдова                 2      F   пенсионер     0   \n",
       "19         в разводе                 3      F   сотрудник     0   \n",
       "\n",
       "     total_income                                 purpose  \n",
       "0   253875.639453                           покупка жилья  \n",
       "1   112080.014102                 приобретение автомобиля  \n",
       "2   145885.952297                           покупка жилья  \n",
       "3   267628.550329              дополнительное образование  \n",
       "4   158616.077870                         сыграть свадьбу  \n",
       "5   255763.565419                           покупка жилья  \n",
       "6   240525.971920                       операции с жильем  \n",
       "7   135823.934197                             образование  \n",
       "8    95856.832424                   на проведение свадьбы  \n",
       "9   144425.938277                 покупка жилья для семьи  \n",
       "10  113943.491460                    покупка недвижимости  \n",
       "11   77069.234271       покупка коммерческой недвижимости  \n",
       "12            NaN                         сыграть свадьбу  \n",
       "13  130458.228857                 приобретение автомобиля  \n",
       "14  165127.911772              покупка жилой недвижимости  \n",
       "15  116820.904450  строительство собственной недвижимости  \n",
       "16  289202.704229                            недвижимость  \n",
       "17   90410.586745              строительство недвижимости  \n",
       "18   56823.777243      на покупку подержанного автомобиля  \n",
       "19  242831.107982            на покупку своего автомобиля  "
      ]
     },
     "execution_count": 3,
     "metadata": {},
     "output_type": "execute_result"
    }
   ],
   "source": [
    "data.head(20)"
   ]
  },
  {
   "cell_type": "markdown",
   "id": "1c12e233",
   "metadata": {
    "deletable": false,
    "id": "1c12e233"
   },
   "source": [
    "**Задание 3. Выведите основную информацию о датафрейме с помощью метода `info()`.**"
   ]
  },
  {
   "cell_type": "code",
   "execution_count": 4,
   "id": "2b757bca",
   "metadata": {
    "deletable": false,
    "id": "2b757bca",
    "outputId": "15376089-8dad-46c9-b520-c05248d43158"
   },
   "outputs": [
    {
     "name": "stdout",
     "output_type": "stream",
     "text": [
      "<class 'pandas.core.frame.DataFrame'>\n",
      "RangeIndex: 21525 entries, 0 to 21524\n",
      "Data columns (total 12 columns):\n",
      " #   Column            Non-Null Count  Dtype  \n",
      "---  ------            --------------  -----  \n",
      " 0   children          21525 non-null  int64  \n",
      " 1   days_employed     19351 non-null  float64\n",
      " 2   dob_years         21525 non-null  int64  \n",
      " 3   education         21525 non-null  object \n",
      " 4   education_id      21525 non-null  int64  \n",
      " 5   family_status     21525 non-null  object \n",
      " 6   family_status_id  21525 non-null  int64  \n",
      " 7   gender            21525 non-null  object \n",
      " 8   income_type       21525 non-null  object \n",
      " 9   debt              21525 non-null  int64  \n",
      " 10  total_income      19351 non-null  float64\n",
      " 11  purpose           21525 non-null  object \n",
      "dtypes: float64(2), int64(5), object(5)\n",
      "memory usage: 2.0+ MB\n"
     ]
    }
   ],
   "source": [
    "data.info()"
   ]
  },
  {
   "cell_type": "markdown",
   "id": "26fc8a93",
   "metadata": {},
   "source": [
    "- В датафрейме содержится основная информация о заёмщиках - каждый столбец соответствует определенному фактору (количество детей, число отработанных дней, возраст, образование, семейное положение, пол, тип дохода, наличие просроченных платежей по кредиту, доход и цель кредита. \n",
    "- Часть ячеек содержит пустые ячейки, в связи с этим придётся заняться предобработкой данных.\n",
    "- Сопоставив предстоящие гипотезы исследования, которые предстоит подтвердить или опровергнуть, с имеющимися данными, можно сделать вывод, что их достаточно для анализа - все факторы, перечисленные в зависимостях, есть в датафрейме."
   ]
  },
  {
   "cell_type": "markdown",
   "id": "333ec665",
   "metadata": {
    "deletable": false,
    "id": "333ec665"
   },
   "source": [
    "## Предобработка данных"
   ]
  },
  {
   "cell_type": "markdown",
   "id": "02d92d53",
   "metadata": {
    "deletable": false,
    "id": "02d92d53"
   },
   "source": [
    "### Удаление пропусков"
   ]
  },
  {
   "cell_type": "markdown",
   "id": "cd84967c",
   "metadata": {
    "deletable": false,
    "id": "cd84967c"
   },
   "source": [
    "**Задание 4. Выведите количество пропущенных значений для каждого столбца. Используйте комбинацию двух методов.**"
   ]
  },
  {
   "cell_type": "code",
   "execution_count": 5,
   "id": "7f9b2309",
   "metadata": {
    "deletable": false,
    "id": "7f9b2309",
    "outputId": "81f4d817-781c-465c-ed15-91ce4446810d"
   },
   "outputs": [
    {
     "data": {
      "text/plain": [
       "children               0\n",
       "days_employed       2174\n",
       "dob_years              0\n",
       "education              0\n",
       "education_id           0\n",
       "family_status          0\n",
       "family_status_id       0\n",
       "gender                 0\n",
       "income_type            0\n",
       "debt                   0\n",
       "total_income        2174\n",
       "purpose                0\n",
       "dtype: int64"
      ]
     },
     "execution_count": 5,
     "metadata": {},
     "output_type": "execute_result"
    }
   ],
   "source": [
    "data.isna().sum()"
   ]
  },
  {
   "cell_type": "markdown",
   "id": "db86e27b",
   "metadata": {
    "deletable": false,
    "id": "db86e27b"
   },
   "source": [
    "**Задание 5. В двух столбцах есть пропущенные значения. Один из них — `days_employed`. Пропуски в этом столбце вы обработаете на следующем этапе. Другой столбец с пропущенными значениями — `total_income` — хранит данные о доходах. На сумму дохода сильнее всего влияет тип занятости, поэтому заполнить пропуски в этом столбце нужно медианным значением по каждому типу из столбца `income_type`. Например, у человека с типом занятости `сотрудник` пропуск в столбце `total_income` должен быть заполнен медианным доходом среди всех записей с тем же типом.**"
   ]
  },
  {
   "cell_type": "code",
   "execution_count": 6,
   "id": "42006a93",
   "metadata": {
    "deletable": false,
    "id": "42006a93"
   },
   "outputs": [],
   "source": [
    "for t in data['income_type'].unique():\n",
    "    data.loc[(data['income_type'] == t) & (data['total_income'].isna()), 'total_income'] = (\n",
    "    data.loc[(data['income_type'] == t), 'total_income'].median())"
   ]
  },
  {
   "cell_type": "markdown",
   "id": "89da5ece",
   "metadata": {
    "deletable": false,
    "id": "89da5ece"
   },
   "source": [
    "### Обработка аномальных значений"
   ]
  },
  {
   "cell_type": "markdown",
   "id": "57964554",
   "metadata": {
    "deletable": false,
    "id": "57964554"
   },
   "source": [
    "**Задание 6. В данных могут встречаться артефакты (аномалии) — значения, которые не отражают действительность и появились по какой-то ошибке. таким артефактом будет отрицательное количество дней трудового стажа в столбце `days_employed`. Для реальных данных это нормально. Обработайте значения в этом столбце: замените все отрицательные значения положительными с помощью метода `abs()`.**"
   ]
  },
  {
   "cell_type": "code",
   "execution_count": 7,
   "id": "f6f055bf",
   "metadata": {
    "deletable": false,
    "id": "f6f055bf"
   },
   "outputs": [],
   "source": [
    "data['days_employed'] = data['days_employed'].abs()"
   ]
  },
  {
   "cell_type": "markdown",
   "id": "6107dd2f",
   "metadata": {
    "deletable": false,
    "id": "6107dd2f"
   },
   "source": [
    "**Задание 7. Для каждого типа занятости выведите медианное значение трудового стажа `days_employed` в днях.**"
   ]
  },
  {
   "cell_type": "code",
   "execution_count": 8,
   "id": "85a5faf6",
   "metadata": {
    "deletable": false,
    "id": "85a5faf6",
    "outputId": "801ef80e-522b-4668-f34e-565af7432bcf"
   },
   "outputs": [
    {
     "data": {
      "text/plain": [
       "income_type\n",
       "безработный        366413.652744\n",
       "в декрете            3296.759962\n",
       "госслужащий          2689.368353\n",
       "компаньон            1547.382223\n",
       "пенсионер          365213.306266\n",
       "предприниматель       520.848083\n",
       "сотрудник            1574.202821\n",
       "студент               578.751554\n",
       "Name: days_employed, dtype: float64"
      ]
     },
     "execution_count": 8,
     "metadata": {},
     "output_type": "execute_result"
    }
   ],
   "source": [
    "data.groupby('income_type')['days_employed'].agg('median')"
   ]
  },
  {
   "cell_type": "markdown",
   "id": "38d1a030",
   "metadata": {
    "deletable": false,
    "id": "38d1a030"
   },
   "source": [
    "У двух типов (безработные и пенсионеры) получатся аномально большие значения. Исправить такие значения сложно, поэтому оставьте их как есть. Тем более этот столбец не понадобится вам для исследования."
   ]
  },
  {
   "cell_type": "markdown",
   "id": "d8a9f147",
   "metadata": {
    "deletable": false,
    "id": "d8a9f147"
   },
   "source": [
    "**Задание 8. Выведите перечень уникальных значений столбца `children`.**"
   ]
  },
  {
   "cell_type": "code",
   "execution_count": 9,
   "id": "ef5056eb",
   "metadata": {
    "deletable": false,
    "id": "ef5056eb",
    "outputId": "6975b15c-7f95-4697-d16d-a0c79b657b03"
   },
   "outputs": [
    {
     "data": {
      "text/plain": [
       "array([ 1,  0,  3,  2, -1,  4, 20,  5], dtype=int64)"
      ]
     },
     "execution_count": 9,
     "metadata": {},
     "output_type": "execute_result"
    }
   ],
   "source": [
    "data['children'].unique()"
   ]
  },
  {
   "cell_type": "markdown",
   "id": "40b9ebf2",
   "metadata": {
    "deletable": false,
    "id": "40b9ebf2"
   },
   "source": [
    "**Задание 9. В столбце `children` есть два аномальных значения. Удалите строки, в которых встречаются такие аномальные значения из датафрейма `data`.**"
   ]
  },
  {
   "cell_type": "code",
   "execution_count": 10,
   "id": "3ff9801d",
   "metadata": {
    "deletable": false,
    "id": "3ff9801d"
   },
   "outputs": [],
   "source": [
    "data = data[(data['children'] != -1) & (data['children'] != 20)]"
   ]
  },
  {
   "cell_type": "markdown",
   "id": "bbc4d0ce",
   "metadata": {
    "deletable": false,
    "id": "bbc4d0ce"
   },
   "source": [
    "**Задание 10. Ещё раз выведите перечень уникальных значений столбца `children`, чтобы убедиться, что артефакты удалены.**"
   ]
  },
  {
   "cell_type": "code",
   "execution_count": 11,
   "id": "ad4fa8b7",
   "metadata": {
    "deletable": false,
    "id": "ad4fa8b7",
    "outputId": "b2097101-d49d-44d9-901b-32a65c9463d1"
   },
   "outputs": [
    {
     "data": {
      "text/plain": [
       "array([1, 0, 3, 2, 4, 5], dtype=int64)"
      ]
     },
     "execution_count": 11,
     "metadata": {},
     "output_type": "execute_result"
    }
   ],
   "source": [
    "data['children'].unique()"
   ]
  },
  {
   "cell_type": "markdown",
   "id": "75440b63",
   "metadata": {
    "deletable": false,
    "id": "75440b63"
   },
   "source": [
    "### Удаление пропусков (продолжение)"
   ]
  },
  {
   "cell_type": "markdown",
   "id": "f4ea573f",
   "metadata": {
    "deletable": false,
    "id": "f4ea573f"
   },
   "source": [
    "**Задание 11. Заполните пропуски в столбце `days_employed` медианными значениями по каждого типа занятости `income_type`.**"
   ]
  },
  {
   "cell_type": "code",
   "execution_count": 12,
   "id": "af6b1a7e",
   "metadata": {
    "deletable": false,
    "id": "af6b1a7e"
   },
   "outputs": [],
   "source": [
    "for t in data['income_type'].unique():\n",
    "    data.loc[(data['income_type'] == t) & (data['days_employed'].isna()), 'days_employed'] = (\n",
    "    data.loc[(data['income_type'] == t), 'days_employed'].median())"
   ]
  },
  {
   "cell_type": "markdown",
   "id": "2753f40d",
   "metadata": {
    "deletable": false,
    "id": "2753f40d"
   },
   "source": [
    "**Задание 12. Убедитесь, что все пропуски заполнены. Проверьте себя и ещё раз выведите количество пропущенных значений для каждого столбца с помощью двух методов.**"
   ]
  },
  {
   "cell_type": "code",
   "execution_count": 13,
   "id": "55f78bc2",
   "metadata": {
    "deletable": false,
    "id": "55f78bc2",
    "outputId": "8da1e4e1-358e-4e87-98c9-f261bce0a7b2"
   },
   "outputs": [
    {
     "data": {
      "text/plain": [
       "children            0\n",
       "days_employed       0\n",
       "dob_years           0\n",
       "education           0\n",
       "education_id        0\n",
       "family_status       0\n",
       "family_status_id    0\n",
       "gender              0\n",
       "income_type         0\n",
       "debt                0\n",
       "total_income        0\n",
       "purpose             0\n",
       "dtype: int64"
      ]
     },
     "execution_count": 13,
     "metadata": {},
     "output_type": "execute_result"
    }
   ],
   "source": [
    "data.isna().sum()"
   ]
  },
  {
   "cell_type": "markdown",
   "id": "ddc81e43",
   "metadata": {
    "deletable": false,
    "id": "ddc81e43"
   },
   "source": [
    "### Изменение типов данных"
   ]
  },
  {
   "cell_type": "markdown",
   "id": "42d19d24",
   "metadata": {
    "deletable": false,
    "id": "42d19d24"
   },
   "source": [
    "**Задание 13. Замените вещественный тип данных в столбце `total_income` на целочисленный с помощью метода `astype()`.**"
   ]
  },
  {
   "cell_type": "code",
   "execution_count": 14,
   "id": "920b65ad",
   "metadata": {
    "deletable": false,
    "id": "920b65ad"
   },
   "outputs": [
    {
     "name": "stdout",
     "output_type": "stream",
     "text": [
      "<class 'pandas.core.frame.DataFrame'>\n",
      "Int64Index: 21402 entries, 0 to 21524\n",
      "Data columns (total 12 columns):\n",
      " #   Column            Non-Null Count  Dtype  \n",
      "---  ------            --------------  -----  \n",
      " 0   children          21402 non-null  int64  \n",
      " 1   days_employed     21402 non-null  float64\n",
      " 2   dob_years         21402 non-null  int64  \n",
      " 3   education         21402 non-null  object \n",
      " 4   education_id      21402 non-null  int64  \n",
      " 5   family_status     21402 non-null  object \n",
      " 6   family_status_id  21402 non-null  int64  \n",
      " 7   gender            21402 non-null  object \n",
      " 8   income_type       21402 non-null  object \n",
      " 9   debt              21402 non-null  int64  \n",
      " 10  total_income      21402 non-null  float64\n",
      " 11  purpose           21402 non-null  object \n",
      "dtypes: float64(2), int64(5), object(5)\n",
      "memory usage: 11.8 MB\n",
      "<class 'pandas.core.frame.DataFrame'>\n",
      "Int64Index: 21402 entries, 0 to 21524\n",
      "Data columns (total 12 columns):\n",
      " #   Column            Non-Null Count  Dtype  \n",
      "---  ------            --------------  -----  \n",
      " 0   children          21402 non-null  int64  \n",
      " 1   days_employed     21402 non-null  float64\n",
      " 2   dob_years         21402 non-null  uint8  \n",
      " 3   education         21402 non-null  object \n",
      " 4   education_id      21402 non-null  int64  \n",
      " 5   family_status     21402 non-null  object \n",
      " 6   family_status_id  21402 non-null  int64  \n",
      " 7   gender            21402 non-null  object \n",
      " 8   income_type       21402 non-null  object \n",
      " 9   debt              21402 non-null  int64  \n",
      " 10  total_income      21402 non-null  uint32 \n",
      " 11  purpose           21402 non-null  object \n",
      "dtypes: float64(1), int64(4), object(5), uint32(1), uint8(1)\n",
      "memory usage: 11.6 MB\n"
     ]
    }
   ],
   "source": [
    "data.info(memory_usage='deep')\n",
    "data['total_income'] = data['total_income'].astype(int)\n",
    "data['total_income'] = data['total_income'].astype('uint32')\n",
    "data['dob_years'] = data['dob_years'].astype('uint8')\n",
    "data.info(memory_usage='deep')"
   ]
  },
  {
   "cell_type": "markdown",
   "id": "80c420ba",
   "metadata": {
    "deletable": false,
    "id": "80c420ba"
   },
   "source": [
    "### Обработка дубликатов"
   ]
  },
  {
   "cell_type": "markdown",
   "id": "dc587695",
   "metadata": {
    "deletable": false,
    "id": "dc587695"
   },
   "source": [
    "**Задание 14. Выведите на экран количество строк-дубликатов в данных. Если такие строки присутствуют, удалите их.**"
   ]
  },
  {
   "cell_type": "code",
   "execution_count": 15,
   "id": "3ee445e4",
   "metadata": {
    "deletable": false,
    "id": "3ee445e4",
    "outputId": "9684deba-1934-42d1-99e1-cda61740f822"
   },
   "outputs": [
    {
     "data": {
      "text/plain": [
       "54"
      ]
     },
     "execution_count": 15,
     "metadata": {},
     "output_type": "execute_result"
    }
   ],
   "source": [
    "data.duplicated().sum()"
   ]
  },
  {
   "cell_type": "code",
   "execution_count": 16,
   "id": "8575fe05",
   "metadata": {
    "deletable": false,
    "id": "8575fe05"
   },
   "outputs": [],
   "source": [
    "data = data.drop_duplicates()"
   ]
  },
  {
   "cell_type": "markdown",
   "id": "9771a76c",
   "metadata": {
    "deletable": false,
    "id": "9771a76c"
   },
   "source": [
    "**Задание 15. Обработайте неявные дубликаты в столбце `education`. В этом столбце есть одни и те же значения, но записанные по-разному: с использованием заглавных и строчных букв. Приведите их к нижнему регистру. Проверьте остальные столбцы.**"
   ]
  },
  {
   "cell_type": "code",
   "execution_count": 17,
   "id": "a9f8e2bf",
   "metadata": {
    "deletable": false,
    "id": "a9f8e2bf"
   },
   "outputs": [],
   "source": [
    "data['education'] = data['education'].str.lower()"
   ]
  },
  {
   "cell_type": "markdown",
   "id": "9904cf55",
   "metadata": {
    "deletable": false,
    "id": "9904cf55"
   },
   "source": [
    "### Категоризация данных"
   ]
  },
  {
   "cell_type": "markdown",
   "id": "72fcc8a2",
   "metadata": {
    "deletable": false,
    "id": "72fcc8a2"
   },
   "source": [
    "**Задание 16. На основании диапазонов, указанных ниже, создайте в датафрейме `data` столбец `total_income_category` с категориями:**\n",
    "\n",
    "- 0–30000 — `'E'`;\n",
    "- 30001–50000 — `'D'`;\n",
    "- 50001–200000 — `'C'`;\n",
    "- 200001–1000000 — `'B'`;\n",
    "- 1000001 и выше — `'A'`.\n",
    "\n",
    "\n",
    "**Например, кредитополучателю с доходом 25000 нужно назначить категорию `'E'`, а клиенту, получающему 235000, — `'B'`. Используйте собственную функцию с именем `categorize_income()` и метод `apply()`.**"
   ]
  },
  {
   "cell_type": "code",
   "execution_count": 18,
   "id": "e1771346",
   "metadata": {
    "deletable": false,
    "id": "e1771346"
   },
   "outputs": [],
   "source": [
    "def categorize_income(income):\n",
    "    try:\n",
    "        if 0 <= income <= 30000:\n",
    "            return 'E'\n",
    "        elif 30001 <= income <= 50000:\n",
    "            return 'D'\n",
    "        elif 50001 <= income <= 200000:\n",
    "            return 'C'\n",
    "        elif 200001 <= income <= 1000000:\n",
    "            return 'B'\n",
    "        elif income >= 1000001:\n",
    "            return 'A'\n",
    "    except:\n",
    "        pass"
   ]
  },
  {
   "cell_type": "code",
   "execution_count": 19,
   "id": "d5f3586d",
   "metadata": {
    "deletable": false,
    "id": "d5f3586d"
   },
   "outputs": [],
   "source": [
    "data['total_income_category'] = data['total_income'].apply(categorize_income)"
   ]
  },
  {
   "cell_type": "markdown",
   "id": "dde49b5c",
   "metadata": {
    "deletable": false,
    "id": "dde49b5c"
   },
   "source": [
    "**Задание 17. Выведите на экран перечень уникальных целей взятия кредита из столбца `purpose`.**"
   ]
  },
  {
   "cell_type": "code",
   "execution_count": 20,
   "id": "f67ce9b3",
   "metadata": {
    "deletable": false,
    "id": "f67ce9b3",
    "outputId": "673c12d9-7d7e-4ae0-9812-c622c89dd244"
   },
   "outputs": [
    {
     "data": {
      "text/plain": [
       "array(['покупка жилья', 'приобретение автомобиля',\n",
       "       'дополнительное образование', 'сыграть свадьбу',\n",
       "       'операции с жильем', 'образование', 'на проведение свадьбы',\n",
       "       'покупка жилья для семьи', 'покупка недвижимости',\n",
       "       'покупка коммерческой недвижимости', 'покупка жилой недвижимости',\n",
       "       'строительство собственной недвижимости', 'недвижимость',\n",
       "       'строительство недвижимости', 'на покупку подержанного автомобиля',\n",
       "       'на покупку своего автомобиля',\n",
       "       'операции с коммерческой недвижимостью',\n",
       "       'строительство жилой недвижимости', 'жилье',\n",
       "       'операции со своей недвижимостью', 'автомобили',\n",
       "       'заняться образованием', 'сделка с подержанным автомобилем',\n",
       "       'получение образования', 'автомобиль', 'свадьба',\n",
       "       'получение дополнительного образования', 'покупка своего жилья',\n",
       "       'операции с недвижимостью', 'получение высшего образования',\n",
       "       'свой автомобиль', 'сделка с автомобилем',\n",
       "       'профильное образование', 'высшее образование',\n",
       "       'покупка жилья для сдачи', 'на покупку автомобиля', 'ремонт жилью',\n",
       "       'заняться высшим образованием'], dtype=object)"
      ]
     },
     "execution_count": 20,
     "metadata": {},
     "output_type": "execute_result"
    }
   ],
   "source": [
    "data['purpose'].unique()"
   ]
  },
  {
   "cell_type": "markdown",
   "id": "85d0aef0",
   "metadata": {
    "deletable": false,
    "id": "85d0aef0"
   },
   "source": [
    "**Задание 18. Создайте функцию, которая на основании данных из столбца `purpose` сформирует новый столбец `purpose_category`, в который войдут следующие категории:**\n",
    "\n",
    "- `'операции с автомобилем'`,\n",
    "- `'операции с недвижимостью'`,\n",
    "- `'проведение свадьбы'`,\n",
    "- `'получение образования'`.\n",
    "\n",
    "**Например, если в столбце `purpose` находится подстрока `'на покупку автомобиля'`, то в столбце `purpose_category` должна появиться строка `'операции с автомобилем'`.**\n",
    "\n",
    "**Используйте собственную функцию с именем `categorize_purpose()` и метод `apply()`. Изучите данные в столбце `purpose` и определите, какие подстроки помогут вам правильно определить категорию.**"
   ]
  },
  {
   "cell_type": "code",
   "execution_count": 21,
   "id": "e149fab4",
   "metadata": {
    "deletable": false,
    "id": "e149fab4"
   },
   "outputs": [],
   "source": [
    "def categorize_purpose(row):\n",
    "    try:\n",
    "        if 'автом' in row:\n",
    "            return 'операции с автомобилем'\n",
    "        elif 'жил' in row or 'недвиж' in row:\n",
    "            return 'операции с недвижимостью'\n",
    "        elif 'свад' in row:\n",
    "            return 'проведение свадьбы'\n",
    "        elif 'образов' in row:\n",
    "            return 'получение образования'\n",
    "    except:\n",
    "        return 'нет категории'"
   ]
  },
  {
   "cell_type": "code",
   "execution_count": 22,
   "id": "bf36e69b",
   "metadata": {
    "deletable": false,
    "id": "bf36e69b"
   },
   "outputs": [],
   "source": [
    "data['purpose_category'] = data['purpose'].apply(categorize_purpose)"
   ]
  },
  {
   "cell_type": "markdown",
   "id": "09b242bf",
   "metadata": {
    "deletable": false,
    "editable": false,
    "id": "09b242bf"
   },
   "source": [
    "## Исследуйте данные и ответьте на вопросы"
   ]
  },
  {
   "cell_type": "markdown",
   "id": "c5d66278",
   "metadata": {
    "deletable": false,
    "editable": false,
    "id": "c5d66278"
   },
   "source": [
    "**Задание 19. Есть ли зависимость между количеством детей и возвратом кредита в срок?**"
   ]
  },
  {
   "cell_type": "code",
   "execution_count": 23,
   "id": "f3ff59bf",
   "metadata": {
    "id": "2cacfc4a"
   },
   "outputs": [
    {
     "name": "stdout",
     "output_type": "stream",
     "text": [
      "children\n",
      "0    14107\n",
      "1     4809\n",
      "2     2052\n",
      "3      330\n",
      "4       41\n",
      "5        9\n",
      "Name: children, dtype: int64\n"
     ]
    }
   ],
   "source": [
    "# Ваш код будет здесь. Вы можете создавать новые ячейки.\n",
    "children_debt = data.groupby('children')['debt'].sum()\n",
    "children_all = data.groupby('children')['children'].count()\n",
    "print(children_all)"
   ]
  },
  {
   "cell_type": "markdown",
   "id": "1676ff47",
   "metadata": {},
   "source": [
    "Для ответа на данный вопрос было создано две переменных типа **Series**, в `children_debt` хранится число людей (сгруппированных по количеству детей), имевших задолженность по возврату кредитов, в `children_all` - общее число людей (сгруппированных по количеству детей).\n",
    "\n",
    "Также были оценены размеры выборок - очевидно, что число многодетных (3 и более детей) человек сильно меньше остальных.\n",
    "\n",
    "Теперь можно посчитать процент людей, вернувших кредит в срок, в зависимости от числа детей:"
   ]
  },
  {
   "cell_type": "code",
   "execution_count": 24,
   "id": "eedf156c",
   "metadata": {},
   "outputs": [
    {
     "name": "stdout",
     "output_type": "stream",
     "text": [
      "Процент возврата кредита в срок для 0 детей: 92.46%\n",
      "Процент возврата кредита в срок для 1 детей: 90.77%\n",
      "Процент возврата кредита в срок для 2 детей: 90.55%\n",
      "Процент возврата кредита в срок для 3 детей: 91.82%\n",
      "Процент возврата кредита в срок для 4 детей: 90.24%\n",
      "Процент возврата кредита в срок для 5 детей: 100.00%\n"
     ]
    }
   ],
   "source": [
    "for index in children_debt.index:\n",
    "    print(f'Процент возврата кредита в срок для {index} детей: {(children_all[index]-children_debt[index])/children_all[index]:.2%}')"
   ]
  },
  {
   "cell_type": "code",
   "execution_count": 25,
   "id": "4ec4ebb8",
   "metadata": {},
   "outputs": [
    {
     "data": {
      "text/html": [
       "<div>\n",
       "<style scoped>\n",
       "    .dataframe tbody tr th:only-of-type {\n",
       "        vertical-align: middle;\n",
       "    }\n",
       "\n",
       "    .dataframe tbody tr th {\n",
       "        vertical-align: top;\n",
       "    }\n",
       "\n",
       "    .dataframe thead th {\n",
       "        text-align: right;\n",
       "    }\n",
       "</style>\n",
       "<table border=\"1\" class=\"dataframe\">\n",
       "  <thead>\n",
       "    <tr style=\"text-align: right;\">\n",
       "      <th></th>\n",
       "      <th>children</th>\n",
       "      <th>debt</th>\n",
       "    </tr>\n",
       "  </thead>\n",
       "  <tbody>\n",
       "    <tr>\n",
       "      <th>0</th>\n",
       "      <td>0</td>\n",
       "      <td>7.535266</td>\n",
       "    </tr>\n",
       "    <tr>\n",
       "      <th>1</th>\n",
       "      <td>1</td>\n",
       "      <td>9.232689</td>\n",
       "    </tr>\n",
       "    <tr>\n",
       "      <th>2</th>\n",
       "      <td>2</td>\n",
       "      <td>9.454191</td>\n",
       "    </tr>\n",
       "    <tr>\n",
       "      <th>3</th>\n",
       "      <td>3</td>\n",
       "      <td>8.181818</td>\n",
       "    </tr>\n",
       "    <tr>\n",
       "      <th>4</th>\n",
       "      <td>4</td>\n",
       "      <td>9.756098</td>\n",
       "    </tr>\n",
       "    <tr>\n",
       "      <th>5</th>\n",
       "      <td>5</td>\n",
       "      <td>0.000000</td>\n",
       "    </tr>\n",
       "  </tbody>\n",
       "</table>\n",
       "</div>"
      ],
      "text/plain": [
       "   children      debt\n",
       "0         0  7.535266\n",
       "1         1  9.232689\n",
       "2         2  9.454191\n",
       "3         3  8.181818\n",
       "4         4  9.756098\n",
       "5         5  0.000000"
      ]
     },
     "execution_count": 25,
     "metadata": {},
     "output_type": "execute_result"
    }
   ],
   "source": [
    "pivot_table_debtors = data.pivot_table(index='children', values='debt', aggfunc='sum')\n",
    "pivot_table_debtors = pivot_table_debtors.reset_index()\n",
    "pivot_table_debtors['debt'] = pivot_table_debtors['debt']*100/children_all\n",
    "pivot_table_debtors"
   ]
  },
  {
   "cell_type": "markdown",
   "id": "e33edfb3",
   "metadata": {},
   "source": [
    "Промежуточные выводы следующие: чаще всего возвращают кредит либо люди без детей, либо с тремя детьми. При этом заметен сильно большой разбег для людей с 4 и 5 детьми: первые реже всех платят в срок, а вторые платят в срок всегда.\n",
    "\n",
    "Во-первых, это связано с тем, что выборки для этих групп малы по сравнению с остальными, и могут быть неинформативными.\n",
    "Во-вторых, стоит проверить другие зависимости."
   ]
  },
  {
   "cell_type": "code",
   "execution_count": 26,
   "id": "d2772df4",
   "metadata": {},
   "outputs": [
    {
     "name": "stdout",
     "output_type": "stream",
     "text": [
      "total_income_category\n",
      "A      1\n",
      "B     88\n",
      "C    236\n",
      "D      5\n",
      "Name: children, dtype: int64\n",
      "total_income_category\n",
      "B     7\n",
      "C    34\n",
      "Name: children, dtype: int64\n",
      "total_income_category\n",
      "B    4\n",
      "C    4\n",
      "D    1\n",
      "Name: children, dtype: int64\n"
     ]
    }
   ],
   "source": [
    "for children in range(3,6):\n",
    "    children_count=data[data['children']==children]\n",
    "    print(children_count.groupby('total_income_category')['children'].count())"
   ]
  },
  {
   "cell_type": "markdown",
   "id": "1658120e",
   "metadata": {},
   "source": [
    "Было принято решение проверить финансовую отчетность всех многодетных людей, и по вышеполученным данным можно сделать вывод, что, в основном, многодетные люди зарабатывают от 50 т.р. до 200 т.р., вторая по популярности категория - более 200 т.р. То есть, с этой точки зрения преобладающее большинство многодетных людей - обеспеченные.\n",
    "\n",
    "Поскольку вряд ли все люди с пятью детьми убеждены всегда возвращать кредит в срок, а люди с четырьмя, наоборот, в 10% случаев не стремятся этого сделать, такая статистика была получена из-за разных размеров выборок.\n",
    "\n",
    "Чтобы получить более точные данные, следует все многодетные семьи объединить:"
   ]
  },
  {
   "cell_type": "code",
   "execution_count": 27,
   "id": "2c049283",
   "metadata": {},
   "outputs": [
    {
     "name": "stdout",
     "output_type": "stream",
     "text": [
      "Процент возврата кредита в срок для 0 детей: 92.46%\n",
      "Процент возврата кредита в срок для 1 детей: 90.77%\n",
      "Процент возврата кредита в срок для 2 детей: 90.55%\n",
      "Процент возврата кредита в срок для 3 детей: 91.84%\n"
     ]
    }
   ],
   "source": [
    "children_debt[3]+=children_debt[4]\n",
    "children_debt[3]+=children_debt[5]\n",
    "children_debt = children_debt.loc[:3]\n",
    "\n",
    "children_all[3]+=children_all[4]\n",
    "children_all[3]+=children_all[5]\n",
    "children_all = children_all.loc[:3]\n",
    "\n",
    "for index in children_debt.index:\n",
    "    print(f'Процент возврата кредита в срок для {index} детей: {(children_all[index]-children_debt[index])/children_all[index]:.2%}')"
   ]
  },
  {
   "cell_type": "markdown",
   "id": "3a6b99ec",
   "metadata": {
    "deletable": false,
    "id": "3a6b99ec"
   },
   "source": [
    "**Вывод:** \n",
    "\n",
    "После всех проделанных действий были получены более точные результаты: чаще всего возвращают кредит в срок люди без детей, и этой информации можно доверять, поскольку выборка для такой категории самая большая. Вероятно, такие люди - карьеристы, и в большинстве случаев не теряют платежеспособность.\n",
    "\n",
    "Затем идет категория многодетных людей. Она появилась в процессе исследования, в ней соединено 3 категории, но на результаты это не сильно повлияло: до слияния процент возврата у людей с тремя детьми был **91.82%**, а после слияния у категории людей с тремя и более детей повысился всего на 0.02%. Зато таким образом удалось избавиться от аномально большого процента возврата в срок для людей с 5 детьми. \n",
    "\n",
    "Реже всех возвращают кредит в срок люди с одним или двумя детьми. Результаты для этих двух категорий не сильно отличаются (хотя выборка людей с одним ребенком более, чем в 2 раза больше), поэтому, возможно, имеет смысл таким же образом объединить их в одну категорию, процент возврата от этого действия изменится лишь на десятые процента.\n",
    "\n",
    "Отвечая на поставленный в задаче вопрос, можно сказать, что зависимость между количеством детей и возвратом кредита в срок есть, но для более детального исследования требуются равнозначные выборки."
   ]
  },
  {
   "cell_type": "markdown",
   "id": "97be82ca",
   "metadata": {
    "deletable": false,
    "editable": false,
    "id": "97be82ca"
   },
   "source": [
    "**Задание 20. Есть ли зависимость между семейным положением и возвратом кредита в срок?**"
   ]
  },
  {
   "cell_type": "code",
   "execution_count": 28,
   "id": "dc3f7ee8",
   "metadata": {
    "id": "dc3f7ee8"
   },
   "outputs": [
    {
     "name": "stdout",
     "output_type": "stream",
     "text": [
      "family_status\n",
      "Не женат / не замужем     2796\n",
      "в разводе                 1189\n",
      "вдовец / вдова             951\n",
      "гражданский брак          4146\n",
      "женат / замужем          12266\n",
      "Name: family_status, dtype: int64\n",
      "Процент возврата кредита в срок для семейного положения \"Не женат / не замужем\" : 90.24%\n",
      "Процент возврата кредита в срок для семейного положения \"в разводе\" : 92.94%\n",
      "Процент возврата кредита в срок для семейного положения \"вдовец / вдова\" : 93.38%\n",
      "Процент возврата кредита в срок для семейного положения \"гражданский брак\" : 90.71%\n",
      "Процент возврата кредита в срок для семейного положения \"женат / замужем\" : 92.44%\n"
     ]
    }
   ],
   "source": [
    "# Ваш код будет здесь. Вы можете создавать новые ячейки.\n",
    "family_status_all = data.groupby('family_status')['family_status'].count()\n",
    "family_status_debt = data.groupby('family_status')['debt'].sum()\n",
    "print(family_status_all)\n",
    "for index in family_status_all.index:\n",
    "    print(f'Процент возврата кредита в срок для семейного положения \"{index}\" : {(family_status_all[index]-family_status_debt[index])/family_status_all[index]:.2%}')\n"
   ]
  },
  {
   "cell_type": "code",
   "execution_count": 29,
   "id": "d3bf9a72",
   "metadata": {},
   "outputs": [
    {
     "data": {
      "text/plain": [
       "1572.328284580025"
      ]
     },
     "execution_count": 29,
     "metadata": {},
     "output_type": "execute_result"
    }
   ],
   "source": [
    "data[data['family_status']=='Не женат / не замужем']['days_employed'].median()"
   ]
  },
  {
   "cell_type": "code",
   "execution_count": 30,
   "id": "ff83d576",
   "metadata": {},
   "outputs": [
    {
     "data": {
      "text/plain": [
       "2186.0812054161734"
      ]
     },
     "execution_count": 30,
     "metadata": {},
     "output_type": "execute_result"
    }
   ],
   "source": [
    "data[data['family_status']=='в разводе']['days_employed'].median()"
   ]
  },
  {
   "cell_type": "code",
   "execution_count": 31,
   "id": "1ef38934",
   "metadata": {},
   "outputs": [
    {
     "data": {
      "text/plain": [
       "337768.2600622073"
      ]
     },
     "execution_count": 31,
     "metadata": {},
     "output_type": "execute_result"
    }
   ],
   "source": [
    "data[data['family_status']=='вдовец / вдова']['days_employed'].median()"
   ]
  },
  {
   "cell_type": "markdown",
   "id": "1cef7837",
   "metadata": {
    "deletable": false,
    "id": "1cef7837"
   },
   "source": [
    "**Вывод:** \n",
    "Метод поиска ответа на вопрос был такой же, как и в предыдущем задании. Нашли общее количество людей в каждой группе, поместили в переменную `family_status_all`. После этого нашли для каждой группы число людей, не вернувших кредит в срок (`family_status_debt`).\n",
    "\n",
    "Для категорий *вдовец/вдова* и *в разводе* процент возврата кредита в срок больше, чем для других категорий, но выборки по этим категориям сильно меньше, чем по остальным, поэтому в точности результата нельзя быть уверенным.\n",
    "\n",
    "Довольно странно, что категория *Не женат / не замужем* возвращает кредит в срок реже всех, при этом такие же холостые люди после брака (*в разводе*) занимают второе место в этом рейтинге.\n",
    "\n",
    "Возможно, люди, не бывавшие в браке, в большинстве своём еще молоды, и их финановое положение еще недостаточно стабильно, но проверить это невозможно из-за отсутствия данных о возрасте клиентов. Косвенная оценка возраста - трудовой стаж, и его медианные значения действительно отражают, что люди в разводе должны быть несколько старше.\n",
    "\n",
    "Для вдовцов косвенная оценка возраста получилась аномально большой, что в нашей выборке свойственно пенсионерам. В целом, и так логично, что большинство людей из этой категории будет приходиться именно на пенсионеров.\n",
    "\n",
    "Ответ к задаче: зависимость между семейным положением и возвратом кредита в срок есть, но ее следует проверять на равнозначных выборках, т.к., скорее всего, семейные пары должны быть самыми платёжеспособными, а в этом исследовании это оказалось не так."
   ]
  },
  {
   "cell_type": "markdown",
   "id": "1e8b2fca",
   "metadata": {
    "deletable": false,
    "editable": false,
    "id": "1e8b2fca"
   },
   "source": [
    "**Задание 21. Есть ли зависимость между уровнем дохода и возвратом кредита в срок?**"
   ]
  },
  {
   "cell_type": "code",
   "execution_count": 32,
   "id": "cd7e3720",
   "metadata": {
    "id": "cd7e3720"
   },
   "outputs": [
    {
     "name": "stdout",
     "output_type": "stream",
     "text": [
      "total_income_category\n",
      "A       25\n",
      "B     5014\n",
      "C    15938\n",
      "D      349\n",
      "E       22\n",
      "Name: total_income_category, dtype: int64\n",
      "Процент возврата кредита в срок для уровня дохода \"A\" : 92.00%\n",
      "Процент возврата кредита в срок для уровня дохода \"B\" : 92.94%\n",
      "Процент возврата кредита в срок для уровня дохода \"C\" : 91.51%\n",
      "Процент возврата кредита в срок для уровня дохода \"D\" : 93.98%\n",
      "Процент возврата кредита в срок для уровня дохода \"E\" : 90.91%\n"
     ]
    }
   ],
   "source": [
    "# Ваш код будет здесь. Вы можете создавать новые ячейки.\n",
    "total_income_category_all = data.groupby('total_income_category')['total_income_category'].count()\n",
    "total_income_category_debt = data.groupby('total_income_category')['debt'].sum()\n",
    "print(total_income_category_all)\n",
    "for index in total_income_category_all.index:\n",
    "    print(f'Процент возврата кредита в срок для уровня дохода \"{index}\" : {(total_income_category_all[index]-total_income_category_debt[index])/total_income_category_all[index]:.2%}')\n"
   ]
  },
  {
   "cell_type": "markdown",
   "id": "e8593def",
   "metadata": {
    "deletable": false,
    "id": "e8593def"
   },
   "source": [
    "**Вывод:** \n",
    "Уровень дохода оценивался по сформированному в *Задании 16* столбцу `total_income_category`.\n",
    "\n",
    "В датафрейме практически нет данных для категорий уровня дохода *A* и *E* (т.е. самых обеспеченных и самых необеспеченных людей), поэтому эти выборки могут содержать ошибочные данные. При увеличении этих выборок статистика возвратов кредитов в срок может поменяться как в большую, так и в меньшую стороны. С этой точки зрения наиболее информативными являются категории *B* и *C*. \n",
    "\n",
    "Категория *B* (уровень дохода от 200 т.р. до 1 млн. р.) имеет больший процент вовзрата кредита в срок по сравнению с категорией *С* (уровень дохода от 50 т.р. до 200 т.р.), что логично, т.к. чем меньше человек зарабатывает, тем больше риск того, что он не погасит кредит. \n",
    "\n",
    "А вот люди с уровнем дохода от 30 т.р. до 50 т.р. (категория *D*) по имеющимся данным возвращают кредит в срок чаще, чем выше перечисленные. Скорее всего, это связано с тем, что данных по этой категории сильно меньше, чем по *B* и *C*.\n",
    "\n",
    "Зависимость между уровнем дохода и возвратом кредита в срок есть, и, скорее всего, при равнозначных выборках процент возврата в срок будет постепенно уменьшаться от *A* к *E*."
   ]
  },
  {
   "cell_type": "markdown",
   "id": "99ecbd1f",
   "metadata": {
    "deletable": false,
    "editable": false,
    "id": "99ecbd1f"
   },
   "source": [
    "**Задание 22. Как разные цели кредита влияют на его возврат в срок?**"
   ]
  },
  {
   "cell_type": "code",
   "execution_count": 33,
   "id": "2b687290",
   "metadata": {
    "id": "2b687290"
   },
   "outputs": [
    {
     "name": "stdout",
     "output_type": "stream",
     "text": [
      "purpose_category\n",
      "операции с автомобилем       4281\n",
      "операции с недвижимостью    10754\n",
      "получение образования        3989\n",
      "проведение свадьбы           2324\n",
      "Name: purpose_category, dtype: int64\n",
      "Процент возврата кредита в срок для уровня дохода \"операции с автомобилем\" : 90.66%\n",
      "Процент возврата кредита в срок для уровня дохода \"операции с недвижимостью\" : 92.75%\n",
      "Процент возврата кредита в срок для уровня дохода \"получение образования\" : 90.75%\n",
      "Процент возврата кредита в срок для уровня дохода \"проведение свадьбы\" : 92.13%\n"
     ]
    }
   ],
   "source": [
    "# Ваш код будет здесь. Вы можете создавать новые ячейки.\n",
    "purpose_category_all = data.groupby('purpose_category')['purpose_category'].count()\n",
    "purpose_category_debt = data.groupby('purpose_category')['debt'].sum()\n",
    "print(purpose_category_all)\n",
    "stat_for_debts_purpose_category = []\n",
    "for index in purpose_category_all.index:\n",
    "    stat_for_debts_purpose_category.append((purpose_category_all[index]-purpose_category_debt[index])/purpose_category_all[index])\n",
    "    print(f'Процент возврата кредита в срок для уровня дохода \"{index}\" : {stat_for_debts_purpose_category[-1]:.2%}')"
   ]
  },
  {
   "cell_type": "markdown",
   "id": "b4bb2ce6",
   "metadata": {
    "deletable": false,
    "id": "b4bb2ce6"
   },
   "source": [
    "**Вывод:** \n",
    "В данном случае все выборки имеют значительное количество данных, нет существенно малых или существенно больших по размеру категорий. И полученная статистика вполне соответствует действительности: чаще всего платят в срок люди, взявшие кредит на недвижимость (учитывая, что это, как правило, самые большие кредиты, такие клиенты самые надёжные). После них идут люди, которые берут кредит для проведения свадьбы (что тоже вполне логично, ведь после свадьбы появляется семейный бюджет и платежеспособность растёт).\n",
    "\n",
    "Равнозначные выборки операций с автомобилем и образованием имеют равносильные результаты: процент возврата в срок практически одинаков и меньше вышеперечисленных категорий. Здесь тоже есть логическое объяснение. Например, в случае с автомобилями, могут возникать непредвиденные ремонты, ДТП и т.д., что сильно повлияет на платежеспособность клиента. А в случае с получением образования можно дополнительно проверить информацию об уровне образования и уровне дохода таких клиентов, и, вероятно, эти факторы влияют на такой низкий процент возврата."
   ]
  },
  {
   "cell_type": "markdown",
   "id": "09c3ac4c",
   "metadata": {
    "deletable": false,
    "editable": false,
    "id": "09c3ac4c"
   },
   "source": [
    "**Задание 23. Приведите возможные причины появления пропусков в исходных данных.**"
   ]
  },
  {
   "cell_type": "markdown",
   "id": "9da2ceda",
   "metadata": {
    "deletable": false,
    "id": "9da2ceda"
   },
   "source": [
    "*Ответ:* причинами появления пропусков в исходных данных могли стать такие факторы, как:\n",
    "- отсутствие официального дохода;\n",
    "- человеческий фактор - сотрудник забыл внести эти данные или они не были предоставлены."
   ]
  },
  {
   "cell_type": "markdown",
   "id": "7b0487d6",
   "metadata": {
    "deletable": false,
    "editable": false,
    "id": "7b0487d6"
   },
   "source": [
    "**Задание 24. Объясните, почему заполнить пропуски медианным значением — лучшее решение для количественных переменных.**"
   ]
  },
  {
   "cell_type": "markdown",
   "id": "7ecf2b8e",
   "metadata": {
    "deletable": false,
    "id": "7ecf2b8e"
   },
   "source": [
    "*Ответ:* пропуски были обнаружены только в количестве отработанных дней и доходе. Если сгруппировать данные по виду занятости человека и найти медианы для этих двух значений, то мы получим что-то вроде тренда для каждой группы. То есть, медианы отразят приближенные к часто встречающимся числам значения. \n",
    "\n",
    "Если же вместо медиан взять математическое ожидание, то такое значение может дать неточное описание из-за выбросов. Таким образом, среднее может оказаться на порядок выше или ниже часто встречающихся значений, и именно поэтому заполнение пропусков медианами - лучшее решение."
   ]
  },
  {
   "cell_type": "markdown",
   "id": "6db5255a",
   "metadata": {
    "deletable": false,
    "editable": false,
    "id": "6db5255a"
   },
   "source": [
    "## Общий вывод."
   ]
  },
  {
   "cell_type": "markdown",
   "id": "bad65432",
   "metadata": {
    "id": "bad65432"
   },
   "source": [
    "В ходе исследования были пройдены все стадии выполнения проекта. Была поставлена задача - определить влияние разных факторов на возврат кредита в срок. Данные были получены и я с ними ознакомился, выявил некоторые проблемы и аномалии. После был проведен процесс предобработки - все эти проблемы в виде пропущенных значений, явных и неявных дубликатов, аномальных значений, неверных типов данных были устранены. Также были добавлены новые категориальные столбцы для решения поставленной задачи.\n",
    "\n",
    "Проверка всех гипотез заключалась в поиске зависимости влияния фактора на возврат кредита в срок. Насколько я понимаю, отсутствие зависимости может быть только в том случае, если для всех категорий будет получен одинаковый результат. Елси же результаты различаются, то какая-то зависимость может быть выявлена. \n",
    "\n",
    "Прежде, чем писать выводы, я выполнил все задачи, и мне показалось, что зависимости нигде нет, ведь результаты не сильно различаются - в пределах 1-2%. Но, проанализировав, я понял, что это не так, ведь в случае с банками - 1-2% - это тысячи кредитных случаев, а такая цифра имеет большое значение (например, для принятия решения о повышении процентной ставки для той или иной категории кредитов).\n",
    "\n",
    "В каждой из задач я столкнулся с одной и той же проблемой - все выборки неравнозначны. Хотя по ним и можно было сделать какие-то выводы, но все же выводы могут различаться, если уравнять категории по количеству клиентов. Особенно мне не понравились результаты в *Задании 20* - зависимость семейного положения от процента возврата в срок. Мне кажется, что они должны быть другими при равнозначных выборках, и стоит это проверить:"
   ]
  },
  {
   "cell_type": "code",
   "execution_count": 34,
   "id": "1ccce8d7",
   "metadata": {},
   "outputs": [
    {
     "name": "stdout",
     "output_type": "stream",
     "text": [
      "Не женат / не замужем: 92.43%\n",
      "в разводе: 92.29%\n",
      "вдовец / вдова: 93.71%\n",
      "гражданский брак: 91.29%\n",
      "женат / замужем: 92.00%\n"
     ]
    }
   ],
   "source": [
    "new_len = 700 #Возьмем любое число, которое будет соответствовать размеру выборки\n",
    "for index in family_status_all.index:\n",
    "    new_data = data[data['family_status']==index].reset_index(drop=True) #Формируем датасет с выборкой по семейному положению\n",
    "    new_data = new_data.loc[:new_len,:] #Укорачиваем этот датасет до желаемого размера выборки\n",
    "    debt = new_data['debt'].sum()\n",
    "    print(f'{index}: ',end='')\n",
    "    print(f'{(new_len-debt)/new_len:.2%}')"
   ]
  },
  {
   "cell_type": "markdown",
   "id": "c7e18488",
   "metadata": {},
   "source": [
    "И очевидно, что результаты стали совсем другими!\n",
    "Вдовцы и вдовы по-прежнему лидируют по проценту возврата кредита в срок, но остальной рейтинг весь поменялся. \n",
    "\n",
    "Но здесь появляются и другие мысли. Вряд ли в банк приходит равное количество вдовцов и женатых людей подавать заявку на оформление кредита. Аналогично вряд ли придёт равное количество людей, не имеющих детей, и людей, у которых их 5. То есть, в реальности выборки все-таки не будут равнозначными. А это уже наводит на новую идею - **все факторы оказывают влияние на процент возврата кредита в срок**.\n",
    "\n",
    "Не нужно упираться в равнозначные выборки, а стоит пронаблюдать зависимость нескольких факторов на возврат кредита. Т.е. одновременно рассматривать, например, влияние семейного положения и числа детей. Но это уже другие гипотезы, которые стоит рассмотреть в другом, более объемном, исследовании."
   ]
  }
 ],
 "metadata": {
  "ExecuteTimeLog": [
   {
    "duration": 507,
    "start_time": "2022-07-18T20:03:16.754Z"
   },
   {
    "duration": 43,
    "start_time": "2022-07-18T20:03:17.263Z"
   },
   {
    "duration": 15,
    "start_time": "2022-07-18T20:03:17.308Z"
   },
   {
    "duration": 10,
    "start_time": "2022-07-18T20:03:17.325Z"
   },
   {
    "duration": 64,
    "start_time": "2022-07-18T20:03:17.338Z"
   },
   {
    "duration": 5,
    "start_time": "2022-07-18T20:03:17.407Z"
   },
   {
    "duration": 11,
    "start_time": "2022-07-18T20:03:17.414Z"
   },
   {
    "duration": 4,
    "start_time": "2022-07-18T20:03:17.427Z"
   },
   {
    "duration": 10,
    "start_time": "2022-07-18T20:03:17.433Z"
   },
   {
    "duration": 8,
    "start_time": "2022-07-18T20:03:17.447Z"
   },
   {
    "duration": 47,
    "start_time": "2022-07-18T20:03:17.469Z"
   },
   {
    "duration": 12,
    "start_time": "2022-07-18T20:03:17.517Z"
   },
   {
    "duration": 4,
    "start_time": "2022-07-18T20:03:17.530Z"
   },
   {
    "duration": 39,
    "start_time": "2022-07-18T20:03:17.535Z"
   },
   {
    "duration": 31,
    "start_time": "2022-07-18T20:03:17.576Z"
   },
   {
    "duration": 18,
    "start_time": "2022-07-18T20:03:17.609Z"
   },
   {
    "duration": 7,
    "start_time": "2022-07-18T20:03:17.630Z"
   },
   {
    "duration": 22,
    "start_time": "2022-07-18T20:03:17.638Z"
   },
   {
    "duration": 10,
    "start_time": "2022-07-18T20:03:17.662Z"
   },
   {
    "duration": 44,
    "start_time": "2022-07-18T20:03:17.677Z"
   },
   {
    "duration": 14,
    "start_time": "2022-07-18T20:03:17.723Z"
   },
   {
    "duration": 3,
    "start_time": "2022-07-18T20:03:17.739Z"
   },
   {
    "duration": 7,
    "start_time": "2022-07-18T20:03:17.744Z"
   },
   {
    "duration": 9,
    "start_time": "2022-07-18T20:03:17.752Z"
   },
   {
    "duration": 38,
    "start_time": "2022-07-18T20:03:17.763Z"
   },
   {
    "duration": 1468,
    "start_time": "2022-07-18T20:12:30.659Z"
   },
   {
    "duration": 261,
    "start_time": "2022-07-18T20:12:57.480Z"
   },
   {
    "duration": 179,
    "start_time": "2022-07-18T20:13:09.111Z"
   },
   {
    "duration": 105,
    "start_time": "2022-07-18T20:13:27.725Z"
   },
   {
    "duration": 11,
    "start_time": "2022-07-18T20:13:39.509Z"
   },
   {
    "duration": 476,
    "start_time": "2022-07-18T20:16:03.231Z"
   },
   {
    "duration": 54,
    "start_time": "2022-07-18T20:17:28.848Z"
   },
   {
    "duration": 23,
    "start_time": "2022-07-18T20:17:44.985Z"
   },
   {
    "duration": 177,
    "start_time": "2022-07-18T20:17:48.649Z"
   },
   {
    "duration": 409,
    "start_time": "2022-07-18T20:18:00.856Z"
   },
   {
    "duration": 5,
    "start_time": "2022-07-18T20:18:30.353Z"
   },
   {
    "duration": 166,
    "start_time": "2022-07-18T20:21:03.854Z"
   },
   {
    "duration": 199,
    "start_time": "2022-07-18T20:21:30.260Z"
   },
   {
    "duration": 127,
    "start_time": "2022-07-18T20:22:34.830Z"
   },
   {
    "duration": 11,
    "start_time": "2022-07-18T20:27:46.658Z"
   },
   {
    "duration": 5,
    "start_time": "2022-07-18T20:28:36.340Z"
   },
   {
    "duration": 8,
    "start_time": "2022-07-18T20:29:05.148Z"
   },
   {
    "duration": 9,
    "start_time": "2022-07-18T20:29:46.693Z"
   },
   {
    "duration": 4,
    "start_time": "2022-07-18T20:30:20.525Z"
   },
   {
    "duration": 4,
    "start_time": "2022-07-18T20:30:26.718Z"
   },
   {
    "duration": 1217,
    "start_time": "2022-07-18T20:30:42.333Z"
   },
   {
    "duration": 7,
    "start_time": "2022-07-18T20:31:34.638Z"
   },
   {
    "duration": 6,
    "start_time": "2022-07-18T20:32:43.295Z"
   },
   {
    "duration": 7,
    "start_time": "2022-07-18T20:33:22.290Z"
   },
   {
    "duration": 7,
    "start_time": "2022-07-18T20:33:27.153Z"
   },
   {
    "duration": 7,
    "start_time": "2022-07-18T20:33:57.876Z"
   },
   {
    "duration": 10,
    "start_time": "2022-07-18T20:34:01.886Z"
   },
   {
    "duration": 7,
    "start_time": "2022-07-18T20:34:39.745Z"
   },
   {
    "duration": 8,
    "start_time": "2022-07-18T20:34:46.993Z"
   },
   {
    "duration": 7,
    "start_time": "2022-07-18T20:35:04.746Z"
   },
   {
    "duration": 7,
    "start_time": "2022-07-18T20:35:21.595Z"
   },
   {
    "duration": 14,
    "start_time": "2022-07-18T20:38:58.491Z"
   },
   {
    "duration": 10,
    "start_time": "2022-07-18T20:39:11.542Z"
   },
   {
    "duration": 9,
    "start_time": "2022-07-18T20:39:35.999Z"
   },
   {
    "duration": 8,
    "start_time": "2022-07-18T20:40:33.592Z"
   },
   {
    "duration": 55,
    "start_time": "2022-07-18T20:40:38.778Z"
   },
   {
    "duration": 7,
    "start_time": "2022-07-18T20:40:55.953Z"
   },
   {
    "duration": 91,
    "start_time": "2022-07-18T20:41:31.281Z"
   },
   {
    "duration": 8,
    "start_time": "2022-07-18T20:42:24.587Z"
   },
   {
    "duration": 9,
    "start_time": "2022-07-18T20:45:31.110Z"
   },
   {
    "duration": 95,
    "start_time": "2022-07-18T20:45:44.375Z"
   },
   {
    "duration": 21,
    "start_time": "2022-07-18T20:46:06.950Z"
   },
   {
    "duration": 63,
    "start_time": "2022-07-18T20:46:23.535Z"
   },
   {
    "duration": 20,
    "start_time": "2022-07-18T20:46:29.135Z"
   },
   {
    "duration": 113,
    "start_time": "2022-07-18T20:47:27.362Z"
   },
   {
    "duration": 102,
    "start_time": "2022-07-18T20:47:37.476Z"
   },
   {
    "duration": 33,
    "start_time": "2022-07-18T20:48:27.427Z"
   },
   {
    "duration": 20,
    "start_time": "2022-07-18T20:48:31.707Z"
   },
   {
    "duration": 117,
    "start_time": "2022-07-18T20:49:16.260Z"
   },
   {
    "duration": 101,
    "start_time": "2022-07-18T20:49:47.777Z"
   },
   {
    "duration": 112,
    "start_time": "2022-07-18T20:50:49.376Z"
   },
   {
    "duration": 108,
    "start_time": "2022-07-18T20:50:57.599Z"
   },
   {
    "duration": 119,
    "start_time": "2022-07-18T20:51:05.848Z"
   },
   {
    "duration": 124,
    "start_time": "2022-07-18T20:51:11.359Z"
   },
   {
    "duration": 109,
    "start_time": "2022-07-18T20:58:09.387Z"
   },
   {
    "duration": 95,
    "start_time": "2022-07-18T20:59:40.260Z"
   },
   {
    "duration": 9,
    "start_time": "2022-07-18T21:02:28.560Z"
   },
   {
    "duration": 11,
    "start_time": "2022-07-18T21:03:13.449Z"
   },
   {
    "duration": 10,
    "start_time": "2022-07-18T21:06:45.094Z"
   },
   {
    "duration": 12,
    "start_time": "2022-07-18T21:06:59.392Z"
   },
   {
    "duration": 21,
    "start_time": "2022-07-18T21:07:29.495Z"
   },
   {
    "duration": 5,
    "start_time": "2022-07-18T21:08:23.937Z"
   },
   {
    "duration": 20,
    "start_time": "2022-07-18T21:08:36.988Z"
   },
   {
    "duration": 17,
    "start_time": "2022-07-18T21:09:20.465Z"
   },
   {
    "duration": 21,
    "start_time": "2022-07-18T21:09:28.794Z"
   },
   {
    "duration": 115,
    "start_time": "2022-07-18T21:09:51.276Z"
   },
   {
    "duration": 122,
    "start_time": "2022-07-18T21:13:00.041Z"
   },
   {
    "duration": 118,
    "start_time": "2022-07-18T21:13:09.326Z"
   },
   {
    "duration": 198,
    "start_time": "2022-07-18T21:13:20.983Z"
   },
   {
    "duration": 172,
    "start_time": "2022-07-18T21:14:32.640Z"
   },
   {
    "duration": 134,
    "start_time": "2022-07-18T21:15:05.867Z"
   },
   {
    "duration": 128,
    "start_time": "2022-07-18T21:17:40.161Z"
   },
   {
    "duration": 125,
    "start_time": "2022-07-18T21:18:00.069Z"
   },
   {
    "duration": 18,
    "start_time": "2022-07-18T21:20:01.999Z"
   },
   {
    "duration": 27,
    "start_time": "2022-07-18T21:20:15.760Z"
   },
   {
    "duration": 80,
    "start_time": "2022-07-18T21:20:45.184Z"
   },
   {
    "duration": 17,
    "start_time": "2022-07-18T21:20:53.015Z"
   },
   {
    "duration": 17,
    "start_time": "2022-07-18T21:21:28.256Z"
   },
   {
    "duration": 106,
    "start_time": "2022-07-18T21:21:34.137Z"
   },
   {
    "duration": 111,
    "start_time": "2022-07-18T21:21:41.970Z"
   },
   {
    "duration": 91,
    "start_time": "2022-07-18T21:22:20.578Z"
   },
   {
    "duration": 18,
    "start_time": "2022-07-18T21:22:27.522Z"
   },
   {
    "duration": 22,
    "start_time": "2022-07-18T21:22:56.123Z"
   },
   {
    "duration": 30,
    "start_time": "2022-07-18T21:23:21.252Z"
   },
   {
    "duration": 494,
    "start_time": "2022-07-18T21:23:37.804Z"
   },
   {
    "duration": 111,
    "start_time": "2022-07-18T21:23:48.324Z"
   },
   {
    "duration": 8,
    "start_time": "2022-07-18T21:27:39.424Z"
   },
   {
    "duration": 144,
    "start_time": "2022-07-18T21:29:00.435Z"
   },
   {
    "duration": 126,
    "start_time": "2022-07-18T21:29:47.347Z"
   },
   {
    "duration": 120,
    "start_time": "2022-07-18T21:30:21.436Z"
   },
   {
    "duration": 112,
    "start_time": "2022-07-18T21:31:19.374Z"
   },
   {
    "duration": 122,
    "start_time": "2022-07-18T21:32:24.926Z"
   },
   {
    "duration": 116,
    "start_time": "2022-07-18T21:54:57.211Z"
   },
   {
    "duration": 13,
    "start_time": "2022-07-18T21:56:43.654Z"
   },
   {
    "duration": 11,
    "start_time": "2022-07-18T21:56:51.165Z"
   },
   {
    "duration": 11,
    "start_time": "2022-07-18T21:56:56.718Z"
   },
   {
    "duration": 12,
    "start_time": "2022-07-18T21:57:02.670Z"
   },
   {
    "duration": 9,
    "start_time": "2022-07-18T21:57:03.965Z"
   },
   {
    "duration": 13,
    "start_time": "2022-07-18T21:57:08.542Z"
   },
   {
    "duration": 8,
    "start_time": "2022-07-18T21:58:35.728Z"
   },
   {
    "duration": 8,
    "start_time": "2022-07-18T21:58:44.905Z"
   },
   {
    "duration": 10,
    "start_time": "2022-07-18T21:59:03.207Z"
   },
   {
    "duration": 9,
    "start_time": "2022-07-18T21:59:17.512Z"
   },
   {
    "duration": 9,
    "start_time": "2022-07-18T22:01:00.874Z"
   },
   {
    "duration": 8,
    "start_time": "2022-07-18T22:21:45.948Z"
   },
   {
    "duration": 8,
    "start_time": "2022-07-18T22:22:05.157Z"
   },
   {
    "duration": 9,
    "start_time": "2022-07-18T22:22:33.565Z"
   },
   {
    "duration": 9,
    "start_time": "2022-07-18T22:22:46.958Z"
   },
   {
    "duration": 18,
    "start_time": "2022-07-18T22:24:53.921Z"
   },
   {
    "duration": 9,
    "start_time": "2022-07-18T22:25:53.065Z"
   },
   {
    "duration": 7,
    "start_time": "2022-07-18T22:26:21.179Z"
   },
   {
    "duration": 11,
    "start_time": "2022-07-18T22:26:38.946Z"
   },
   {
    "duration": 10,
    "start_time": "2022-07-18T22:26:47.361Z"
   },
   {
    "duration": 13,
    "start_time": "2022-07-18T22:27:55.367Z"
   },
   {
    "duration": 12,
    "start_time": "2022-07-18T22:27:59.780Z"
   },
   {
    "duration": 12,
    "start_time": "2022-07-18T22:28:31.708Z"
   },
   {
    "duration": 15,
    "start_time": "2022-07-18T22:29:13.182Z"
   },
   {
    "duration": 12,
    "start_time": "2022-07-18T22:29:36.495Z"
   },
   {
    "duration": 10,
    "start_time": "2022-07-18T22:31:53.098Z"
   },
   {
    "duration": 9,
    "start_time": "2022-07-18T22:32:02.842Z"
   },
   {
    "duration": 4,
    "start_time": "2022-07-18T22:34:44.526Z"
   },
   {
    "duration": 10,
    "start_time": "2022-07-18T22:35:38.295Z"
   },
   {
    "duration": 7,
    "start_time": "2022-07-18T22:39:24.651Z"
   },
   {
    "duration": 18,
    "start_time": "2022-07-18T22:40:43.143Z"
   },
   {
    "duration": 6,
    "start_time": "2022-07-18T22:41:50.087Z"
   },
   {
    "duration": 9,
    "start_time": "2022-07-18T22:42:31.648Z"
   },
   {
    "duration": 9,
    "start_time": "2022-07-18T22:43:21.600Z"
   },
   {
    "duration": 11,
    "start_time": "2022-07-18T22:43:30.328Z"
   },
   {
    "duration": 15,
    "start_time": "2022-07-18T22:45:39.042Z"
   },
   {
    "duration": 11,
    "start_time": "2022-07-18T22:45:44.943Z"
   },
   {
    "duration": 7,
    "start_time": "2022-07-18T22:58:57.156Z"
   },
   {
    "duration": 5,
    "start_time": "2022-07-18T22:59:07.165Z"
   },
   {
    "duration": 1054,
    "start_time": "2022-07-18T22:59:18.117Z"
   },
   {
    "duration": 484,
    "start_time": "2022-07-18T22:59:40.628Z"
   },
   {
    "duration": 21,
    "start_time": "2022-07-18T22:59:41.114Z"
   },
   {
    "duration": 27,
    "start_time": "2022-07-18T22:59:41.137Z"
   },
   {
    "duration": 10,
    "start_time": "2022-07-18T22:59:41.167Z"
   },
   {
    "duration": 34,
    "start_time": "2022-07-18T22:59:41.178Z"
   },
   {
    "duration": 4,
    "start_time": "2022-07-18T22:59:41.213Z"
   },
   {
    "duration": 11,
    "start_time": "2022-07-18T22:59:41.219Z"
   },
   {
    "duration": 33,
    "start_time": "2022-07-18T22:59:41.232Z"
   },
   {
    "duration": 8,
    "start_time": "2022-07-18T22:59:41.266Z"
   },
   {
    "duration": 3,
    "start_time": "2022-07-18T22:59:41.277Z"
   },
   {
    "duration": 35,
    "start_time": "2022-07-18T22:59:41.282Z"
   },
   {
    "duration": 9,
    "start_time": "2022-07-18T22:59:41.319Z"
   },
   {
    "duration": 10,
    "start_time": "2022-07-18T22:59:41.330Z"
   },
   {
    "duration": 45,
    "start_time": "2022-07-18T22:59:41.341Z"
   },
   {
    "duration": 20,
    "start_time": "2022-07-18T22:59:41.388Z"
   },
   {
    "duration": 13,
    "start_time": "2022-07-18T22:59:41.410Z"
   },
   {
    "duration": 6,
    "start_time": "2022-07-18T22:59:41.425Z"
   },
   {
    "duration": 38,
    "start_time": "2022-07-18T22:59:41.433Z"
   },
   {
    "duration": 6,
    "start_time": "2022-07-18T22:59:41.473Z"
   },
   {
    "duration": 5,
    "start_time": "2022-07-18T22:59:41.481Z"
   },
   {
    "duration": 14,
    "start_time": "2022-07-18T22:59:41.487Z"
   },
   {
    "duration": 10,
    "start_time": "2022-07-18T22:59:41.503Z"
   },
   {
    "duration": 4,
    "start_time": "2022-07-18T22:59:41.515Z"
   },
   {
    "duration": 42,
    "start_time": "2022-07-18T22:59:41.521Z"
   },
   {
    "duration": 5,
    "start_time": "2022-07-18T22:59:41.565Z"
   },
   {
    "duration": 13,
    "start_time": "2022-07-18T22:59:41.571Z"
   },
   {
    "duration": 10,
    "start_time": "2022-07-18T22:59:41.585Z"
   },
   {
    "duration": 11,
    "start_time": "2022-07-18T22:59:41.598Z"
   },
   {
    "duration": 14,
    "start_time": "2022-07-18T23:01:31.455Z"
   },
   {
    "duration": 13,
    "start_time": "2022-07-18T23:01:41.376Z"
   },
   {
    "duration": 11,
    "start_time": "2022-07-18T23:02:22.712Z"
   },
   {
    "duration": 11,
    "start_time": "2022-07-18T23:02:51.593Z"
   },
   {
    "duration": 15,
    "start_time": "2022-07-18T23:04:32.691Z"
   },
   {
    "duration": 11,
    "start_time": "2022-07-18T23:04:45.508Z"
   },
   {
    "duration": 13,
    "start_time": "2022-07-18T23:05:20.901Z"
   },
   {
    "duration": 23,
    "start_time": "2022-07-18T23:05:43.853Z"
   },
   {
    "duration": 12,
    "start_time": "2022-07-18T23:07:05.375Z"
   },
   {
    "duration": 13,
    "start_time": "2022-07-18T23:23:50.686Z"
   },
   {
    "duration": 6,
    "start_time": "2022-07-18T23:28:31.077Z"
   },
   {
    "duration": 69,
    "start_time": "2022-07-18T23:29:47.908Z"
   },
   {
    "duration": 9,
    "start_time": "2022-07-18T23:31:28.456Z"
   },
   {
    "duration": 9,
    "start_time": "2022-07-18T23:31:43.721Z"
   },
   {
    "duration": 8,
    "start_time": "2022-07-18T23:37:49.423Z"
   },
   {
    "duration": 11,
    "start_time": "2022-07-18T23:44:45.607Z"
   },
   {
    "duration": 107,
    "start_time": "2022-07-18T23:45:15.401Z"
   },
   {
    "duration": 55,
    "start_time": "2022-07-18T23:45:25.009Z"
   },
   {
    "duration": 10,
    "start_time": "2022-07-18T23:45:38.920Z"
   },
   {
    "duration": 3,
    "start_time": "2022-07-18T23:59:43.602Z"
   },
   {
    "duration": 2,
    "start_time": "2022-07-18T23:59:44.802Z"
   },
   {
    "duration": 4,
    "start_time": "2022-07-18T23:59:49.570Z"
   },
   {
    "duration": 27,
    "start_time": "2022-07-19T00:06:50.811Z"
   },
   {
    "duration": 21,
    "start_time": "2022-07-19T00:07:35.245Z"
   },
   {
    "duration": 21,
    "start_time": "2022-07-19T00:07:41.341Z"
   },
   {
    "duration": 19,
    "start_time": "2022-07-19T00:07:53.756Z"
   },
   {
    "duration": 20,
    "start_time": "2022-07-19T00:09:47.983Z"
   },
   {
    "duration": 20,
    "start_time": "2022-07-19T00:10:03.159Z"
   },
   {
    "duration": 141,
    "start_time": "2022-07-19T00:10:33.584Z"
   },
   {
    "duration": 22,
    "start_time": "2022-07-19T00:12:07.800Z"
   },
   {
    "duration": 20,
    "start_time": "2022-07-19T00:13:54.277Z"
   },
   {
    "duration": 12,
    "start_time": "2022-07-19T00:15:24.311Z"
   },
   {
    "duration": 20,
    "start_time": "2022-07-19T00:15:59.896Z"
   },
   {
    "duration": 32,
    "start_time": "2022-07-19T00:16:42.169Z"
   },
   {
    "duration": 21,
    "start_time": "2022-07-19T00:16:51.504Z"
   },
   {
    "duration": 17,
    "start_time": "2022-07-19T00:17:13.386Z"
   },
   {
    "duration": 22,
    "start_time": "2022-07-19T00:18:11.379Z"
   },
   {
    "duration": 19,
    "start_time": "2022-07-19T00:18:58.343Z"
   },
   {
    "duration": 29,
    "start_time": "2022-07-19T00:19:24.757Z"
   },
   {
    "duration": 21,
    "start_time": "2022-07-19T00:19:43.709Z"
   },
   {
    "duration": 19,
    "start_time": "2022-07-19T00:20:04.006Z"
   },
   {
    "duration": 463,
    "start_time": "2022-07-19T00:48:51.920Z"
   },
   {
    "duration": 23,
    "start_time": "2022-07-19T00:48:52.385Z"
   },
   {
    "duration": 17,
    "start_time": "2022-07-19T00:48:52.410Z"
   },
   {
    "duration": 9,
    "start_time": "2022-07-19T00:48:52.429Z"
   },
   {
    "duration": 57,
    "start_time": "2022-07-19T00:48:52.440Z"
   },
   {
    "duration": 3,
    "start_time": "2022-07-19T00:48:52.499Z"
   },
   {
    "duration": 13,
    "start_time": "2022-07-19T00:48:52.504Z"
   },
   {
    "duration": 7,
    "start_time": "2022-07-19T00:48:52.518Z"
   },
   {
    "duration": 19,
    "start_time": "2022-07-19T00:48:52.527Z"
   },
   {
    "duration": 6,
    "start_time": "2022-07-19T00:48:52.565Z"
   },
   {
    "duration": 51,
    "start_time": "2022-07-19T00:48:52.573Z"
   },
   {
    "duration": 10,
    "start_time": "2022-07-19T00:48:52.626Z"
   },
   {
    "duration": 14,
    "start_time": "2022-07-19T00:48:52.638Z"
   },
   {
    "duration": 22,
    "start_time": "2022-07-19T00:48:52.654Z"
   },
   {
    "duration": 17,
    "start_time": "2022-07-19T00:48:52.678Z"
   },
   {
    "duration": 11,
    "start_time": "2022-07-19T00:48:52.697Z"
   },
   {
    "duration": 5,
    "start_time": "2022-07-19T00:48:52.710Z"
   },
   {
    "duration": 15,
    "start_time": "2022-07-19T00:48:52.717Z"
   },
   {
    "duration": 6,
    "start_time": "2022-07-19T00:48:52.734Z"
   },
   {
    "duration": 4,
    "start_time": "2022-07-19T00:48:52.764Z"
   },
   {
    "duration": 12,
    "start_time": "2022-07-19T00:48:52.769Z"
   },
   {
    "duration": 10,
    "start_time": "2022-07-19T00:48:52.783Z"
   },
   {
    "duration": 13,
    "start_time": "2022-07-19T00:48:52.795Z"
   },
   {
    "duration": 15,
    "start_time": "2022-07-19T00:48:52.809Z"
   },
   {
    "duration": 5,
    "start_time": "2022-07-19T00:48:52.826Z"
   },
   {
    "duration": 32,
    "start_time": "2022-07-19T00:48:52.832Z"
   },
   {
    "duration": 7,
    "start_time": "2022-07-19T00:48:52.866Z"
   },
   {
    "duration": 8,
    "start_time": "2022-07-19T00:48:52.876Z"
   },
   {
    "duration": 8,
    "start_time": "2022-07-19T00:48:52.886Z"
   },
   {
    "duration": 12,
    "start_time": "2022-07-19T00:48:52.895Z"
   },
   {
    "duration": 12,
    "start_time": "2022-07-19T00:48:52.909Z"
   },
   {
    "duration": 62,
    "start_time": "2022-07-19T00:48:52.922Z"
   },
   {
    "duration": 740,
    "start_time": "2022-07-19T11:01:00.027Z"
   },
   {
    "duration": 23,
    "start_time": "2022-07-19T11:01:00.769Z"
   },
   {
    "duration": 23,
    "start_time": "2022-07-19T11:01:00.793Z"
   },
   {
    "duration": 20,
    "start_time": "2022-07-19T11:01:00.819Z"
   },
   {
    "duration": 60,
    "start_time": "2022-07-19T11:01:00.841Z"
   },
   {
    "duration": 4,
    "start_time": "2022-07-19T11:01:00.903Z"
   },
   {
    "duration": 12,
    "start_time": "2022-07-19T11:01:00.909Z"
   },
   {
    "duration": 13,
    "start_time": "2022-07-19T11:01:00.923Z"
   },
   {
    "duration": 21,
    "start_time": "2022-07-19T11:01:00.938Z"
   },
   {
    "duration": 8,
    "start_time": "2022-07-19T11:01:00.968Z"
   },
   {
    "duration": 38,
    "start_time": "2022-07-19T11:01:00.978Z"
   },
   {
    "duration": 11,
    "start_time": "2022-07-19T11:01:01.017Z"
   },
   {
    "duration": 40,
    "start_time": "2022-07-19T11:01:01.030Z"
   },
   {
    "duration": 41,
    "start_time": "2022-07-19T11:01:01.072Z"
   },
   {
    "duration": 26,
    "start_time": "2022-07-19T11:01:01.115Z"
   },
   {
    "duration": 22,
    "start_time": "2022-07-19T11:01:01.144Z"
   },
   {
    "duration": 9,
    "start_time": "2022-07-19T11:01:01.168Z"
   },
   {
    "duration": 36,
    "start_time": "2022-07-19T11:01:01.179Z"
   },
   {
    "duration": 9,
    "start_time": "2022-07-19T11:01:01.217Z"
   },
   {
    "duration": 30,
    "start_time": "2022-07-19T11:01:01.228Z"
   },
   {
    "duration": 34,
    "start_time": "2022-07-19T11:01:01.260Z"
   },
   {
    "duration": 18,
    "start_time": "2022-07-19T11:01:01.296Z"
   },
   {
    "duration": 30,
    "start_time": "2022-07-19T11:01:01.316Z"
   },
   {
    "duration": 53,
    "start_time": "2022-07-19T11:01:01.348Z"
   },
   {
    "duration": 26,
    "start_time": "2022-07-19T11:01:01.403Z"
   },
   {
    "duration": 59,
    "start_time": "2022-07-19T11:01:01.432Z"
   },
   {
    "duration": 16,
    "start_time": "2022-07-19T11:01:01.493Z"
   },
   {
    "duration": 57,
    "start_time": "2022-07-19T11:01:01.513Z"
   },
   {
    "duration": 28,
    "start_time": "2022-07-19T11:01:01.572Z"
   },
   {
    "duration": 21,
    "start_time": "2022-07-19T11:01:01.602Z"
   },
   {
    "duration": 18,
    "start_time": "2022-07-19T11:01:01.625Z"
   },
   {
    "duration": 47,
    "start_time": "2022-07-19T11:01:01.645Z"
   },
   {
    "duration": 461,
    "start_time": "2022-07-22T10:47:45.514Z"
   },
   {
    "duration": 341,
    "start_time": "2022-07-22T10:47:45.979Z"
   },
   {
    "duration": 34,
    "start_time": "2022-07-22T10:47:46.322Z"
   },
   {
    "duration": 44,
    "start_time": "2022-07-22T10:47:46.360Z"
   },
   {
    "duration": 46,
    "start_time": "2022-07-22T10:47:46.407Z"
   },
   {
    "duration": 65,
    "start_time": "2022-07-22T10:47:46.455Z"
   },
   {
    "duration": 7,
    "start_time": "2022-07-22T10:47:46.522Z"
   },
   {
    "duration": 37,
    "start_time": "2022-07-22T10:47:46.533Z"
   },
   {
    "duration": 42,
    "start_time": "2022-07-22T10:47:46.573Z"
   },
   {
    "duration": 70,
    "start_time": "2022-07-22T10:47:46.617Z"
   },
   {
    "duration": 41,
    "start_time": "2022-07-22T10:47:46.689Z"
   },
   {
    "duration": 110,
    "start_time": "2022-07-22T10:47:46.731Z"
   },
   {
    "duration": 19,
    "start_time": "2022-07-22T10:47:46.846Z"
   },
   {
    "duration": 16,
    "start_time": "2022-07-22T10:47:46.870Z"
   },
   {
    "duration": 45,
    "start_time": "2022-07-22T10:47:46.888Z"
   },
   {
    "duration": 23,
    "start_time": "2022-07-22T10:47:46.934Z"
   },
   {
    "duration": 30,
    "start_time": "2022-07-22T10:47:46.959Z"
   },
   {
    "duration": 17,
    "start_time": "2022-07-22T10:47:46.991Z"
   },
   {
    "duration": 29,
    "start_time": "2022-07-22T10:47:47.010Z"
   },
   {
    "duration": 18,
    "start_time": "2022-07-22T10:47:47.041Z"
   },
   {
    "duration": 8,
    "start_time": "2022-07-22T10:47:47.063Z"
   },
   {
    "duration": 27,
    "start_time": "2022-07-22T10:47:47.073Z"
   },
   {
    "duration": 16,
    "start_time": "2022-07-22T10:47:47.103Z"
   },
   {
    "duration": 11,
    "start_time": "2022-07-22T10:47:47.122Z"
   },
   {
    "duration": 35,
    "start_time": "2022-07-22T10:47:47.137Z"
   },
   {
    "duration": 9,
    "start_time": "2022-07-22T10:47:47.175Z"
   },
   {
    "duration": 31,
    "start_time": "2022-07-22T10:47:47.186Z"
   },
   {
    "duration": 15,
    "start_time": "2022-07-22T10:47:47.219Z"
   },
   {
    "duration": 34,
    "start_time": "2022-07-22T10:47:47.238Z"
   },
   {
    "duration": 15,
    "start_time": "2022-07-22T10:47:47.275Z"
   },
   {
    "duration": 18,
    "start_time": "2022-07-22T10:47:47.292Z"
   },
   {
    "duration": 27,
    "start_time": "2022-07-22T10:47:47.312Z"
   },
   {
    "duration": 44,
    "start_time": "2022-07-22T10:47:47.341Z"
   },
   {
    "duration": 333,
    "start_time": "2022-07-22T11:00:25.359Z"
   },
   {
    "duration": 71,
    "start_time": "2022-07-22T11:01:59.832Z"
   },
   {
    "duration": 50,
    "start_time": "2022-07-22T11:02:10.807Z"
   },
   {
    "duration": 40,
    "start_time": "2022-07-22T11:02:57.712Z"
   },
   {
    "duration": 398,
    "start_time": "2022-07-22T11:05:10.477Z"
   },
   {
    "duration": 72,
    "start_time": "2022-07-22T11:05:10.877Z"
   },
   {
    "duration": 30,
    "start_time": "2022-07-22T11:05:10.951Z"
   },
   {
    "duration": 18,
    "start_time": "2022-07-22T11:05:10.982Z"
   },
   {
    "duration": 10,
    "start_time": "2022-07-22T11:05:11.002Z"
   },
   {
    "duration": 57,
    "start_time": "2022-07-22T11:05:11.013Z"
   },
   {
    "duration": 4,
    "start_time": "2022-07-22T11:05:11.072Z"
   },
   {
    "duration": 10,
    "start_time": "2022-07-22T11:05:11.078Z"
   },
   {
    "duration": 4,
    "start_time": "2022-07-22T11:05:11.089Z"
   },
   {
    "duration": 11,
    "start_time": "2022-07-22T11:05:11.095Z"
   },
   {
    "duration": 5,
    "start_time": "2022-07-22T11:05:11.108Z"
   },
   {
    "duration": 64,
    "start_time": "2022-07-22T11:05:11.115Z"
   },
   {
    "duration": 9,
    "start_time": "2022-07-22T11:05:11.181Z"
   },
   {
    "duration": 39,
    "start_time": "2022-07-22T11:05:11.193Z"
   },
   {
    "duration": 36,
    "start_time": "2022-07-22T11:05:11.233Z"
   },
   {
    "duration": 18,
    "start_time": "2022-07-22T11:05:11.271Z"
   },
   {
    "duration": 14,
    "start_time": "2022-07-22T11:05:11.290Z"
   },
   {
    "duration": 10,
    "start_time": "2022-07-22T11:05:11.306Z"
   },
   {
    "duration": 20,
    "start_time": "2022-07-22T11:05:11.318Z"
   },
   {
    "duration": 12,
    "start_time": "2022-07-22T11:05:11.340Z"
   },
   {
    "duration": 8,
    "start_time": "2022-07-22T11:05:11.354Z"
   },
   {
    "duration": 21,
    "start_time": "2022-07-22T11:05:11.363Z"
   },
   {
    "duration": 11,
    "start_time": "2022-07-22T11:05:11.386Z"
   },
   {
    "duration": 6,
    "start_time": "2022-07-22T11:05:11.398Z"
   },
   {
    "duration": 20,
    "start_time": "2022-07-22T11:05:11.405Z"
   },
   {
    "duration": 5,
    "start_time": "2022-07-22T11:05:11.426Z"
   },
   {
    "duration": 16,
    "start_time": "2022-07-22T11:05:11.432Z"
   },
   {
    "duration": 27,
    "start_time": "2022-07-22T11:05:11.449Z"
   },
   {
    "duration": 7,
    "start_time": "2022-07-22T11:05:11.477Z"
   },
   {
    "duration": 12,
    "start_time": "2022-07-22T11:05:11.486Z"
   },
   {
    "duration": 10,
    "start_time": "2022-07-22T11:05:11.499Z"
   },
   {
    "duration": 11,
    "start_time": "2022-07-22T11:05:11.510Z"
   },
   {
    "duration": 43,
    "start_time": "2022-07-22T11:05:11.522Z"
   },
   {
    "duration": 61,
    "start_time": "2022-07-22T11:06:27.487Z"
   },
   {
    "duration": 77,
    "start_time": "2022-07-22T11:06:35.448Z"
   },
   {
    "duration": 66,
    "start_time": "2022-07-22T11:06:40.092Z"
   },
   {
    "duration": 50,
    "start_time": "2022-07-22T11:06:44.074Z"
   },
   {
    "duration": 372,
    "start_time": "2022-07-22T11:06:49.719Z"
   },
   {
    "duration": 85,
    "start_time": "2022-07-22T11:06:50.093Z"
   },
   {
    "duration": 24,
    "start_time": "2022-07-22T11:06:50.179Z"
   },
   {
    "duration": 15,
    "start_time": "2022-07-22T11:06:50.206Z"
   },
   {
    "duration": 15,
    "start_time": "2022-07-22T11:06:50.223Z"
   },
   {
    "duration": 67,
    "start_time": "2022-07-22T11:06:50.240Z"
   },
   {
    "duration": 5,
    "start_time": "2022-07-22T11:06:50.309Z"
   },
   {
    "duration": 18,
    "start_time": "2022-07-22T11:06:50.316Z"
   },
   {
    "duration": 5,
    "start_time": "2022-07-22T11:06:50.336Z"
   },
   {
    "duration": 44,
    "start_time": "2022-07-22T11:06:50.344Z"
   },
   {
    "duration": 7,
    "start_time": "2022-07-22T11:06:50.390Z"
   },
   {
    "duration": 57,
    "start_time": "2022-07-22T11:06:50.399Z"
   },
   {
    "duration": 20,
    "start_time": "2022-07-22T11:06:50.457Z"
   },
   {
    "duration": 54,
    "start_time": "2022-07-22T11:06:50.479Z"
   },
   {
    "duration": 18,
    "start_time": "2022-07-22T11:06:50.535Z"
   },
   {
    "duration": 27,
    "start_time": "2022-07-22T11:06:50.555Z"
   },
   {
    "duration": 37,
    "start_time": "2022-07-22T11:06:50.584Z"
   },
   {
    "duration": 9,
    "start_time": "2022-07-22T11:06:50.624Z"
   },
   {
    "duration": 19,
    "start_time": "2022-07-22T11:06:50.634Z"
   },
   {
    "duration": 11,
    "start_time": "2022-07-22T11:06:50.655Z"
   },
   {
    "duration": 20,
    "start_time": "2022-07-22T11:06:50.668Z"
   },
   {
    "duration": 18,
    "start_time": "2022-07-22T11:06:50.693Z"
   },
   {
    "duration": 13,
    "start_time": "2022-07-22T11:06:50.713Z"
   },
   {
    "duration": 13,
    "start_time": "2022-07-22T11:06:50.728Z"
   },
   {
    "duration": 33,
    "start_time": "2022-07-22T11:06:50.743Z"
   },
   {
    "duration": 6,
    "start_time": "2022-07-22T11:06:50.778Z"
   },
   {
    "duration": 22,
    "start_time": "2022-07-22T11:06:50.786Z"
   },
   {
    "duration": 10,
    "start_time": "2022-07-22T11:06:50.812Z"
   },
   {
    "duration": 8,
    "start_time": "2022-07-22T11:06:50.824Z"
   },
   {
    "duration": 11,
    "start_time": "2022-07-22T11:06:50.834Z"
   },
   {
    "duration": 25,
    "start_time": "2022-07-22T11:06:50.847Z"
   },
   {
    "duration": 26,
    "start_time": "2022-07-22T11:06:50.874Z"
   },
   {
    "duration": 23,
    "start_time": "2022-07-22T11:06:50.902Z"
   },
   {
    "duration": 99,
    "start_time": "2022-07-22T11:06:59.798Z"
   },
   {
    "duration": 96,
    "start_time": "2022-07-22T11:15:37.990Z"
   },
   {
    "duration": 416,
    "start_time": "2022-07-22T11:17:09.442Z"
   },
   {
    "duration": 73,
    "start_time": "2022-07-22T11:17:09.867Z"
   },
   {
    "duration": 34,
    "start_time": "2022-07-22T11:17:09.942Z"
   },
   {
    "duration": 15,
    "start_time": "2022-07-22T11:17:09.979Z"
   },
   {
    "duration": 10,
    "start_time": "2022-07-22T11:17:09.996Z"
   },
   {
    "duration": 38,
    "start_time": "2022-07-22T11:17:10.008Z"
   },
   {
    "duration": 3,
    "start_time": "2022-07-22T11:17:10.048Z"
   },
   {
    "duration": 16,
    "start_time": "2022-07-22T11:17:10.063Z"
   },
   {
    "duration": 8,
    "start_time": "2022-07-22T11:17:10.080Z"
   },
   {
    "duration": 12,
    "start_time": "2022-07-22T11:17:10.089Z"
   },
   {
    "duration": 13,
    "start_time": "2022-07-22T11:17:10.103Z"
   },
   {
    "duration": 53,
    "start_time": "2022-07-22T11:17:10.118Z"
   },
   {
    "duration": 11,
    "start_time": "2022-07-22T11:17:10.177Z"
   },
   {
    "duration": 84,
    "start_time": "2022-07-22T11:17:10.192Z"
   },
   {
    "duration": 17,
    "start_time": "2022-07-22T11:17:10.277Z"
   },
   {
    "duration": 16,
    "start_time": "2022-07-22T11:17:10.296Z"
   },
   {
    "duration": 10,
    "start_time": "2022-07-22T11:17:10.313Z"
   },
   {
    "duration": 11,
    "start_time": "2022-07-22T11:17:10.325Z"
   },
   {
    "duration": 38,
    "start_time": "2022-07-22T11:17:10.338Z"
   },
   {
    "duration": 11,
    "start_time": "2022-07-22T11:17:10.378Z"
   },
   {
    "duration": 6,
    "start_time": "2022-07-22T11:17:10.390Z"
   },
   {
    "duration": 16,
    "start_time": "2022-07-22T11:17:10.398Z"
   },
   {
    "duration": 8,
    "start_time": "2022-07-22T11:17:10.415Z"
   },
   {
    "duration": 8,
    "start_time": "2022-07-22T11:17:10.425Z"
   },
   {
    "duration": 19,
    "start_time": "2022-07-22T11:17:10.435Z"
   },
   {
    "duration": 18,
    "start_time": "2022-07-22T11:17:10.456Z"
   },
   {
    "duration": 21,
    "start_time": "2022-07-22T11:17:10.477Z"
   },
   {
    "duration": 8,
    "start_time": "2022-07-22T11:17:10.500Z"
   },
   {
    "duration": 9,
    "start_time": "2022-07-22T11:17:10.509Z"
   },
   {
    "duration": 8,
    "start_time": "2022-07-22T11:17:10.520Z"
   },
   {
    "duration": 12,
    "start_time": "2022-07-22T11:17:10.529Z"
   },
   {
    "duration": 35,
    "start_time": "2022-07-22T11:17:10.542Z"
   },
   {
    "duration": 27,
    "start_time": "2022-07-22T11:17:10.579Z"
   },
   {
    "duration": 102,
    "start_time": "2022-07-22T11:17:35.448Z"
   },
   {
    "duration": 92,
    "start_time": "2022-07-22T11:17:46.447Z"
   },
   {
    "duration": 73,
    "start_time": "2022-07-22T11:17:57.155Z"
   },
   {
    "duration": 357,
    "start_time": "2022-07-22T11:18:05.819Z"
   },
   {
    "duration": 81,
    "start_time": "2022-07-22T11:18:06.178Z"
   },
   {
    "duration": 28,
    "start_time": "2022-07-22T11:18:06.263Z"
   },
   {
    "duration": 31,
    "start_time": "2022-07-22T11:18:06.294Z"
   },
   {
    "duration": 18,
    "start_time": "2022-07-22T11:18:06.327Z"
   },
   {
    "duration": 59,
    "start_time": "2022-07-22T11:18:06.346Z"
   },
   {
    "duration": 3,
    "start_time": "2022-07-22T11:18:06.408Z"
   },
   {
    "duration": 19,
    "start_time": "2022-07-22T11:18:06.413Z"
   },
   {
    "duration": 12,
    "start_time": "2022-07-22T11:18:06.434Z"
   },
   {
    "duration": 17,
    "start_time": "2022-07-22T11:18:06.450Z"
   },
   {
    "duration": 22,
    "start_time": "2022-07-22T11:18:06.470Z"
   },
   {
    "duration": 44,
    "start_time": "2022-07-22T11:18:06.494Z"
   },
   {
    "duration": 13,
    "start_time": "2022-07-22T11:18:06.541Z"
   },
   {
    "duration": 67,
    "start_time": "2022-07-22T11:18:06.556Z"
   },
   {
    "duration": 17,
    "start_time": "2022-07-22T11:18:06.624Z"
   },
   {
    "duration": 16,
    "start_time": "2022-07-22T11:18:06.642Z"
   },
   {
    "duration": 20,
    "start_time": "2022-07-22T11:18:06.660Z"
   },
   {
    "duration": 9,
    "start_time": "2022-07-22T11:18:06.683Z"
   },
   {
    "duration": 22,
    "start_time": "2022-07-22T11:18:06.693Z"
   },
   {
    "duration": 8,
    "start_time": "2022-07-22T11:18:06.716Z"
   },
   {
    "duration": 4,
    "start_time": "2022-07-22T11:18:06.726Z"
   },
   {
    "duration": 17,
    "start_time": "2022-07-22T11:18:06.732Z"
   },
   {
    "duration": 17,
    "start_time": "2022-07-22T11:18:06.751Z"
   },
   {
    "duration": 25,
    "start_time": "2022-07-22T11:18:06.769Z"
   },
   {
    "duration": 18,
    "start_time": "2022-07-22T11:18:06.796Z"
   },
   {
    "duration": 7,
    "start_time": "2022-07-22T11:18:06.816Z"
   },
   {
    "duration": 18,
    "start_time": "2022-07-22T11:18:06.824Z"
   },
   {
    "duration": 10,
    "start_time": "2022-07-22T11:18:06.846Z"
   },
   {
    "duration": 16,
    "start_time": "2022-07-22T11:18:06.860Z"
   },
   {
    "duration": 11,
    "start_time": "2022-07-22T11:18:06.879Z"
   },
   {
    "duration": 12,
    "start_time": "2022-07-22T11:18:06.892Z"
   },
   {
    "duration": 14,
    "start_time": "2022-07-22T11:18:06.906Z"
   },
   {
    "duration": 54,
    "start_time": "2022-07-22T11:18:06.921Z"
   },
   {
    "duration": 453,
    "start_time": "2022-07-22T11:19:29.846Z"
   },
   {
    "duration": 89,
    "start_time": "2022-07-22T11:19:30.301Z"
   },
   {
    "duration": 22,
    "start_time": "2022-07-22T11:19:30.392Z"
   },
   {
    "duration": 22,
    "start_time": "2022-07-22T11:19:30.416Z"
   },
   {
    "duration": 25,
    "start_time": "2022-07-22T11:19:30.441Z"
   },
   {
    "duration": 69,
    "start_time": "2022-07-22T11:19:30.467Z"
   },
   {
    "duration": 3,
    "start_time": "2022-07-22T11:19:30.538Z"
   },
   {
    "duration": 42,
    "start_time": "2022-07-22T11:19:30.542Z"
   },
   {
    "duration": 5,
    "start_time": "2022-07-22T11:19:30.586Z"
   },
   {
    "duration": 26,
    "start_time": "2022-07-22T11:19:30.592Z"
   },
   {
    "duration": 17,
    "start_time": "2022-07-22T11:19:30.620Z"
   },
   {
    "duration": 55,
    "start_time": "2022-07-22T11:19:30.638Z"
   },
   {
    "duration": 11,
    "start_time": "2022-07-22T11:19:30.695Z"
   },
   {
    "duration": 78,
    "start_time": "2022-07-22T11:19:30.710Z"
   },
   {
    "duration": 16,
    "start_time": "2022-07-22T11:19:30.790Z"
   },
   {
    "duration": 15,
    "start_time": "2022-07-22T11:19:30.808Z"
   },
   {
    "duration": 11,
    "start_time": "2022-07-22T11:19:30.825Z"
   },
   {
    "duration": 33,
    "start_time": "2022-07-22T11:19:30.838Z"
   },
   {
    "duration": 25,
    "start_time": "2022-07-22T11:19:30.874Z"
   },
   {
    "duration": 20,
    "start_time": "2022-07-22T11:19:30.901Z"
   },
   {
    "duration": 13,
    "start_time": "2022-07-22T11:19:30.923Z"
   },
   {
    "duration": 47,
    "start_time": "2022-07-22T11:19:30.938Z"
   },
   {
    "duration": 20,
    "start_time": "2022-07-22T11:19:30.987Z"
   },
   {
    "duration": 30,
    "start_time": "2022-07-22T11:19:31.009Z"
   },
   {
    "duration": 63,
    "start_time": "2022-07-22T11:19:31.041Z"
   },
   {
    "duration": 24,
    "start_time": "2022-07-22T11:19:31.105Z"
   },
   {
    "duration": 40,
    "start_time": "2022-07-22T11:19:31.131Z"
   },
   {
    "duration": 37,
    "start_time": "2022-07-22T11:19:31.172Z"
   },
   {
    "duration": 36,
    "start_time": "2022-07-22T11:19:31.211Z"
   },
   {
    "duration": 41,
    "start_time": "2022-07-22T11:19:31.248Z"
   },
   {
    "duration": 31,
    "start_time": "2022-07-22T11:19:31.290Z"
   },
   {
    "duration": 17,
    "start_time": "2022-07-22T11:19:31.323Z"
   },
   {
    "duration": 53,
    "start_time": "2022-07-22T11:19:31.342Z"
   },
   {
    "duration": 103,
    "start_time": "2022-07-22T11:35:48.783Z"
   },
   {
    "duration": 22,
    "start_time": "2022-07-22T11:36:03.961Z"
   },
   {
    "duration": 31,
    "start_time": "2022-07-22T11:36:31.546Z"
   },
   {
    "duration": 14,
    "start_time": "2022-07-22T11:37:32.608Z"
   },
   {
    "duration": 12,
    "start_time": "2022-07-22T11:37:48.808Z"
   },
   {
    "duration": 8,
    "start_time": "2022-07-22T11:39:00.486Z"
   },
   {
    "duration": 100,
    "start_time": "2022-07-22T11:39:24.793Z"
   },
   {
    "duration": 67,
    "start_time": "2022-07-22T11:39:43.282Z"
   },
   {
    "duration": 18,
    "start_time": "2022-07-22T11:39:53.554Z"
   },
   {
    "duration": 73,
    "start_time": "2022-07-22T11:40:15.259Z"
   },
   {
    "duration": 15,
    "start_time": "2022-07-22T11:40:38.443Z"
   },
   {
    "duration": 18,
    "start_time": "2022-07-22T11:40:41.347Z"
   },
   {
    "duration": 13,
    "start_time": "2022-07-22T11:40:51.552Z"
   },
   {
    "duration": 11,
    "start_time": "2022-07-22T11:41:06.516Z"
   },
   {
    "duration": 12,
    "start_time": "2022-07-22T11:41:10.047Z"
   },
   {
    "duration": 14,
    "start_time": "2022-07-22T11:41:18.700Z"
   },
   {
    "duration": 16,
    "start_time": "2022-07-22T11:41:23.741Z"
   },
   {
    "duration": 11,
    "start_time": "2022-07-22T11:41:32.424Z"
   },
   {
    "duration": 11,
    "start_time": "2022-07-22T11:41:47.453Z"
   },
   {
    "duration": 13,
    "start_time": "2022-07-22T11:41:58.822Z"
   },
   {
    "duration": 926,
    "start_time": "2022-07-22T11:42:18.893Z"
   },
   {
    "duration": 754,
    "start_time": "2022-07-22T11:42:31.724Z"
   },
   {
    "duration": 10,
    "start_time": "2022-07-22T11:43:24.256Z"
   },
   {
    "duration": 14,
    "start_time": "2022-07-22T11:43:26.524Z"
   },
   {
    "duration": 12,
    "start_time": "2022-07-22T11:43:44.174Z"
   },
   {
    "duration": 15,
    "start_time": "2022-07-22T11:43:48.048Z"
   },
   {
    "duration": 14,
    "start_time": "2022-07-22T11:44:03.888Z"
   },
   {
    "duration": 15,
    "start_time": "2022-07-22T11:44:09.783Z"
   },
   {
    "duration": 373,
    "start_time": "2022-07-22T11:44:19.806Z"
   },
   {
    "duration": 70,
    "start_time": "2022-07-22T11:44:20.180Z"
   },
   {
    "duration": 21,
    "start_time": "2022-07-22T11:44:20.251Z"
   },
   {
    "duration": 19,
    "start_time": "2022-07-22T11:44:20.274Z"
   },
   {
    "duration": 9,
    "start_time": "2022-07-22T11:44:20.295Z"
   },
   {
    "duration": 33,
    "start_time": "2022-07-22T11:44:20.305Z"
   },
   {
    "duration": 3,
    "start_time": "2022-07-22T11:44:20.340Z"
   },
   {
    "duration": 29,
    "start_time": "2022-07-22T11:44:20.344Z"
   },
   {
    "duration": 4,
    "start_time": "2022-07-22T11:44:20.375Z"
   },
   {
    "duration": 7,
    "start_time": "2022-07-22T11:44:20.382Z"
   },
   {
    "duration": 4,
    "start_time": "2022-07-22T11:44:20.390Z"
   },
   {
    "duration": 33,
    "start_time": "2022-07-22T11:44:20.395Z"
   },
   {
    "duration": 8,
    "start_time": "2022-07-22T11:44:20.430Z"
   },
   {
    "duration": 41,
    "start_time": "2022-07-22T11:44:20.460Z"
   },
   {
    "duration": 15,
    "start_time": "2022-07-22T11:44:20.503Z"
   },
   {
    "duration": 15,
    "start_time": "2022-07-22T11:44:20.520Z"
   },
   {
    "duration": 33,
    "start_time": "2022-07-22T11:44:20.536Z"
   },
   {
    "duration": 7,
    "start_time": "2022-07-22T11:44:20.570Z"
   },
   {
    "duration": 20,
    "start_time": "2022-07-22T11:44:20.579Z"
   },
   {
    "duration": 8,
    "start_time": "2022-07-22T11:44:20.601Z"
   },
   {
    "duration": 3,
    "start_time": "2022-07-22T11:44:20.611Z"
   },
   {
    "duration": 10,
    "start_time": "2022-07-22T11:44:20.616Z"
   },
   {
    "duration": 7,
    "start_time": "2022-07-22T11:44:20.627Z"
   },
   {
    "duration": 4,
    "start_time": "2022-07-22T11:44:20.636Z"
   },
   {
    "duration": 16,
    "start_time": "2022-07-22T11:44:20.661Z"
   },
   {
    "duration": 16,
    "start_time": "2022-07-22T11:44:20.678Z"
   },
   {
    "duration": 6,
    "start_time": "2022-07-22T11:44:20.696Z"
   },
   {
    "duration": 16,
    "start_time": "2022-07-22T11:44:20.706Z"
   },
   {
    "duration": 8,
    "start_time": "2022-07-22T11:44:20.723Z"
   },
   {
    "duration": 33,
    "start_time": "2022-07-22T11:44:20.733Z"
   },
   {
    "duration": 7,
    "start_time": "2022-07-22T11:44:20.767Z"
   },
   {
    "duration": 15,
    "start_time": "2022-07-22T11:44:20.775Z"
   },
   {
    "duration": 15,
    "start_time": "2022-07-22T11:44:20.791Z"
   },
   {
    "duration": 18,
    "start_time": "2022-07-22T11:44:20.807Z"
   },
   {
    "duration": 398,
    "start_time": "2022-07-22T11:44:42.861Z"
   },
   {
    "duration": 69,
    "start_time": "2022-07-22T11:44:43.261Z"
   },
   {
    "duration": 22,
    "start_time": "2022-07-22T11:44:43.331Z"
   },
   {
    "duration": 25,
    "start_time": "2022-07-22T11:44:43.355Z"
   },
   {
    "duration": 24,
    "start_time": "2022-07-22T11:44:43.381Z"
   },
   {
    "duration": 53,
    "start_time": "2022-07-22T11:44:43.407Z"
   },
   {
    "duration": 3,
    "start_time": "2022-07-22T11:44:43.462Z"
   },
   {
    "duration": 13,
    "start_time": "2022-07-22T11:44:43.467Z"
   },
   {
    "duration": 14,
    "start_time": "2022-07-22T11:44:43.481Z"
   },
   {
    "duration": 22,
    "start_time": "2022-07-22T11:44:43.498Z"
   },
   {
    "duration": 18,
    "start_time": "2022-07-22T11:44:43.521Z"
   },
   {
    "duration": 40,
    "start_time": "2022-07-22T11:44:43.541Z"
   },
   {
    "duration": 10,
    "start_time": "2022-07-22T11:44:43.583Z"
   },
   {
    "duration": 53,
    "start_time": "2022-07-22T11:44:43.594Z"
   },
   {
    "duration": 18,
    "start_time": "2022-07-22T11:44:43.648Z"
   },
   {
    "duration": 19,
    "start_time": "2022-07-22T11:44:43.668Z"
   },
   {
    "duration": 12,
    "start_time": "2022-07-22T11:44:43.689Z"
   },
   {
    "duration": 17,
    "start_time": "2022-07-22T11:44:43.703Z"
   },
   {
    "duration": 24,
    "start_time": "2022-07-22T11:44:43.721Z"
   },
   {
    "duration": 20,
    "start_time": "2022-07-22T11:44:43.747Z"
   },
   {
    "duration": 17,
    "start_time": "2022-07-22T11:44:43.769Z"
   },
   {
    "duration": 22,
    "start_time": "2022-07-22T11:44:43.787Z"
   },
   {
    "duration": 19,
    "start_time": "2022-07-22T11:44:43.811Z"
   },
   {
    "duration": 8,
    "start_time": "2022-07-22T11:44:43.832Z"
   },
   {
    "duration": 34,
    "start_time": "2022-07-22T11:44:43.842Z"
   },
   {
    "duration": 15,
    "start_time": "2022-07-22T11:44:43.878Z"
   },
   {
    "duration": 9,
    "start_time": "2022-07-22T11:44:43.894Z"
   },
   {
    "duration": 32,
    "start_time": "2022-07-22T11:44:43.906Z"
   },
   {
    "duration": 18,
    "start_time": "2022-07-22T11:44:43.940Z"
   },
   {
    "duration": 27,
    "start_time": "2022-07-22T11:44:43.959Z"
   },
   {
    "duration": 19,
    "start_time": "2022-07-22T11:44:43.988Z"
   },
   {
    "duration": 16,
    "start_time": "2022-07-22T11:44:44.009Z"
   },
   {
    "duration": 31,
    "start_time": "2022-07-22T11:44:44.026Z"
   },
   {
    "duration": 19,
    "start_time": "2022-07-22T11:44:44.059Z"
   },
   {
    "duration": 17,
    "start_time": "2022-07-22T11:45:48.036Z"
   },
   {
    "duration": 402,
    "start_time": "2022-07-22T11:46:07.492Z"
   },
   {
    "duration": 73,
    "start_time": "2022-07-22T11:46:07.896Z"
   },
   {
    "duration": 27,
    "start_time": "2022-07-22T11:46:07.978Z"
   },
   {
    "duration": 14,
    "start_time": "2022-07-22T11:46:08.007Z"
   },
   {
    "duration": 33,
    "start_time": "2022-07-22T11:46:08.023Z"
   },
   {
    "duration": 63,
    "start_time": "2022-07-22T11:46:08.057Z"
   },
   {
    "duration": 3,
    "start_time": "2022-07-22T11:46:08.122Z"
   },
   {
    "duration": 21,
    "start_time": "2022-07-22T11:46:08.127Z"
   },
   {
    "duration": 31,
    "start_time": "2022-07-22T11:46:08.150Z"
   },
   {
    "duration": 25,
    "start_time": "2022-07-22T11:46:08.183Z"
   },
   {
    "duration": 29,
    "start_time": "2022-07-22T11:46:08.210Z"
   },
   {
    "duration": 80,
    "start_time": "2022-07-22T11:46:08.241Z"
   },
   {
    "duration": 9,
    "start_time": "2022-07-22T11:46:08.323Z"
   },
   {
    "duration": 68,
    "start_time": "2022-07-22T11:46:08.335Z"
   },
   {
    "duration": 16,
    "start_time": "2022-07-22T11:46:08.404Z"
   },
   {
    "duration": 16,
    "start_time": "2022-07-22T11:46:08.421Z"
   },
   {
    "duration": 36,
    "start_time": "2022-07-22T11:46:08.438Z"
   },
   {
    "duration": 13,
    "start_time": "2022-07-22T11:46:08.480Z"
   },
   {
    "duration": 37,
    "start_time": "2022-07-22T11:46:08.494Z"
   },
   {
    "duration": 23,
    "start_time": "2022-07-22T11:46:08.532Z"
   },
   {
    "duration": 23,
    "start_time": "2022-07-22T11:46:08.557Z"
   },
   {
    "duration": 35,
    "start_time": "2022-07-22T11:46:08.582Z"
   },
   {
    "duration": 26,
    "start_time": "2022-07-22T11:46:08.619Z"
   },
   {
    "duration": 42,
    "start_time": "2022-07-22T11:46:08.648Z"
   },
   {
    "duration": 48,
    "start_time": "2022-07-22T11:46:08.692Z"
   },
   {
    "duration": 45,
    "start_time": "2022-07-22T11:46:08.743Z"
   },
   {
    "duration": 36,
    "start_time": "2022-07-22T11:46:08.790Z"
   },
   {
    "duration": 45,
    "start_time": "2022-07-22T11:46:08.829Z"
   },
   {
    "duration": 25,
    "start_time": "2022-07-22T11:46:08.888Z"
   },
   {
    "duration": 50,
    "start_time": "2022-07-22T11:46:08.916Z"
   },
   {
    "duration": 37,
    "start_time": "2022-07-22T11:46:08.976Z"
   },
   {
    "duration": 34,
    "start_time": "2022-07-22T11:46:09.014Z"
   },
   {
    "duration": 38,
    "start_time": "2022-07-22T11:46:09.050Z"
   },
   {
    "duration": 38,
    "start_time": "2022-07-22T11:46:09.089Z"
   }
  ],
  "colab": {
   "name": "dpp_template_part2.ipynb",
   "provenance": []
  },
  "kernelspec": {
   "display_name": "Python 3 (ipykernel)",
   "language": "python",
   "name": "python3"
  },
  "language_info": {
   "codemirror_mode": {
    "name": "ipython",
    "version": 3
   },
   "file_extension": ".py",
   "mimetype": "text/x-python",
   "name": "python",
   "nbconvert_exporter": "python",
   "pygments_lexer": "ipython3",
   "version": "3.8.9"
  },
  "toc": {
   "base_numbering": 1,
   "nav_menu": {},
   "number_sections": true,
   "sideBar": true,
   "skip_h1_title": true,
   "title_cell": "Table of Contents",
   "title_sidebar": "Contents",
   "toc_cell": false,
   "toc_position": {},
   "toc_section_display": true,
   "toc_window_display": false
  }
 },
 "nbformat": 4,
 "nbformat_minor": 5
}
