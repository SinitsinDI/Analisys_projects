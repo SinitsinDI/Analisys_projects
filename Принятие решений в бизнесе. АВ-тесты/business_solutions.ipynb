{
 "cells": [
  {
   "cell_type": "markdown",
   "metadata": {},
   "source": [
    "# Принятие решений в бизнесе"
   ]
  },
  {
   "cell_type": "markdown",
   "metadata": {},
   "source": [
    "Интернет-магазин собрал некоторые данные. Часть из них посвящена выдвинутым гипотезам и оценке аспектов их проверки, другая часть - результаты начатого А/В тестирования.\n",
    "\n",
    "**Данные для первой части:**\n",
    "\n",
    "Файл `hypothesis.csv`\n",
    "- `Hypothesis` — краткое описание гипотезы;\n",
    "- `Reach` — охват пользователей по 10-балльной шкале;\n",
    "- `Impact` — влияние на пользователей по 10-балльной шкале;\n",
    "- `Confidence` — уверенность в гипотезе по 10-балльной шкале;\n",
    "- `Efforts` — затраты ресурсов на проверку гипотезы по 10-балльной шкале. Чем больше значение `Efforts`, тем дороже проверка гипотезы.\n",
    "\n",
    "**Данные для второй части:**\n",
    "\n",
    "Файл `orders.csv`\n",
    "- `transactionId` — идентификатор заказа;\n",
    "- `visitorId` — идентификатор пользователя, совершившего заказ;\n",
    "- `date` — дата, когда был совершён заказ;\n",
    "- `revenue` — выручка заказа;\n",
    "- `group` — группа A/B-теста, в которую попал заказ.\n",
    "\n",
    "\n",
    "Файл `visitors.csv`\n",
    "- `date` — дата;\n",
    "- `group` — группа A/B-теста;\n",
    "- `visitors` — количество пользователей в указанную дату в указанной группе A/B-теста\n",
    "\n",
    "Задача заключается в приоритизации гипотез, а также в анализе результатов А/В-теста, на основе которых необходимо будет принять решение о судьбе проведенного теста."
   ]
  },
  {
   "cell_type": "markdown",
   "metadata": {},
   "source": [
    "Для начала следует импортировать все библиотеки, необходимые для работы с данными:"
   ]
  },
  {
   "cell_type": "code",
   "execution_count": 1,
   "metadata": {},
   "outputs": [],
   "source": [
    "import pandas as pd\n",
    "import matplotlib.pyplot as plt\n",
    "from scipy import stats as st\n",
    "import numpy as np\n",
    "import datetime as dt"
   ]
  },
  {
   "cell_type": "markdown",
   "metadata": {},
   "source": [
    "Теперь можно занести в переменные полученные от заказчика датасеты:"
   ]
  },
  {
   "cell_type": "code",
   "execution_count": 2,
   "metadata": {},
   "outputs": [],
   "source": [
    "hypothesis = pd.read_csv('hypothesis.csv')\n",
    "orders = pd.read_csv('orders.csv')\n",
    "visitors = pd.read_csv('visitors.csv')"
   ]
  },
  {
   "cell_type": "markdown",
   "metadata": {},
   "source": [
    "Изучим датасеты более детально:"
   ]
  },
  {
   "cell_type": "code",
   "execution_count": 3,
   "metadata": {},
   "outputs": [
    {
     "data": {
      "text/html": [
       "<div>\n",
       "<style scoped>\n",
       "    .dataframe tbody tr th:only-of-type {\n",
       "        vertical-align: middle;\n",
       "    }\n",
       "\n",
       "    .dataframe tbody tr th {\n",
       "        vertical-align: top;\n",
       "    }\n",
       "\n",
       "    .dataframe thead th {\n",
       "        text-align: right;\n",
       "    }\n",
       "</style>\n",
       "<table border=\"1\" class=\"dataframe\">\n",
       "  <thead>\n",
       "    <tr style=\"text-align: right;\">\n",
       "      <th></th>\n",
       "      <th>Hypothesis</th>\n",
       "      <th>Reach</th>\n",
       "      <th>Impact</th>\n",
       "      <th>Confidence</th>\n",
       "      <th>Efforts</th>\n",
       "    </tr>\n",
       "  </thead>\n",
       "  <tbody>\n",
       "    <tr>\n",
       "      <th>0</th>\n",
       "      <td>Добавить два новых канала привлечения трафика, что позволит привлекать на 30% больше пользователей</td>\n",
       "      <td>3</td>\n",
       "      <td>10</td>\n",
       "      <td>8</td>\n",
       "      <td>6</td>\n",
       "    </tr>\n",
       "    <tr>\n",
       "      <th>1</th>\n",
       "      <td>Запустить собственную службу доставки, что сократит срок доставки заказов</td>\n",
       "      <td>2</td>\n",
       "      <td>5</td>\n",
       "      <td>4</td>\n",
       "      <td>10</td>\n",
       "    </tr>\n",
       "    <tr>\n",
       "      <th>2</th>\n",
       "      <td>Добавить блоки рекомендаций товаров на сайт интернет магазина, чтобы повысить конверсию и средний чек заказа</td>\n",
       "      <td>8</td>\n",
       "      <td>3</td>\n",
       "      <td>7</td>\n",
       "      <td>3</td>\n",
       "    </tr>\n",
       "    <tr>\n",
       "      <th>3</th>\n",
       "      <td>Изменить структура категорий, что увеличит конверсию, т.к. пользователи быстрее найдут нужный товар</td>\n",
       "      <td>8</td>\n",
       "      <td>3</td>\n",
       "      <td>3</td>\n",
       "      <td>8</td>\n",
       "    </tr>\n",
       "    <tr>\n",
       "      <th>4</th>\n",
       "      <td>Изменить цвет фона главной страницы, чтобы увеличить вовлеченность пользователей</td>\n",
       "      <td>3</td>\n",
       "      <td>1</td>\n",
       "      <td>1</td>\n",
       "      <td>1</td>\n",
       "    </tr>\n",
       "  </tbody>\n",
       "</table>\n",
       "</div>"
      ],
      "text/plain": [
       "                                                                                                     Hypothesis  \\\n",
       "0            Добавить два новых канала привлечения трафика, что позволит привлекать на 30% больше пользователей   \n",
       "1                                     Запустить собственную службу доставки, что сократит срок доставки заказов   \n",
       "2  Добавить блоки рекомендаций товаров на сайт интернет магазина, чтобы повысить конверсию и средний чек заказа   \n",
       "3           Изменить структура категорий, что увеличит конверсию, т.к. пользователи быстрее найдут нужный товар   \n",
       "4                              Изменить цвет фона главной страницы, чтобы увеличить вовлеченность пользователей   \n",
       "\n",
       "   Reach  Impact  Confidence  Efforts  \n",
       "0      3      10           8        6  \n",
       "1      2       5           4       10  \n",
       "2      8       3           7        3  \n",
       "3      8       3           3        8  \n",
       "4      3       1           1        1  "
      ]
     },
     "execution_count": 3,
     "metadata": {},
     "output_type": "execute_result"
    }
   ],
   "source": [
    "pd.options.display.max_colwidth = 120\n",
    "hypothesis.head()"
   ]
  },
  {
   "cell_type": "code",
   "execution_count": 4,
   "metadata": {},
   "outputs": [
    {
     "data": {
      "text/html": [
       "<div>\n",
       "<style scoped>\n",
       "    .dataframe tbody tr th:only-of-type {\n",
       "        vertical-align: middle;\n",
       "    }\n",
       "\n",
       "    .dataframe tbody tr th {\n",
       "        vertical-align: top;\n",
       "    }\n",
       "\n",
       "    .dataframe thead th {\n",
       "        text-align: right;\n",
       "    }\n",
       "</style>\n",
       "<table border=\"1\" class=\"dataframe\">\n",
       "  <thead>\n",
       "    <tr style=\"text-align: right;\">\n",
       "      <th></th>\n",
       "      <th>transactionId</th>\n",
       "      <th>visitorId</th>\n",
       "      <th>date</th>\n",
       "      <th>revenue</th>\n",
       "      <th>group</th>\n",
       "    </tr>\n",
       "  </thead>\n",
       "  <tbody>\n",
       "    <tr>\n",
       "      <th>0</th>\n",
       "      <td>3667963787</td>\n",
       "      <td>3312258926</td>\n",
       "      <td>2019-08-15</td>\n",
       "      <td>1650</td>\n",
       "      <td>B</td>\n",
       "    </tr>\n",
       "    <tr>\n",
       "      <th>1</th>\n",
       "      <td>2804400009</td>\n",
       "      <td>3642806036</td>\n",
       "      <td>2019-08-15</td>\n",
       "      <td>730</td>\n",
       "      <td>B</td>\n",
       "    </tr>\n",
       "    <tr>\n",
       "      <th>2</th>\n",
       "      <td>2961555356</td>\n",
       "      <td>4069496402</td>\n",
       "      <td>2019-08-15</td>\n",
       "      <td>400</td>\n",
       "      <td>A</td>\n",
       "    </tr>\n",
       "    <tr>\n",
       "      <th>3</th>\n",
       "      <td>3797467345</td>\n",
       "      <td>1196621759</td>\n",
       "      <td>2019-08-15</td>\n",
       "      <td>9759</td>\n",
       "      <td>B</td>\n",
       "    </tr>\n",
       "    <tr>\n",
       "      <th>4</th>\n",
       "      <td>2282983706</td>\n",
       "      <td>2322279887</td>\n",
       "      <td>2019-08-15</td>\n",
       "      <td>2308</td>\n",
       "      <td>B</td>\n",
       "    </tr>\n",
       "  </tbody>\n",
       "</table>\n",
       "</div>"
      ],
      "text/plain": [
       "   transactionId   visitorId        date  revenue group\n",
       "0     3667963787  3312258926  2019-08-15     1650     B\n",
       "1     2804400009  3642806036  2019-08-15      730     B\n",
       "2     2961555356  4069496402  2019-08-15      400     A\n",
       "3     3797467345  1196621759  2019-08-15     9759     B\n",
       "4     2282983706  2322279887  2019-08-15     2308     B"
      ]
     },
     "execution_count": 4,
     "metadata": {},
     "output_type": "execute_result"
    }
   ],
   "source": [
    "orders.head()"
   ]
  },
  {
   "cell_type": "code",
   "execution_count": 5,
   "metadata": {},
   "outputs": [
    {
     "data": {
      "text/html": [
       "<div>\n",
       "<style scoped>\n",
       "    .dataframe tbody tr th:only-of-type {\n",
       "        vertical-align: middle;\n",
       "    }\n",
       "\n",
       "    .dataframe tbody tr th {\n",
       "        vertical-align: top;\n",
       "    }\n",
       "\n",
       "    .dataframe thead th {\n",
       "        text-align: right;\n",
       "    }\n",
       "</style>\n",
       "<table border=\"1\" class=\"dataframe\">\n",
       "  <thead>\n",
       "    <tr style=\"text-align: right;\">\n",
       "      <th></th>\n",
       "      <th>date</th>\n",
       "      <th>group</th>\n",
       "      <th>visitors</th>\n",
       "    </tr>\n",
       "  </thead>\n",
       "  <tbody>\n",
       "    <tr>\n",
       "      <th>0</th>\n",
       "      <td>2019-08-01</td>\n",
       "      <td>A</td>\n",
       "      <td>719</td>\n",
       "    </tr>\n",
       "    <tr>\n",
       "      <th>1</th>\n",
       "      <td>2019-08-02</td>\n",
       "      <td>A</td>\n",
       "      <td>619</td>\n",
       "    </tr>\n",
       "    <tr>\n",
       "      <th>2</th>\n",
       "      <td>2019-08-03</td>\n",
       "      <td>A</td>\n",
       "      <td>507</td>\n",
       "    </tr>\n",
       "    <tr>\n",
       "      <th>3</th>\n",
       "      <td>2019-08-04</td>\n",
       "      <td>A</td>\n",
       "      <td>717</td>\n",
       "    </tr>\n",
       "    <tr>\n",
       "      <th>4</th>\n",
       "      <td>2019-08-05</td>\n",
       "      <td>A</td>\n",
       "      <td>756</td>\n",
       "    </tr>\n",
       "  </tbody>\n",
       "</table>\n",
       "</div>"
      ],
      "text/plain": [
       "         date group  visitors\n",
       "0  2019-08-01     A       719\n",
       "1  2019-08-02     A       619\n",
       "2  2019-08-03     A       507\n",
       "3  2019-08-04     A       717\n",
       "4  2019-08-05     A       756"
      ]
     },
     "execution_count": 5,
     "metadata": {},
     "output_type": "execute_result"
    }
   ],
   "source": [
    "visitors.head()"
   ]
  },
  {
   "cell_type": "markdown",
   "metadata": {},
   "source": [
    "Информация в датасетах соответствует описанной заказчиком. Единственное - можно привести названия столбцов к принятому формату."
   ]
  },
  {
   "cell_type": "code",
   "execution_count": 6,
   "metadata": {},
   "outputs": [],
   "source": [
    "hypothesis.columns = hypothesis.columns.str.lower()"
   ]
  },
  {
   "cell_type": "code",
   "execution_count": 7,
   "metadata": {},
   "outputs": [],
   "source": [
    "orders.columns = ['transaction_id','visitor_id','date','revenue','group']"
   ]
  },
  {
   "cell_type": "markdown",
   "metadata": {},
   "source": [
    "Изучим размеры датасетов и наличие пропусков в данных:"
   ]
  },
  {
   "cell_type": "code",
   "execution_count": 8,
   "metadata": {},
   "outputs": [
    {
     "name": "stdout",
     "output_type": "stream",
     "text": [
      "<class 'pandas.core.frame.DataFrame'>\n",
      "RangeIndex: 9 entries, 0 to 8\n",
      "Data columns (total 5 columns):\n",
      " #   Column      Non-Null Count  Dtype \n",
      "---  ------      --------------  ----- \n",
      " 0   hypothesis  9 non-null      object\n",
      " 1   reach       9 non-null      int64 \n",
      " 2   impact      9 non-null      int64 \n",
      " 3   confidence  9 non-null      int64 \n",
      " 4   efforts     9 non-null      int64 \n",
      "dtypes: int64(4), object(1)\n",
      "memory usage: 488.0+ bytes\n"
     ]
    }
   ],
   "source": [
    "hypothesis.info()"
   ]
  },
  {
   "cell_type": "code",
   "execution_count": 9,
   "metadata": {},
   "outputs": [
    {
     "name": "stdout",
     "output_type": "stream",
     "text": [
      "<class 'pandas.core.frame.DataFrame'>\n",
      "RangeIndex: 1197 entries, 0 to 1196\n",
      "Data columns (total 5 columns):\n",
      " #   Column          Non-Null Count  Dtype \n",
      "---  ------          --------------  ----- \n",
      " 0   transaction_id  1197 non-null   int64 \n",
      " 1   visitor_id      1197 non-null   int64 \n",
      " 2   date            1197 non-null   object\n",
      " 3   revenue         1197 non-null   int64 \n",
      " 4   group           1197 non-null   object\n",
      "dtypes: int64(3), object(2)\n",
      "memory usage: 46.9+ KB\n"
     ]
    }
   ],
   "source": [
    "orders.info()"
   ]
  },
  {
   "cell_type": "code",
   "execution_count": 10,
   "metadata": {},
   "outputs": [
    {
     "name": "stdout",
     "output_type": "stream",
     "text": [
      "<class 'pandas.core.frame.DataFrame'>\n",
      "RangeIndex: 62 entries, 0 to 61\n",
      "Data columns (total 3 columns):\n",
      " #   Column    Non-Null Count  Dtype \n",
      "---  ------    --------------  ----- \n",
      " 0   date      62 non-null     object\n",
      " 1   group     62 non-null     object\n",
      " 2   visitors  62 non-null     int64 \n",
      "dtypes: int64(1), object(2)\n",
      "memory usage: 1.6+ KB\n"
     ]
    }
   ],
   "source": [
    "visitors.info()"
   ]
  },
  {
   "cell_type": "markdown",
   "metadata": {},
   "source": [
    "Пропусков не обнаружено, датасеты небольшие по объему.\n",
    "\n",
    "Однако формат даты не приведен к нужному, исправим это:"
   ]
  },
  {
   "cell_type": "code",
   "execution_count": 11,
   "metadata": {},
   "outputs": [],
   "source": [
    "visitors['date'] = visitors['date'].map(\n",
    "    lambda x: dt.datetime.strptime(x, '%Y-%m-%d')\n",
    ")\n",
    "orders['date'] = orders['date'].map(\n",
    "    lambda x: dt.datetime.strptime(x, '%Y-%m-%d')\n",
    ")"
   ]
  },
  {
   "cell_type": "markdown",
   "metadata": {},
   "source": [
    "## Часть 1. Приоритизация гипотез."
   ]
  },
  {
   "cell_type": "markdown",
   "metadata": {},
   "source": [
    "- Применим фреймворк `ICE` для приоритизации гипотез.\n",
    "- Применим фреймворк `RICE` для приоритизации гипотез.\n",
    "\n",
    "Напомню, что `ICE` расчитывается, как **`ICE = Impact * Confidence / Efforts`**\n",
    "\n",
    "Формула для расчета `RICE` следующая: **`RICE = Reach * Impact * Confidence / Efforts`**"
   ]
  },
  {
   "cell_type": "code",
   "execution_count": 12,
   "metadata": {},
   "outputs": [],
   "source": [
    "hypothesis['ice'] = round(hypothesis['impact']*hypothesis['confidence']/hypothesis['efforts'],2)\n",
    "hypothesis['rice'] = round(hypothesis['reach']*hypothesis['impact']*hypothesis['confidence']/hypothesis['efforts'],2)"
   ]
  },
  {
   "cell_type": "markdown",
   "metadata": {},
   "source": [
    "Отсортируем датасет по убыванию фреймворка `ICE`:"
   ]
  },
  {
   "cell_type": "code",
   "execution_count": 13,
   "metadata": {
    "scrolled": true
   },
   "outputs": [
    {
     "data": {
      "text/html": [
       "<div>\n",
       "<style scoped>\n",
       "    .dataframe tbody tr th:only-of-type {\n",
       "        vertical-align: middle;\n",
       "    }\n",
       "\n",
       "    .dataframe tbody tr th {\n",
       "        vertical-align: top;\n",
       "    }\n",
       "\n",
       "    .dataframe thead th {\n",
       "        text-align: right;\n",
       "    }\n",
       "</style>\n",
       "<table border=\"1\" class=\"dataframe\">\n",
       "  <thead>\n",
       "    <tr style=\"text-align: right;\">\n",
       "      <th></th>\n",
       "      <th>hypothesis</th>\n",
       "      <th>reach</th>\n",
       "      <th>impact</th>\n",
       "      <th>confidence</th>\n",
       "      <th>efforts</th>\n",
       "      <th>ice</th>\n",
       "      <th>rice</th>\n",
       "    </tr>\n",
       "  </thead>\n",
       "  <tbody>\n",
       "    <tr>\n",
       "      <th>8</th>\n",
       "      <td>Запустить акцию, дающую скидку на товар в день рождения</td>\n",
       "      <td>1</td>\n",
       "      <td>9</td>\n",
       "      <td>9</td>\n",
       "      <td>5</td>\n",
       "      <td>16.20</td>\n",
       "      <td>16.2</td>\n",
       "    </tr>\n",
       "    <tr>\n",
       "      <th>0</th>\n",
       "      <td>Добавить два новых канала привлечения трафика, что позволит привлекать на 30% больше пользователей</td>\n",
       "      <td>3</td>\n",
       "      <td>10</td>\n",
       "      <td>8</td>\n",
       "      <td>6</td>\n",
       "      <td>13.33</td>\n",
       "      <td>40.0</td>\n",
       "    </tr>\n",
       "    <tr>\n",
       "      <th>7</th>\n",
       "      <td>Добавить форму подписки на все основные страницы, чтобы собрать базу клиентов для email-рассылок</td>\n",
       "      <td>10</td>\n",
       "      <td>7</td>\n",
       "      <td>8</td>\n",
       "      <td>5</td>\n",
       "      <td>11.20</td>\n",
       "      <td>112.0</td>\n",
       "    </tr>\n",
       "    <tr>\n",
       "      <th>6</th>\n",
       "      <td>Показать на главной странице баннеры с актуальными акциями и распродажами, чтобы увеличить конверсию</td>\n",
       "      <td>5</td>\n",
       "      <td>3</td>\n",
       "      <td>8</td>\n",
       "      <td>3</td>\n",
       "      <td>8.00</td>\n",
       "      <td>40.0</td>\n",
       "    </tr>\n",
       "    <tr>\n",
       "      <th>2</th>\n",
       "      <td>Добавить блоки рекомендаций товаров на сайт интернет магазина, чтобы повысить конверсию и средний чек заказа</td>\n",
       "      <td>8</td>\n",
       "      <td>3</td>\n",
       "      <td>7</td>\n",
       "      <td>3</td>\n",
       "      <td>7.00</td>\n",
       "      <td>56.0</td>\n",
       "    </tr>\n",
       "    <tr>\n",
       "      <th>1</th>\n",
       "      <td>Запустить собственную службу доставки, что сократит срок доставки заказов</td>\n",
       "      <td>2</td>\n",
       "      <td>5</td>\n",
       "      <td>4</td>\n",
       "      <td>10</td>\n",
       "      <td>2.00</td>\n",
       "      <td>4.0</td>\n",
       "    </tr>\n",
       "    <tr>\n",
       "      <th>5</th>\n",
       "      <td>Добавить страницу отзывов клиентов о магазине, что позволит увеличить количество заказов</td>\n",
       "      <td>3</td>\n",
       "      <td>2</td>\n",
       "      <td>2</td>\n",
       "      <td>3</td>\n",
       "      <td>1.33</td>\n",
       "      <td>4.0</td>\n",
       "    </tr>\n",
       "    <tr>\n",
       "      <th>3</th>\n",
       "      <td>Изменить структура категорий, что увеличит конверсию, т.к. пользователи быстрее найдут нужный товар</td>\n",
       "      <td>8</td>\n",
       "      <td>3</td>\n",
       "      <td>3</td>\n",
       "      <td>8</td>\n",
       "      <td>1.12</td>\n",
       "      <td>9.0</td>\n",
       "    </tr>\n",
       "    <tr>\n",
       "      <th>4</th>\n",
       "      <td>Изменить цвет фона главной страницы, чтобы увеличить вовлеченность пользователей</td>\n",
       "      <td>3</td>\n",
       "      <td>1</td>\n",
       "      <td>1</td>\n",
       "      <td>1</td>\n",
       "      <td>1.00</td>\n",
       "      <td>3.0</td>\n",
       "    </tr>\n",
       "  </tbody>\n",
       "</table>\n",
       "</div>"
      ],
      "text/plain": [
       "                                                                                                     hypothesis  \\\n",
       "8                                                       Запустить акцию, дающую скидку на товар в день рождения   \n",
       "0            Добавить два новых канала привлечения трафика, что позволит привлекать на 30% больше пользователей   \n",
       "7              Добавить форму подписки на все основные страницы, чтобы собрать базу клиентов для email-рассылок   \n",
       "6          Показать на главной странице баннеры с актуальными акциями и распродажами, чтобы увеличить конверсию   \n",
       "2  Добавить блоки рекомендаций товаров на сайт интернет магазина, чтобы повысить конверсию и средний чек заказа   \n",
       "1                                     Запустить собственную службу доставки, что сократит срок доставки заказов   \n",
       "5                      Добавить страницу отзывов клиентов о магазине, что позволит увеличить количество заказов   \n",
       "3           Изменить структура категорий, что увеличит конверсию, т.к. пользователи быстрее найдут нужный товар   \n",
       "4                              Изменить цвет фона главной страницы, чтобы увеличить вовлеченность пользователей   \n",
       "\n",
       "   reach  impact  confidence  efforts    ice   rice  \n",
       "8      1       9           9        5  16.20   16.2  \n",
       "0      3      10           8        6  13.33   40.0  \n",
       "7     10       7           8        5  11.20  112.0  \n",
       "6      5       3           8        3   8.00   40.0  \n",
       "2      8       3           7        3   7.00   56.0  \n",
       "1      2       5           4       10   2.00    4.0  \n",
       "5      3       2           2        3   1.33    4.0  \n",
       "3      8       3           3        8   1.12    9.0  \n",
       "4      3       1           1        1   1.00    3.0  "
      ]
     },
     "execution_count": 13,
     "metadata": {},
     "output_type": "execute_result"
    }
   ],
   "source": [
    "hypothesis.sort_values(by='ice',ascending=False)"
   ]
  },
  {
   "cell_type": "markdown",
   "metadata": {},
   "source": [
    "Повторим то же самое для `RICE`:"
   ]
  },
  {
   "cell_type": "code",
   "execution_count": 14,
   "metadata": {},
   "outputs": [
    {
     "data": {
      "text/html": [
       "<div>\n",
       "<style scoped>\n",
       "    .dataframe tbody tr th:only-of-type {\n",
       "        vertical-align: middle;\n",
       "    }\n",
       "\n",
       "    .dataframe tbody tr th {\n",
       "        vertical-align: top;\n",
       "    }\n",
       "\n",
       "    .dataframe thead th {\n",
       "        text-align: right;\n",
       "    }\n",
       "</style>\n",
       "<table border=\"1\" class=\"dataframe\">\n",
       "  <thead>\n",
       "    <tr style=\"text-align: right;\">\n",
       "      <th></th>\n",
       "      <th>hypothesis</th>\n",
       "      <th>reach</th>\n",
       "      <th>impact</th>\n",
       "      <th>confidence</th>\n",
       "      <th>efforts</th>\n",
       "      <th>ice</th>\n",
       "      <th>rice</th>\n",
       "    </tr>\n",
       "  </thead>\n",
       "  <tbody>\n",
       "    <tr>\n",
       "      <th>7</th>\n",
       "      <td>Добавить форму подписки на все основные страницы, чтобы собрать базу клиентов для email-рассылок</td>\n",
       "      <td>10</td>\n",
       "      <td>7</td>\n",
       "      <td>8</td>\n",
       "      <td>5</td>\n",
       "      <td>11.20</td>\n",
       "      <td>112.0</td>\n",
       "    </tr>\n",
       "    <tr>\n",
       "      <th>2</th>\n",
       "      <td>Добавить блоки рекомендаций товаров на сайт интернет магазина, чтобы повысить конверсию и средний чек заказа</td>\n",
       "      <td>8</td>\n",
       "      <td>3</td>\n",
       "      <td>7</td>\n",
       "      <td>3</td>\n",
       "      <td>7.00</td>\n",
       "      <td>56.0</td>\n",
       "    </tr>\n",
       "    <tr>\n",
       "      <th>0</th>\n",
       "      <td>Добавить два новых канала привлечения трафика, что позволит привлекать на 30% больше пользователей</td>\n",
       "      <td>3</td>\n",
       "      <td>10</td>\n",
       "      <td>8</td>\n",
       "      <td>6</td>\n",
       "      <td>13.33</td>\n",
       "      <td>40.0</td>\n",
       "    </tr>\n",
       "    <tr>\n",
       "      <th>6</th>\n",
       "      <td>Показать на главной странице баннеры с актуальными акциями и распродажами, чтобы увеличить конверсию</td>\n",
       "      <td>5</td>\n",
       "      <td>3</td>\n",
       "      <td>8</td>\n",
       "      <td>3</td>\n",
       "      <td>8.00</td>\n",
       "      <td>40.0</td>\n",
       "    </tr>\n",
       "    <tr>\n",
       "      <th>8</th>\n",
       "      <td>Запустить акцию, дающую скидку на товар в день рождения</td>\n",
       "      <td>1</td>\n",
       "      <td>9</td>\n",
       "      <td>9</td>\n",
       "      <td>5</td>\n",
       "      <td>16.20</td>\n",
       "      <td>16.2</td>\n",
       "    </tr>\n",
       "    <tr>\n",
       "      <th>3</th>\n",
       "      <td>Изменить структура категорий, что увеличит конверсию, т.к. пользователи быстрее найдут нужный товар</td>\n",
       "      <td>8</td>\n",
       "      <td>3</td>\n",
       "      <td>3</td>\n",
       "      <td>8</td>\n",
       "      <td>1.12</td>\n",
       "      <td>9.0</td>\n",
       "    </tr>\n",
       "    <tr>\n",
       "      <th>1</th>\n",
       "      <td>Запустить собственную службу доставки, что сократит срок доставки заказов</td>\n",
       "      <td>2</td>\n",
       "      <td>5</td>\n",
       "      <td>4</td>\n",
       "      <td>10</td>\n",
       "      <td>2.00</td>\n",
       "      <td>4.0</td>\n",
       "    </tr>\n",
       "    <tr>\n",
       "      <th>5</th>\n",
       "      <td>Добавить страницу отзывов клиентов о магазине, что позволит увеличить количество заказов</td>\n",
       "      <td>3</td>\n",
       "      <td>2</td>\n",
       "      <td>2</td>\n",
       "      <td>3</td>\n",
       "      <td>1.33</td>\n",
       "      <td>4.0</td>\n",
       "    </tr>\n",
       "    <tr>\n",
       "      <th>4</th>\n",
       "      <td>Изменить цвет фона главной страницы, чтобы увеличить вовлеченность пользователей</td>\n",
       "      <td>3</td>\n",
       "      <td>1</td>\n",
       "      <td>1</td>\n",
       "      <td>1</td>\n",
       "      <td>1.00</td>\n",
       "      <td>3.0</td>\n",
       "    </tr>\n",
       "  </tbody>\n",
       "</table>\n",
       "</div>"
      ],
      "text/plain": [
       "                                                                                                     hypothesis  \\\n",
       "7              Добавить форму подписки на все основные страницы, чтобы собрать базу клиентов для email-рассылок   \n",
       "2  Добавить блоки рекомендаций товаров на сайт интернет магазина, чтобы повысить конверсию и средний чек заказа   \n",
       "0            Добавить два новых канала привлечения трафика, что позволит привлекать на 30% больше пользователей   \n",
       "6          Показать на главной странице баннеры с актуальными акциями и распродажами, чтобы увеличить конверсию   \n",
       "8                                                       Запустить акцию, дающую скидку на товар в день рождения   \n",
       "3           Изменить структура категорий, что увеличит конверсию, т.к. пользователи быстрее найдут нужный товар   \n",
       "1                                     Запустить собственную службу доставки, что сократит срок доставки заказов   \n",
       "5                      Добавить страницу отзывов клиентов о магазине, что позволит увеличить количество заказов   \n",
       "4                              Изменить цвет фона главной страницы, чтобы увеличить вовлеченность пользователей   \n",
       "\n",
       "   reach  impact  confidence  efforts    ice   rice  \n",
       "7     10       7           8        5  11.20  112.0  \n",
       "2      8       3           7        3   7.00   56.0  \n",
       "0      3      10           8        6  13.33   40.0  \n",
       "6      5       3           8        3   8.00   40.0  \n",
       "8      1       9           9        5  16.20   16.2  \n",
       "3      8       3           3        8   1.12    9.0  \n",
       "1      2       5           4       10   2.00    4.0  \n",
       "5      3       2           2        3   1.33    4.0  \n",
       "4      3       1           1        1   1.00    3.0  "
      ]
     },
     "execution_count": 14,
     "metadata": {},
     "output_type": "execute_result"
    }
   ],
   "source": [
    "pd.options.display.max_colwidth = 120\n",
    "hypothesis.sort_values(by='rice',ascending=False)"
   ]
  },
  {
   "cell_type": "markdown",
   "metadata": {},
   "source": [
    "Можно заметить, что приоритизация гипотез сильно меняется, когда мы переходим от `ICE` к `RICE`. Это связано с тем, что у разных гипотез разный охват пользователей, на которых ее можно проверить, и из-за этого у гипотезы метрика `RICE` может до 10 раз превосходить значение `ICE`. Лучше ориентироваться на второй расчет, т.к. может быть такое, что предствленная гипотеза сильно повлияет на пользователей и есть уверенность в полученных значениях параметров, но при этом охват пользователей, к которым она будет применена, окажется минимальным. В таком случае это не принесет большого изменения прибыли."
   ]
  },
  {
   "cell_type": "markdown",
   "metadata": {},
   "source": [
    "## Часть 2. Анализ A/B-теста"
   ]
  },
  {
   "cell_type": "markdown",
   "metadata": {},
   "source": [
    "Для начала следует убедиться, что размеры групп равны или не сильно различаются, чтобы достоверность результатов не была под сомнением."
   ]
  },
  {
   "cell_type": "code",
   "execution_count": 15,
   "metadata": {},
   "outputs": [
    {
     "data": {
      "text/plain": [
       "0.9904842461408332"
      ]
     },
     "execution_count": 15,
     "metadata": {},
     "output_type": "execute_result"
    }
   ],
   "source": [
    "visitors[visitors['group']=='A']['visitors'].sum()/visitors[visitors['group']=='B']['visitors'].sum()"
   ]
  },
  {
   "cell_type": "markdown",
   "metadata": {},
   "source": [
    "Отношение числа посетителей различается менее, чем на 1%. Это значит, что при обнаружении различий в среднем чеке или числе заказов можно будет отбросить мысли о том, что это может случиться из-за разных по размеру групп."
   ]
  },
  {
   "cell_type": "markdown",
   "metadata": {},
   "source": [
    "Следует проверить, нет ли пользователей, которые попали в обе группы:"
   ]
  },
  {
   "cell_type": "code",
   "execution_count": 16,
   "metadata": {},
   "outputs": [
    {
     "data": {
      "text/html": [
       "<div>\n",
       "<style scoped>\n",
       "    .dataframe tbody tr th:only-of-type {\n",
       "        vertical-align: middle;\n",
       "    }\n",
       "\n",
       "    .dataframe tbody tr th {\n",
       "        vertical-align: top;\n",
       "    }\n",
       "\n",
       "    .dataframe thead th {\n",
       "        text-align: right;\n",
       "    }\n",
       "</style>\n",
       "<table border=\"1\" class=\"dataframe\">\n",
       "  <thead>\n",
       "    <tr style=\"text-align: right;\">\n",
       "      <th></th>\n",
       "      <th>transaction_id</th>\n",
       "      <th>visitor_id</th>\n",
       "      <th>date</th>\n",
       "      <th>revenue</th>\n",
       "      <th>group</th>\n",
       "    </tr>\n",
       "  </thead>\n",
       "  <tbody>\n",
       "    <tr>\n",
       "      <th>2</th>\n",
       "      <td>2961555356</td>\n",
       "      <td>4069496402</td>\n",
       "      <td>2019-08-15</td>\n",
       "      <td>400</td>\n",
       "      <td>A</td>\n",
       "    </tr>\n",
       "    <tr>\n",
       "      <th>20</th>\n",
       "      <td>2904772834</td>\n",
       "      <td>963407295</td>\n",
       "      <td>2019-08-15</td>\n",
       "      <td>300</td>\n",
       "      <td>B</td>\n",
       "    </tr>\n",
       "    <tr>\n",
       "      <th>23</th>\n",
       "      <td>4252514150</td>\n",
       "      <td>351125977</td>\n",
       "      <td>2019-08-15</td>\n",
       "      <td>15185</td>\n",
       "      <td>B</td>\n",
       "    </tr>\n",
       "    <tr>\n",
       "      <th>24</th>\n",
       "      <td>1162046357</td>\n",
       "      <td>3234906277</td>\n",
       "      <td>2019-08-15</td>\n",
       "      <td>7555</td>\n",
       "      <td>B</td>\n",
       "    </tr>\n",
       "    <tr>\n",
       "      <th>26</th>\n",
       "      <td>2223239646</td>\n",
       "      <td>199603092</td>\n",
       "      <td>2019-08-15</td>\n",
       "      <td>3488</td>\n",
       "      <td>A</td>\n",
       "    </tr>\n",
       "    <tr>\n",
       "      <th>...</th>\n",
       "      <td>...</td>\n",
       "      <td>...</td>\n",
       "      <td>...</td>\n",
       "      <td>...</td>\n",
       "      <td>...</td>\n",
       "    </tr>\n",
       "    <tr>\n",
       "      <th>1182</th>\n",
       "      <td>2682156369</td>\n",
       "      <td>1668030113</td>\n",
       "      <td>2019-08-14</td>\n",
       "      <td>1290</td>\n",
       "      <td>B</td>\n",
       "    </tr>\n",
       "    <tr>\n",
       "      <th>1183</th>\n",
       "      <td>1458356232</td>\n",
       "      <td>963407295</td>\n",
       "      <td>2019-08-14</td>\n",
       "      <td>4940</td>\n",
       "      <td>A</td>\n",
       "    </tr>\n",
       "    <tr>\n",
       "      <th>1184</th>\n",
       "      <td>1329499668</td>\n",
       "      <td>2949041841</td>\n",
       "      <td>2019-08-14</td>\n",
       "      <td>10380</td>\n",
       "      <td>B</td>\n",
       "    </tr>\n",
       "    <tr>\n",
       "      <th>1189</th>\n",
       "      <td>4082620617</td>\n",
       "      <td>393266494</td>\n",
       "      <td>2019-08-14</td>\n",
       "      <td>31550</td>\n",
       "      <td>B</td>\n",
       "    </tr>\n",
       "    <tr>\n",
       "      <th>1195</th>\n",
       "      <td>1947021204</td>\n",
       "      <td>1614305549</td>\n",
       "      <td>2019-08-14</td>\n",
       "      <td>100</td>\n",
       "      <td>A</td>\n",
       "    </tr>\n",
       "  </tbody>\n",
       "</table>\n",
       "<p>181 rows × 5 columns</p>\n",
       "</div>"
      ],
      "text/plain": [
       "      transaction_id  visitor_id       date  revenue group\n",
       "2         2961555356  4069496402 2019-08-15      400     A\n",
       "20        2904772834   963407295 2019-08-15      300     B\n",
       "23        4252514150   351125977 2019-08-15    15185     B\n",
       "24        1162046357  3234906277 2019-08-15     7555     B\n",
       "26        2223239646   199603092 2019-08-15     3488     A\n",
       "...              ...         ...        ...      ...   ...\n",
       "1182      2682156369  1668030113 2019-08-14     1290     B\n",
       "1183      1458356232   963407295 2019-08-14     4940     A\n",
       "1184      1329499668  2949041841 2019-08-14    10380     B\n",
       "1189      4082620617   393266494 2019-08-14    31550     B\n",
       "1195      1947021204  1614305549 2019-08-14      100     A\n",
       "\n",
       "[181 rows x 5 columns]"
      ]
     },
     "execution_count": 16,
     "metadata": {},
     "output_type": "execute_result"
    }
   ],
   "source": [
    "wrong_users = orders[orders['visitor_id'].isin(orders.loc[(orders['group']=='A')&(orders['visitor_id'].isin(orders[orders['group']=='B']['visitor_id'])),'visitor_id'].unique())]\n",
    "wrong_users"
   ]
  },
  {
   "cell_type": "markdown",
   "metadata": {},
   "source": [
    "Обнаружена 181 запись с пользователями, присутствующими в обеих группах!"
   ]
  },
  {
   "cell_type": "code",
   "execution_count": 17,
   "metadata": {},
   "outputs": [
    {
     "data": {
      "text/plain": [
       "58"
      ]
     },
     "execution_count": 17,
     "metadata": {},
     "output_type": "execute_result"
    }
   ],
   "source": [
    "len(orders.loc[(orders['group']=='A')&(orders['visitor_id'].isin(orders[orders['group']=='B']['visitor_id'])),'visitor_id'].unique())"
   ]
  },
  {
   "cell_type": "markdown",
   "metadata": {},
   "source": [
    "При этом в этой 181 записи присутствует 58 человек. С одной стороны, нужно эти записи удалить. С другой стороны, эти записи составляют практически пятую часть датасета orders, что довольно много. К тому же, возникнет проблема: 181 запись о заказах пропала, а вот таблица с посещениями (поскольку исправить не так просто) осталась нетронутой: информация исказится."
   ]
  },
  {
   "cell_type": "code",
   "execution_count": 18,
   "metadata": {},
   "outputs": [
    {
     "data": {
      "text/plain": [
       "(89, 5)"
      ]
     },
     "execution_count": 18,
     "metadata": {},
     "output_type": "execute_result"
    }
   ],
   "source": [
    "wrong_users[wrong_users['group']=='A'].shape"
   ]
  },
  {
   "cell_type": "code",
   "execution_count": 19,
   "metadata": {},
   "outputs": [
    {
     "data": {
      "text/plain": [
       "(92, 5)"
      ]
     },
     "execution_count": 19,
     "metadata": {},
     "output_type": "execute_result"
    }
   ],
   "source": [
    "wrong_users[wrong_users['group']=='B'].shape"
   ]
  },
  {
   "cell_type": "code",
   "execution_count": 20,
   "metadata": {},
   "outputs": [
    {
     "data": {
      "text/plain": [
       "8091.539325842697"
      ]
     },
     "execution_count": 20,
     "metadata": {},
     "output_type": "execute_result"
    }
   ],
   "source": [
    "wrong_users[wrong_users['group']=='A']['revenue'].sum()/wrong_users[wrong_users['group']=='A'].shape[0]"
   ]
  },
  {
   "cell_type": "code",
   "execution_count": 21,
   "metadata": {},
   "outputs": [
    {
     "data": {
      "text/plain": [
       "9117.260869565218"
      ]
     },
     "execution_count": 21,
     "metadata": {},
     "output_type": "execute_result"
    }
   ],
   "source": [
    "wrong_users[wrong_users['group']=='B']['revenue'].sum()/wrong_users[wrong_users['group']=='B'].shape[0]"
   ]
  },
  {
   "cell_type": "markdown",
   "metadata": {},
   "source": [
    "В целом, эта ошибка не должна сильно исказить результаты: заказы по группам распределены равномерно, а средний чек по этим некорректным заказам несколько больше в группе В. Если понадобится, будем искать решения проблемы дальше, а пока оставим, как есть."
   ]
  },
  {
   "cell_type": "markdown",
   "metadata": {},
   "source": [
    "### Построим график кумулятивной выручки по группам. Сделаем выводы и предположения."
   ]
  },
  {
   "cell_type": "markdown",
   "metadata": {},
   "source": [
    "Для начала нужно получить датасет, в котором будет вся информация по двум группам пользователей за каждый день использования интернет-магазина в совокупности для каждой из групп.\n",
    "\n",
    "Для этого сначала получим датасет `dates_groups`, в котором сохраним уникальные значения пар *дата-группа*. После этого подсчитаем кумулятивные показатели числа покупателей, заказов и суммы заказов в `orders_agregated` и кумулятивные показатели числа посетителей в `visitors_aggregated` за каждый день для каждой группы соответственно. Затем, объединив эти два датасета по общему столбцу даты и группы получим `cumulative_data`, где будет храниться кумулятивная выручка, число покупателей, заказов и посетителей за каждый день каждой группы."
   ]
  },
  {
   "cell_type": "code",
   "execution_count": 22,
   "metadata": {},
   "outputs": [],
   "source": [
    "dates_groups = orders[['date', 'group']].drop_duplicates()\n",
    "\n",
    "orders_aggregated = dates_groups.apply(\n",
    "    lambda x: orders[\n",
    "        np.logical_and(\n",
    "            orders['date'] <= x['date'], orders['group'] == x['group']\n",
    "        )\n",
    "    ].agg(\n",
    "        {\n",
    "            'date': 'max',\n",
    "            'group': 'max',\n",
    "            'transaction_id': 'nunique',\n",
    "            'visitor_id': 'nunique',\n",
    "            'revenue': 'sum',\n",
    "        }\n",
    "    ),\n",
    "    axis=1,\n",
    ").sort_values(by=['date', 'group'])\n",
    "\n",
    "visitors_aggregated = dates_groups.apply(\n",
    "    lambda x: visitors[\n",
    "        np.logical_and(\n",
    "            visitors['date'] <= x['date'], visitors['group'] == x['group']\n",
    "        )\n",
    "    ].agg({'date': 'max', 'group': 'max', 'visitors': 'sum'}),\n",
    "    axis=1,\n",
    ").sort_values(by=['date', 'group'])\n",
    "\n",
    "cumulative_data = orders_aggregated.merge(\n",
    "    visitors_aggregated, left_on=['date', 'group'], right_on=['date', 'group']\n",
    ")\n",
    "cumulative_data.columns = [\n",
    "    'date',\n",
    "    'group',\n",
    "    'transactions',\n",
    "    'buyers',\n",
    "    'revenue',\n",
    "    'visitors',\n",
    "]"
   ]
  },
  {
   "cell_type": "code",
   "execution_count": 23,
   "metadata": {
    "scrolled": true
   },
   "outputs": [
    {
     "data": {
      "text/html": [
       "<div>\n",
       "<style scoped>\n",
       "    .dataframe tbody tr th:only-of-type {\n",
       "        vertical-align: middle;\n",
       "    }\n",
       "\n",
       "    .dataframe tbody tr th {\n",
       "        vertical-align: top;\n",
       "    }\n",
       "\n",
       "    .dataframe thead th {\n",
       "        text-align: right;\n",
       "    }\n",
       "</style>\n",
       "<table border=\"1\" class=\"dataframe\">\n",
       "  <thead>\n",
       "    <tr style=\"text-align: right;\">\n",
       "      <th></th>\n",
       "      <th>date</th>\n",
       "      <th>group</th>\n",
       "      <th>transactions</th>\n",
       "      <th>buyers</th>\n",
       "      <th>revenue</th>\n",
       "      <th>visitors</th>\n",
       "    </tr>\n",
       "  </thead>\n",
       "  <tbody>\n",
       "    <tr>\n",
       "      <th>0</th>\n",
       "      <td>2019-08-01</td>\n",
       "      <td>A</td>\n",
       "      <td>24</td>\n",
       "      <td>20</td>\n",
       "      <td>148579</td>\n",
       "      <td>719</td>\n",
       "    </tr>\n",
       "    <tr>\n",
       "      <th>1</th>\n",
       "      <td>2019-08-01</td>\n",
       "      <td>B</td>\n",
       "      <td>21</td>\n",
       "      <td>20</td>\n",
       "      <td>101217</td>\n",
       "      <td>713</td>\n",
       "    </tr>\n",
       "    <tr>\n",
       "      <th>2</th>\n",
       "      <td>2019-08-02</td>\n",
       "      <td>A</td>\n",
       "      <td>44</td>\n",
       "      <td>38</td>\n",
       "      <td>242401</td>\n",
       "      <td>1338</td>\n",
       "    </tr>\n",
       "    <tr>\n",
       "      <th>3</th>\n",
       "      <td>2019-08-02</td>\n",
       "      <td>B</td>\n",
       "      <td>45</td>\n",
       "      <td>43</td>\n",
       "      <td>266748</td>\n",
       "      <td>1294</td>\n",
       "    </tr>\n",
       "    <tr>\n",
       "      <th>4</th>\n",
       "      <td>2019-08-03</td>\n",
       "      <td>A</td>\n",
       "      <td>68</td>\n",
       "      <td>62</td>\n",
       "      <td>354874</td>\n",
       "      <td>1845</td>\n",
       "    </tr>\n",
       "    <tr>\n",
       "      <th>5</th>\n",
       "      <td>2019-08-03</td>\n",
       "      <td>B</td>\n",
       "      <td>61</td>\n",
       "      <td>59</td>\n",
       "      <td>380996</td>\n",
       "      <td>1803</td>\n",
       "    </tr>\n",
       "  </tbody>\n",
       "</table>\n",
       "</div>"
      ],
      "text/plain": [
       "        date group  transactions  buyers  revenue  visitors\n",
       "0 2019-08-01     A            24      20   148579       719\n",
       "1 2019-08-01     B            21      20   101217       713\n",
       "2 2019-08-02     A            44      38   242401      1338\n",
       "3 2019-08-02     B            45      43   266748      1294\n",
       "4 2019-08-03     A            68      62   354874      1845\n",
       "5 2019-08-03     B            61      59   380996      1803"
      ]
     },
     "execution_count": 23,
     "metadata": {},
     "output_type": "execute_result"
    }
   ],
   "source": [
    "cumulative_data.head(6)"
   ]
  },
  {
   "cell_type": "markdown",
   "metadata": {},
   "source": [
    "Чтобы построить график кумулятивной выручки по группам, можно разделить `cumulative_data` на два датасета, в каждом из которых будут данные только по одной группе."
   ]
  },
  {
   "cell_type": "code",
   "execution_count": 24,
   "metadata": {
    "scrolled": false
   },
   "outputs": [
    {
     "data": {
      "image/png": "[encoded data removed]",
      "text/plain": [
       "<Figure size 1200x600 with 1 Axes>"
      ]
     },
     "metadata": {},
     "output_type": "display_data"
    }
   ],
   "source": [
    "cumulative_revenue_a = cumulative_data[cumulative_data['group']=='A'][['date','revenue','transactions']]\n",
    "cumulative_revenue_b = cumulative_data[cumulative_data['group']=='B'][['date','revenue','transactions']]\n",
    "fig,ax=plt.subplots(figsize=(12,6))\n",
    "plt.plot(cumulative_revenue_a['date'], cumulative_revenue_a['revenue'], label='A')\n",
    "plt.plot(cumulative_revenue_b['date'], cumulative_revenue_b['revenue'], label='B')\n",
    "#plt.xticks([cumulative_revenue_a['date'].min(),cumulative_revenue_a['date'].max()])\n",
    "ax.set_title('Кумулятивная выручка по группам')\n",
    "ax.set_xlabel('Дата')\n",
    "ax.set_ylabel('Выручка')\n",
    "plt.legend();"
   ]
  },
  {
   "cell_type": "markdown",
   "metadata": {},
   "source": [
    "По оси Х были оставлены только границы интервала, т.к. происходит много наложений.\n",
    "\n",
    "Видно, что первую половину месяца кумулятивная выручка практически одинаково росла у двух групп. Скачок посередине у В свидетельствует о какой-то аномальной покупке на большую сумму, из-за чего кажется, что прибыль от группы В стала значительно выше прибыли от группы А."
   ]
  },
  {
   "cell_type": "markdown",
   "metadata": {},
   "source": [
    "### Построим график кумулятивного среднего чека по группам. Сделаем выводы и предположения."
   ]
  },
  {
   "cell_type": "markdown",
   "metadata": {},
   "source": [
    "Здесь новые переменные не понадобятся, т.к. вся информация уже была сохранена в предыдущем задании. Для получения среднего чека достаточно сумму покупок разделить на их число."
   ]
  },
  {
   "cell_type": "code",
   "execution_count": 25,
   "metadata": {},
   "outputs": [
    {
     "data": {
      "image/png": "[encoded data removed]",
      "text/plain": [
       "<Figure size 1200x600 with 1 Axes>"
      ]
     },
     "metadata": {},
     "output_type": "display_data"
    }
   ],
   "source": [
    "fig,ax=plt.subplots(figsize=(12,6))\n",
    "plt.plot(cumulative_revenue_a['date'], cumulative_revenue_a['revenue']/cumulative_revenue_a['transactions'], label='A')\n",
    "plt.plot(cumulative_revenue_b['date'], cumulative_revenue_b['revenue']/cumulative_revenue_b['transactions'], label='B')\n",
    "#plt.xticks([cumulative_revenue_a['date'].min(),cumulative_revenue_a['date'].max()])\n",
    "ax.set_title('Кумулятивный средний чек по группам')\n",
    "ax.set_xlabel('Дата')\n",
    "ax.set_ylabel('Средний чек')\n",
    "plt.legend();"
   ]
  },
  {
   "cell_type": "markdown",
   "metadata": {},
   "source": [
    "С первых дней средний чек группы В был несколько выше, однако ближе к середине месяца средний чек группы А стал больше. Затем наблюдаем резкий скачок среднего чека в группе В, причины которого уже выяснили, и за этим скачок следует постепенное снижение среднего чека."
   ]
  },
  {
   "cell_type": "markdown",
   "metadata": {},
   "source": [
    "### Построим график относительного изменения кумулятивного среднего чека группы B к группе A. Сделаем выводы и предположения."
   ]
  },
  {
   "cell_type": "markdown",
   "metadata": {},
   "source": [
    "Расчеты довольно просты и понятны исходя из задания. Для наглядности следует добавить горизонтальную линию в нуле, которая будет служить границей (если график выше, то средний чек В выше, и наоборот)"
   ]
  },
  {
   "cell_type": "code",
   "execution_count": 26,
   "metadata": {},
   "outputs": [
    {
     "data": {
      "image/png": "[encoded data removed]",
      "text/plain": [
       "<Figure size 1200x600 with 1 Axes>"
      ]
     },
     "metadata": {},
     "output_type": "display_data"
    }
   ],
   "source": [
    "merged_cumulative_revenue = cumulative_revenue_a.merge(cumulative_revenue_b, left_on='date', right_on='date', how='left', suffixes=['_a', '_b'])\n",
    "\n",
    "fig,ax=plt.subplots(figsize=(12,6))\n",
    "plt.plot(merged_cumulative_revenue['date'],\n",
    "         (merged_cumulative_revenue['revenue_b']/merged_cumulative_revenue['transactions_b'])/\n",
    "         (merged_cumulative_revenue['revenue_a']/merged_cumulative_revenue['transactions_a'])-1)\n",
    "\n",
    "ax.set_title('Относительное изменение кумулятивного среднего чека по группам')\n",
    "ax.set_xlabel('Дата')\n",
    "ax.set_ylabel('Относительное изменение')\n",
    "#plt.xticks([merged_cumulative_revenue['date'].min(),merged_cumulative_revenue['date'].max()])\n",
    "plt.axhline(y=0, color='black', linestyle='--');"
   ]
  },
  {
   "cell_type": "markdown",
   "metadata": {},
   "source": [
    "График отображает ту же информацию, что и предыдущий - в середине месяца средний чек группы А стал больше, а затем аномально большая по стоимости покупка сильно подняла средний чек группы В."
   ]
  },
  {
   "cell_type": "markdown",
   "metadata": {},
   "source": [
    "### Построим график кумулятивного среднего количества заказов по группам. Сделаем выводы и предположения."
   ]
  },
  {
   "cell_type": "markdown",
   "metadata": {},
   "source": [
    "Добавим столбец `conversion` (в рамках данной задачи будем считать, что конверсия - это отношение числа заказов к числу посетителей), в котором сохраним кумулятивное среднее число заказов по группам."
   ]
  },
  {
   "cell_type": "code",
   "execution_count": 27,
   "metadata": {
    "scrolled": false
   },
   "outputs": [
    {
     "data": {
      "image/png": "[encoded data removed]",
      "text/plain": [
       "<Figure size 1200x600 with 1 Axes>"
      ]
     },
     "metadata": {},
     "output_type": "display_data"
    }
   ],
   "source": [
    "cumulative_data['conversion'] = cumulative_data['transactions']/cumulative_data['visitors'] \n",
    "cumulative_data_a = cumulative_data[cumulative_data['group']=='A']\n",
    "cumulative_data_b = cumulative_data[cumulative_data['group']=='B']\n",
    "\n",
    "fig,ax=plt.subplots(figsize=(12,6))\n",
    "plt.plot(cumulative_data_a['date'], cumulative_data_a['conversion'], label='A')\n",
    "plt.plot(cumulative_data_b['date'], cumulative_data_b['conversion'], label='B')\n",
    "#plt.xticks([merged_cumulative_revenue['date'].min(),merged_cumulative_revenue['date'].max()])\n",
    "\n",
    "ax.set_title('Кумулятивное среднее количество заказов по группам')\n",
    "ax.set_xlabel('Дата')\n",
    "ax.set_ylabel('Среднее число заказов')\n",
    "plt.legend();"
   ]
  },
  {
   "cell_type": "markdown",
   "metadata": {},
   "source": [
    "В начале графики сильно колеблются, однако, через 10 дней среднее число заказов в группе В устанавливается около 34 заказов на 1000 пользователей против 30 заказов на 1000 пользователей в группе А."
   ]
  },
  {
   "cell_type": "markdown",
   "metadata": {},
   "source": [
    "### Построим график относительного изменения кумулятивного среднего количества заказов группы B к группе A. Сделаем выводы и предположения."
   ]
  },
  {
   "cell_type": "code",
   "execution_count": 28,
   "metadata": {},
   "outputs": [
    {
     "data": {
      "image/png": "[encoded data removed]",
      "text/plain": [
       "<Figure size 1200x600 with 1 Axes>"
      ]
     },
     "metadata": {},
     "output_type": "display_data"
    }
   ],
   "source": [
    "merged_cumulative_conversions = cumulative_data_a[['date','conversion']].merge(cumulative_data_b[['date','conversion']], left_on='date', right_on='date', how='left', suffixes=['_a', '_b'])\n",
    "\n",
    "fig,ax=plt.subplots(figsize=(12,6))\n",
    "plt.plot(merged_cumulative_conversions['date'], \n",
    "         merged_cumulative_conversions['conversion_b']/merged_cumulative_conversions['conversion_a']-1, \n",
    "         label=\"Относительный прирост конверсии группы B относительно группы A\")\n",
    "plt.legend()\n",
    "\n",
    "ax.set_title('Относительное изменение кумулятивного среднего количества заказов группы В к группе А')\n",
    "ax.set_xlabel('Дата')\n",
    "ax.set_ylabel('Относительное изменение')\n",
    "plt.axhline(y=0, color='black', linestyle='--')\n",
    "plt.axhline(y=0.1, color='grey', linestyle='--')\n",
    "#plt.xticks([merged_cumulative_conversions['date'].min(),merged_cumulative_conversions['date'].max()])\n",
    "plt.axis([merged_cumulative_conversions['date'].min(),merged_cumulative_conversions['date'].max(),-0.25,0.25]);"
   ]
  },
  {
   "cell_type": "markdown",
   "metadata": {},
   "source": [
    "Здесь, как и в 2.3, линия y=0 означает равенство среднего числа заказов в группах. А у=0.1, в свою очередь, добавлена для того, чтобы показать, что большую часть исследуемого периода среднее число заказов в группе В минимум на 10% выше среднего числа заказов группы А. Довольно хороший показатель."
   ]
  },
  {
   "cell_type": "markdown",
   "metadata": {},
   "source": [
    "### Построим точечный график количества заказов по пользователям. Сделаем выводы и предположения."
   ]
  },
  {
   "cell_type": "markdown",
   "metadata": {},
   "source": [
    "Сначала создаем датасет с количеством заказов по пользователям:"
   ]
  },
  {
   "cell_type": "code",
   "execution_count": 29,
   "metadata": {},
   "outputs": [],
   "source": [
    "orders_by_users = (\n",
    "    orders.groupby('visitor_id', as_index=False)\n",
    "    .agg({'transaction_id': 'nunique'})\n",
    ")\n",
    "orders_by_users.columns = ['visitor_id', 'transactions']"
   ]
  },
  {
   "cell_type": "markdown",
   "metadata": {},
   "source": [
    "А теперь переходим к графику:"
   ]
  },
  {
   "cell_type": "code",
   "execution_count": 30,
   "metadata": {
    "scrolled": false
   },
   "outputs": [
    {
     "data": {
      "image/png": "[encoded data removed]",
      "text/plain": [
       "<Figure size 1200x600 with 1 Axes>"
      ]
     },
     "metadata": {},
     "output_type": "display_data"
    }
   ],
   "source": [
    "x_values = pd.Series(range(0, len(orders_by_users)))\n",
    "fig,ax=plt.subplots(figsize=(12,6))\n",
    "plt.scatter(x_values, orders_by_users['transactions'])\n",
    "\n",
    "ax.set_title('Количество заказов по пользователям')\n",
    "ax.set_xlabel('Порядковый номер пользователя')\n",
    "ax.set_ylabel('Количество заказов');"
   ]
  },
  {
   "cell_type": "markdown",
   "metadata": {},
   "source": [
    "Видно, что большинство пользователей совершает 1 заказ. Еще значимая часть делает 2-3 заказа, и лишь единицы совершают более 3 заказов."
   ]
  },
  {
   "cell_type": "markdown",
   "metadata": {},
   "source": [
    "### Посчитаем 95-й и 99-й перцентили количества заказов на пользователя. Выберем границу для определения аномальных пользователей."
   ]
  },
  {
   "cell_type": "code",
   "execution_count": 31,
   "metadata": {},
   "outputs": [
    {
     "name": "stdout",
     "output_type": "stream",
     "text": [
      "[2. 4.]\n"
     ]
    }
   ],
   "source": [
    "print(np.percentile(orders_by_users['transactions'], [95, 99])) "
   ]
  },
  {
   "cell_type": "markdown",
   "metadata": {},
   "source": [
    "5% пользователей делают больше 2 заказов, и лишь 1% пользователей делает больше 4. Остановимся на 3 заказах - так мы отсеим от 1 до 5% от общего числа пользователей тех, кого можно считать аномальными"
   ]
  },
  {
   "cell_type": "markdown",
   "metadata": {},
   "source": [
    "### Построим точечный график стоимостей заказов. Сделаем выводы и предположения."
   ]
  },
  {
   "cell_type": "code",
   "execution_count": 32,
   "metadata": {},
   "outputs": [
    {
     "data": {
      "image/png": "[encoded data removed]",
      "text/plain": [
       "<Figure size 1200x600 with 1 Axes>"
      ]
     },
     "metadata": {},
     "output_type": "display_data"
    }
   ],
   "source": [
    "x_values = pd.Series(range(0, len(orders['revenue'])))\n",
    "fig,ax=plt.subplots(figsize=(12,6))\n",
    "plt.scatter(x_values,orders['revenue'])\n",
    "\n",
    "ax.set_title('Стоимость заказов')\n",
    "ax.set_xlabel('Порядковый номер заказа')\n",
    "ax.set_ylabel('Стоимость заказа');"
   ]
  },
  {
   "cell_type": "markdown",
   "metadata": {},
   "source": [
    "Действительно, как было предположено в пункте 2.1, оказался пользователь, совершивший покупку дороже миллиона!\n",
    "\n",
    "Остальные же за раз тратят не более 50 тысяч."
   ]
  },
  {
   "cell_type": "markdown",
   "metadata": {},
   "source": [
    "### Посчитаем 95-й и 99-й перцентили стоимости заказов. Выберем границу для определения аномальных заказов."
   ]
  },
  {
   "cell_type": "code",
   "execution_count": 33,
   "metadata": {},
   "outputs": [
    {
     "name": "stdout",
     "output_type": "stream",
     "text": [
      "[28000.  58233.2]\n"
     ]
    }
   ],
   "source": [
    "print(np.percentile(orders['revenue'],[95,99]))"
   ]
  },
  {
   "cell_type": "markdown",
   "metadata": {},
   "source": [
    "5% пользователей тратят более 28 тысяч, и лишь 1% более 58. Тогда возьмем границу в 40 тысяч - таким образом мы по анологии отсеим от 1 до 5% от общего числа пользователей тех, кто искажает результаты тестирования."
   ]
  },
  {
   "cell_type": "markdown",
   "metadata": {},
   "source": [
    "### Посчитаем статистическую значимость различий в среднем количестве заказов между группами по «сырым» данным. Сделаем выводы и предположения."
   ]
  },
  {
   "cell_type": "markdown",
   "metadata": {},
   "source": [
    "Для проверки статистической значимости различий следует сформулировать нулевую и альтернативную гипотезы. Нулевая всегда про равенство, а альтернативная, как правило, про неравенство.\n",
    "\n",
    "Поэтому нулевая гипотеза будет звучать, как *среднее количество заказов между группами равно*, а альтернативная - *среднее количество заказов между группами НЕ равно*.\n",
    "\n",
    "Также для понимания выведем, на сколько больше или меньше заказов в группе В относительно группы А."
   ]
  },
  {
   "cell_type": "code",
   "execution_count": 34,
   "metadata": {},
   "outputs": [
    {
     "name": "stdout",
     "output_type": "stream",
     "text": [
      "При уровне значимости в 5% получили p_value = 0.01679\n",
      "Различие среднего количества заказов группы В относительно группы А по сырым данным: 0.138\n"
     ]
    }
   ],
   "source": [
    "orders_by_users_a = (\n",
    "    orders[orders['group'] == 'A']\n",
    "    .groupby('visitor_id', as_index=False)\n",
    "    .agg({'transaction_id': pd.Series.nunique})\n",
    ")\n",
    "orders_by_users_a.columns = ['visitor_id', 'transactions']\n",
    "\n",
    "orders_by_users_b = (\n",
    "    orders[orders['group'] == 'B']\n",
    "    .groupby('visitor_id', as_index=False)\n",
    "    .agg({'transaction_id': pd.Series.nunique})\n",
    ")\n",
    "orders_by_users_b.columns = ['visitor_id', 'transactions']\n",
    "\n",
    "sample_a = pd.concat(\n",
    "    [\n",
    "        orders_by_users_a['transactions'],\n",
    "        pd.Series(\n",
    "            0,\n",
    "            index=np.arange(\n",
    "                cumulative_data_a['visitors'].max() - len(orders_by_users_a['transactions'])\n",
    "            ),\n",
    "            name='transactions',\n",
    "        ),\n",
    "    ],\n",
    "    axis=0,\n",
    ")\n",
    "\n",
    "sample_b = pd.concat(\n",
    "    [\n",
    "        orders_by_users_b['transactions'],\n",
    "        pd.Series(\n",
    "            0,\n",
    "            index=np.arange(\n",
    "                cumulative_data_b['visitors'].max() - len(orders_by_users_b['transactions'])\n",
    "            ),\n",
    "            name='transactions',\n",
    "        ),\n",
    "    ],\n",
    "    axis=0,\n",
    ")\n",
    "\n",
    "print(\"При уровне значимости в 5% получили p_value = {0:.5f}\".format(st.mannwhitneyu(sample_a, sample_b)[1]))\n",
    "\n",
    "print(\"Различие среднего количества заказов группы В относительно группы А по сырым данным: {0:.3f}\"\n",
    "      .format(sample_b.mean() / sample_a.mean() - 1))"
   ]
  },
  {
   "cell_type": "markdown",
   "metadata": {},
   "source": [
    "p-value в 3 раза меньше уровня значимости в 5%, это говорит о том, что нулевую гипотезу о равенстве в среднем количестве заказов по \"сырым\" группам следует отвергнуть, и различие в 13.8% статистически значимо."
   ]
  },
  {
   "cell_type": "markdown",
   "metadata": {},
   "source": [
    "### Посчитаем статистическую значимость различий в среднем чеке заказа между группами по «сырым» данным. Сделаем выводы и предположения."
   ]
  },
  {
   "cell_type": "markdown",
   "metadata": {},
   "source": [
    "По аналогии формулируем гипотезы. Нулевая гипотеза будет звучать, как *средний чек между группами* ***одинаков***, а альтернативная - *средний чек между группами* ***разный***."
   ]
  },
  {
   "cell_type": "code",
   "execution_count": 35,
   "metadata": {},
   "outputs": [
    {
     "name": "stdout",
     "output_type": "stream",
     "text": [
      "При уровне значимости в 5% получили p_value = 0.72929\n",
      "Различие среднего чека группы В относительно группы А по сырым данным: 0.259\n"
     ]
    }
   ],
   "source": [
    "print('При уровне значимости в 5% получили p_value = {0:.5f}'\n",
    "      .format(st.mannwhitneyu(orders[orders['group']=='A']['revenue'], orders[orders['group']=='B']['revenue'])[1]))\n",
    "print('Различие среднего чека группы В относительно группы А по сырым данным: {0:.3f}'\n",
    "      .format(orders[orders['group']=='B']['revenue'].mean()/orders[orders['group']=='A']['revenue'].mean()-1))"
   ]
  },
  {
   "cell_type": "markdown",
   "metadata": {},
   "source": [
    "p_value больше 5%, и это говорит о том, что статистически значимого различия между средними чеками групп А и В нет, однако можно увидеть сильное влияние выброса в группе В (заказ на сумму выше миллиона) на средний чек - может показаться, что он больше, однако после фильтрации такого показателя мы уже не увидим."
   ]
  },
  {
   "cell_type": "markdown",
   "metadata": {},
   "source": [
    "### Посчитаем статистическую значимость различий в среднем количестве заказов между группами по «очищенным» данным. Сделаем выводы и предположения."
   ]
  },
  {
   "cell_type": "markdown",
   "metadata": {},
   "source": [
    "Снова формулируем гипотезы. Нулевая гипотеза будет звучать, *среднее количество заказов между отфильтрованными группами равно*, а альтернативная - *среднее количество заказов между отфильтрованными группами НЕ равно*"
   ]
  },
  {
   "cell_type": "markdown",
   "metadata": {},
   "source": [
    "Найдем тех самых аномальных пользователей, которых определим по выше указанным критериям (совершили больше 3 заказов или потратили более 40000 за раз):"
   ]
  },
  {
   "cell_type": "code",
   "execution_count": 36,
   "metadata": {},
   "outputs": [],
   "source": [
    "users_many_orders = pd.concat(\n",
    "    [\n",
    "        orders_by_users_a[orders_by_users_a['transactions'] > 3]['visitor_id'],\n",
    "        orders_by_users_b[orders_by_users_b['transactions'] > 3]['visitor_id'],\n",
    "    ],\n",
    "    axis=0,\n",
    ")\n",
    "users_expensive_orders = orders[orders['revenue'] > 40000]['visitor_id']\n",
    "abnormal_users = (\n",
    "    pd.concat([users_many_orders, users_expensive_orders], axis=0)\n",
    "    .drop_duplicates()\n",
    "    .sort_values()\n",
    ")"
   ]
  },
  {
   "cell_type": "code",
   "execution_count": 37,
   "metadata": {},
   "outputs": [
    {
     "name": "stdout",
     "output_type": "stream",
     "text": [
      "При уровне значимости в 5% получили p_value = 0.00931\n",
      "Различие среднего количества заказов группы В относительно группы А по очищенным данным: 0.164\n"
     ]
    }
   ],
   "source": [
    "sample_a_filtered = pd.concat(\n",
    "    [\n",
    "        orders_by_users_a[\n",
    "            np.logical_not(orders_by_users_a['visitor_id'].isin(abnormal_users))\n",
    "        ]['transactions'],\n",
    "        pd.Series(\n",
    "            0,\n",
    "            index=np.arange(\n",
    "                cumulative_data_a['visitors'].max() - len(orders_by_users_a['transactions'])\n",
    "            ),\n",
    "            name='transactions',\n",
    "        ),\n",
    "    ],\n",
    "    axis=0,\n",
    ")\n",
    "\n",
    "sample_b_filtered = pd.concat(\n",
    "    [\n",
    "        orders_by_users_b[\n",
    "            np.logical_not(orders_by_users_b['visitor_id'].isin(abnormal_users))\n",
    "        ]['transactions'],\n",
    "        pd.Series(\n",
    "            0,\n",
    "            index=np.arange(\n",
    "                cumulative_data_b['visitors'].max() - len(orders_by_users_b['transactions'])\n",
    "            ),\n",
    "            name='transactions',\n",
    "        ),\n",
    "    ],\n",
    "    axis=0,\n",
    ")\n",
    "print('При уровне значимости в 5% получили p_value = {0:.5f}'\n",
    "      .format(st.mannwhitneyu(sample_a_filtered, sample_b_filtered)[1]))\n",
    "print('Различие среднего количества заказов группы В относительно группы А по очищенным данным: {0:.3f}'\n",
    "      .format(sample_b_filtered.mean()/sample_a_filtered.mean()-1))"
   ]
  },
  {
   "cell_type": "markdown",
   "metadata": {},
   "source": [
    "Можно смело делать вывод, что разница в среднем числе заказов между группой А и группой В статистически значима, при этом в группе В совершают на 16.4% заказов больше."
   ]
  },
  {
   "cell_type": "markdown",
   "metadata": {},
   "source": [
    "### Посчитаем статистическую значимость различий в среднем чеке заказа между группами по «очищенным» данным. Сделаем выводы и предположения."
   ]
  },
  {
   "cell_type": "markdown",
   "metadata": {},
   "source": [
    "По аналогии формулируем гипотезы. Нулевая гипотеза будет звучать, как *средний чек между отфильтрованными группами* ***одинаков***, а альтернативная - *средний чек между отфильтрованными группами* ***разный***."
   ]
  },
  {
   "cell_type": "code",
   "execution_count": 38,
   "metadata": {},
   "outputs": [
    {
     "name": "stdout",
     "output_type": "stream",
     "text": [
      "При уровне значимости в 5% получили p_value = 0.71098\n",
      "Различие среднего чека группы В относительно группы А по очищенным данным: 0.060\n"
     ]
    }
   ],
   "source": [
    "orders_filtered_a = orders[np.logical_and(\n",
    "                    orders['group'] == 'A',\n",
    "                    np.logical_not(orders['visitor_id'].isin(abnormal_users)),)]['revenue']\n",
    "orders_filtered_b = orders[np.logical_and(\n",
    "                    orders['group'] == 'B',\n",
    "                    np.logical_not(orders['visitor_id'].isin(abnormal_users)),)]['revenue']\n",
    "print('При уровне значимости в 5% получили p_value = {0:.5f}'\n",
    "      .format(st.mannwhitneyu(orders_filtered_a,orders_filtered_b)[1]))\n",
    "\n",
    "print(\"Различие среднего чека группы В относительно группы А по очищенным данным: {0:.3f}\"\n",
    "      .format(orders_filtered_b.mean()/orders_filtered_a.mean()- 1))"
   ]
  },
  {
   "cell_type": "markdown",
   "metadata": {},
   "source": [
    "В данном случае очистка не изменила результатов тестирования, но зато показала реальную разницу среднего чека группы В относительно среднего чека группы А - она составляет 6%. Однако тест Манна-Уитни расчитал p-value 71.1% при уровне значимости в 5%, что говорит о невозможности отвержения нулевой гипотезы о равенстве средних чеков групп А и В."
   ]
  },
  {
   "cell_type": "markdown",
   "metadata": {},
   "source": [
    "## Вывод"
   ]
  },
  {
   "cell_type": "markdown",
   "metadata": {},
   "source": [
    "По представленным заказчиком данным была проведена приоритизация гипотез и анализ результатов A/B-теста.\n",
    "\n",
    "Что касается приоритизации гипотез, все довольно просто: лучше воспользоваться фреймворком `RICE`, т.к. он учитывает охват пользователей, участвующих в проверке гипотезы, и, чем охват выше, тем точнее и полезнее окажутся результаты.\n",
    "\n",
    "Все гораздо интереснее с А/В-тестом. Уже при построении первого графика стало ясно, что в группе В присутствует аномально дорогой заказ, который сильно искажает все результаты по этой группе пользователей. Как было выяснено позднее, сумма заказа составила свыше одного миллиона. Соответственно, со средним чеком ситуация та же: после дня, в который совершили этот дорогой заказ, средний чек группы В постоянно будет падать, т.к. покупки обычных покупателей значительно меньше по сумме. \n",
    "\n",
    "Оставим пока все метрики, связанные с деньгами, до удаления аномалий, и перейдем к среднему числу заказов. В начале анализа было выяснено, что группы практически равны по размеру, а, значит, тот факт, что, исходя из графиков среднее число заказов в группе В стабильно выше среднего числа заказов в группе А минимум на 10% говорит о том, что гипотеза, проверяемая на этих группах, успешно работает в сторону повышения числа заказов. Можно подумать, что здесь тоже могли повлиять аномальные пользователи, попавшие в группу В и совершившие десятки заказов, но, спойлер - после чистки всех аномальных пользователей среднее число заказов в группе В относительно группы А больше на 16.4%.\n",
    "\n",
    "Далее были построены диаграммы рассеяния для числа заказов и суммы заказов по пользователям, а также рассчитаны 95-ый и 99-ый перцентили этих метрик. Выяснилось, что лишь 5% совершают больше 2 заказов и на суммы свыше 28000. Поэтому условиями для очистки аномалий были приняты 3 заказа и 40 тысяч. Если у какого-то пользователя больше 3 заказов или сумма покупки выше 40 тысяч, он не попадает в новую выборку.\n",
    "\n",
    "После этого был проведен непараметрический тест Манна-Уитни для выборок до и после фильтрации. Сравнивались средние чеки и среднее число заказов. *Ключевая идея — проранжировать две выборки по порядку от меньшего к большему и сравнить ранги одних и тех же значений, попавших в обе выборки. Ранг — это место в упорядоченной выборке. Разница между рангами одних и тех же значений может быть одинакова, и такой сдвиг называют типичным. Значит, просто добавились значения, сдвинувшие все остальные.\n",
    "А нетипичные сдвиги по рангу рассматриваются как изменения. Сумма рангов таких сдвигов и выступает значением критерия. Чем он выше — тем больше вероятность, что для этих выборок интересующая нас величина различается.*\n",
    "\n",
    "Получили следующее:\n",
    "- Средний чек:\n",
    "-- До фильтрации p-value=0.72929. Средний чек группы В превосходит средний чек группы А на 25.9%\n",
    "-- После фильтрации - p-value=0.71098. Средний чек группы В превосходит средний чек группы А на 6% \n",
    "- Среднее число заказов\n",
    "-- До фильтрации p-value=0.01679. Среднее число заказов группы В превосходит среднее число заказов группы А на 13.8%\n",
    "-- После фильтрации p-value=0.00931 Среднее число заказов группы В превосходит среднее число заказов группы А на 16.4%\n",
    "\n",
    "Это значит, что при любом уровне значимости (1,5,10%) нулевая гипотеза о равенстве средних чеков не отвергается с вероятностью более 70%. А вот гипотеза о равенстве среднего числа заказов двух групп при уровне значимости 5% отвергается, а после фильтрации отвергается и при уровне значимости в 1%. Это говорит о том, что среднее число заказов в группе В определенно выше, чем в группе А.\n",
    "\n",
    "Раз средний чек не изменился, то, скорее всего, тест был нацелен именно на повышение среднего числа заказов. Может возникнуть вопрос: почему у группы В до и после фильтрации средний чек выше, при этом такое большое значение p-value. Ответ кроется в критериях фильтрации. Если их изменить (например, ограничиться покупками не дороже 30000), то, скорее всего, средние чеки групп сравняются.\n",
    "\n",
    "Еще один важный момент перед заключением - важно понимать специфику продукта и время принятия решения о приобритении. Учитывая, что 95% пользователей купили товары не дороже 28000, интернет-магазин продаёт что-то повседневное и не требующее долгих размышлений, поэтому тест длиною в месяц вполне оправдан и данных достаточно. Если бы речь шла о покупке недвижимости или автомобиля, скорее всего, месяца недостаточно, т.к. далеко не каждый готов быстро решиться расстаться с крупной суммой денег.\n",
    "\n",
    "Какой можно сделать подытог: А/В тест был проведен с целью повышения среднего числа заказов в интернет-магазине. Что именно было сделано (изменение дизайна сайта, упрощение оформления заказа или добавление скидок) - известно заказчику, но можно сделать вывод, что это изменение положительно сказалось на количестве заказов, тест можно завершить и гипотеза о повышении среднего числа заказов подтвердилась."
   ]
  }
 ],
 "metadata": {
  "ExecuteTimeLog": [
   {
    "duration": 1243,
    "start_time": "2022-10-29T10:26:40.534Z"
   },
   {
    "duration": 62,
    "start_time": "2022-10-29T10:29:11.530Z"
   },
   {
    "duration": 13,
    "start_time": "2022-10-29T10:29:23.676Z"
   },
   {
    "duration": 164,
    "start_time": "2022-10-29T10:30:14.077Z"
   },
   {
    "duration": 8,
    "start_time": "2022-10-29T10:30:23.041Z"
   },
   {
    "duration": 8,
    "start_time": "2022-10-29T10:30:33.990Z"
   },
   {
    "duration": 4,
    "start_time": "2022-10-29T10:31:27.634Z"
   },
   {
    "duration": 7,
    "start_time": "2022-10-29T10:31:34.365Z"
   },
   {
    "duration": 3,
    "start_time": "2022-10-29T10:32:19.844Z"
   },
   {
    "duration": 8,
    "start_time": "2022-10-29T10:32:21.847Z"
   },
   {
    "duration": 12,
    "start_time": "2022-10-29T10:32:34.836Z"
   },
   {
    "duration": 10,
    "start_time": "2022-10-29T10:32:43.754Z"
   },
   {
    "duration": 11,
    "start_time": "2022-10-29T10:32:52.130Z"
   },
   {
    "duration": 16,
    "start_time": "2022-10-29T10:51:00.652Z"
   },
   {
    "duration": 10,
    "start_time": "2022-10-29T10:51:10.720Z"
   },
   {
    "duration": 10,
    "start_time": "2022-10-29T10:51:29.288Z"
   },
   {
    "duration": 102,
    "start_time": "2022-10-29T10:51:37.745Z"
   },
   {
    "duration": 11,
    "start_time": "2022-10-29T10:51:41.231Z"
   },
   {
    "duration": 14,
    "start_time": "2022-10-29T10:52:05.436Z"
   },
   {
    "duration": 16,
    "start_time": "2022-10-29T10:55:49.594Z"
   },
   {
    "duration": 279,
    "start_time": "2022-10-29T10:56:46.647Z"
   },
   {
    "duration": 9,
    "start_time": "2022-10-29T10:57:06.269Z"
   },
   {
    "duration": 274,
    "start_time": "2022-10-29T10:58:22.960Z"
   },
   {
    "duration": 9,
    "start_time": "2022-10-29T10:58:27.678Z"
   },
   {
    "duration": 409,
    "start_time": "2022-10-29T10:59:35.441Z"
   },
   {
    "duration": 12,
    "start_time": "2022-10-29T10:59:40.867Z"
   },
   {
    "duration": 571,
    "start_time": "2022-10-29T11:00:22.574Z"
   },
   {
    "duration": 9,
    "start_time": "2022-10-29T11:00:28.086Z"
   },
   {
    "duration": 277,
    "start_time": "2022-10-29T11:01:47.601Z"
   },
   {
    "duration": 252,
    "start_time": "2022-10-29T11:01:58.842Z"
   },
   {
    "duration": 261,
    "start_time": "2022-10-29T11:05:31.288Z"
   },
   {
    "duration": 128,
    "start_time": "2022-10-29T11:05:46.086Z"
   },
   {
    "duration": 308,
    "start_time": "2022-10-29T11:06:06.950Z"
   },
   {
    "duration": 241,
    "start_time": "2022-10-29T11:06:17.872Z"
   },
   {
    "duration": 131,
    "start_time": "2022-10-29T11:06:24.957Z"
   },
   {
    "duration": 1041,
    "start_time": "2022-10-29T11:07:06.757Z"
   },
   {
    "duration": 83,
    "start_time": "2022-10-29T11:07:07.800Z"
   },
   {
    "duration": 11,
    "start_time": "2022-10-29T11:07:07.885Z"
   },
   {
    "duration": 7,
    "start_time": "2022-10-29T11:07:07.897Z"
   },
   {
    "duration": 27,
    "start_time": "2022-10-29T11:07:07.906Z"
   },
   {
    "duration": 4,
    "start_time": "2022-10-29T11:07:07.935Z"
   },
   {
    "duration": 5,
    "start_time": "2022-10-29T11:07:07.940Z"
   },
   {
    "duration": 15,
    "start_time": "2022-10-29T11:07:07.946Z"
   },
   {
    "duration": 12,
    "start_time": "2022-10-29T11:07:07.962Z"
   },
   {
    "duration": 9,
    "start_time": "2022-10-29T11:07:07.976Z"
   },
   {
    "duration": 38,
    "start_time": "2022-10-29T11:07:07.986Z"
   },
   {
    "duration": 27,
    "start_time": "2022-10-29T11:07:08.025Z"
   },
   {
    "duration": 11,
    "start_time": "2022-10-29T11:07:08.054Z"
   },
   {
    "duration": 287,
    "start_time": "2022-10-29T11:07:08.067Z"
   },
   {
    "duration": 140,
    "start_time": "2022-10-29T11:07:08.355Z"
   },
   {
    "duration": 818,
    "start_time": "2022-10-29T11:09:16.670Z"
   },
   {
    "duration": 130,
    "start_time": "2022-10-29T11:09:41.118Z"
   },
   {
    "duration": 125,
    "start_time": "2022-10-29T11:09:44.816Z"
   },
   {
    "duration": 229,
    "start_time": "2022-10-29T11:10:24.752Z"
   },
   {
    "duration": 269,
    "start_time": "2022-10-29T11:10:32.658Z"
   },
   {
    "duration": 116,
    "start_time": "2022-10-29T11:10:45.926Z"
   },
   {
    "duration": 1020,
    "start_time": "2022-10-29T11:14:31.435Z"
   },
   {
    "duration": 104,
    "start_time": "2022-10-29T11:14:32.457Z"
   },
   {
    "duration": 21,
    "start_time": "2022-10-29T11:14:32.563Z"
   },
   {
    "duration": 22,
    "start_time": "2022-10-29T11:14:32.586Z"
   },
   {
    "duration": 19,
    "start_time": "2022-10-29T11:14:32.611Z"
   },
   {
    "duration": 18,
    "start_time": "2022-10-29T11:14:32.632Z"
   },
   {
    "duration": 12,
    "start_time": "2022-10-29T11:14:32.652Z"
   },
   {
    "duration": 33,
    "start_time": "2022-10-29T11:14:32.666Z"
   },
   {
    "duration": 31,
    "start_time": "2022-10-29T11:14:32.701Z"
   },
   {
    "duration": 22,
    "start_time": "2022-10-29T11:14:32.734Z"
   },
   {
    "duration": 7,
    "start_time": "2022-10-29T11:14:32.758Z"
   },
   {
    "duration": 15,
    "start_time": "2022-10-29T11:14:32.767Z"
   },
   {
    "duration": 26,
    "start_time": "2022-10-29T11:14:32.784Z"
   },
   {
    "duration": 325,
    "start_time": "2022-10-29T11:14:32.813Z"
   },
   {
    "duration": 136,
    "start_time": "2022-10-29T11:14:33.140Z"
   },
   {
    "duration": 121,
    "start_time": "2022-10-29T11:14:33.277Z"
   },
   {
    "duration": 345,
    "start_time": "2022-10-29T11:14:33.400Z"
   },
   {
    "duration": 179,
    "start_time": "2022-10-29T11:14:50.241Z"
   },
   {
    "duration": 112,
    "start_time": "2022-10-29T11:19:11.235Z"
   },
   {
    "duration": 685,
    "start_time": "2022-10-29T11:19:31.153Z"
   },
   {
    "duration": 12,
    "start_time": "2022-10-29T11:19:45.315Z"
   },
   {
    "duration": 8,
    "start_time": "2022-10-29T11:20:06.798Z"
   },
   {
    "duration": 15,
    "start_time": "2022-10-29T11:20:12.231Z"
   },
   {
    "duration": 129,
    "start_time": "2022-10-29T11:21:01.940Z"
   },
   {
    "duration": 388,
    "start_time": "2022-10-29T11:27:29.681Z"
   },
   {
    "duration": 380,
    "start_time": "2022-10-29T11:27:35.704Z"
   },
   {
    "duration": 346,
    "start_time": "2022-10-29T11:27:44.732Z"
   },
   {
    "duration": 371,
    "start_time": "2022-10-29T11:27:48.377Z"
   },
   {
    "duration": 400,
    "start_time": "2022-10-29T11:28:36.401Z"
   },
   {
    "duration": 323,
    "start_time": "2022-10-29T11:28:49.241Z"
   },
   {
    "duration": 343,
    "start_time": "2022-10-29T11:28:54.025Z"
   },
   {
    "duration": 201,
    "start_time": "2022-10-29T11:29:35.039Z"
   },
   {
    "duration": 246,
    "start_time": "2022-10-29T11:29:48.398Z"
   },
   {
    "duration": 243,
    "start_time": "2022-10-29T11:29:53.785Z"
   },
   {
    "duration": 10,
    "start_time": "2022-10-29T11:31:15.513Z"
   },
   {
    "duration": 11,
    "start_time": "2022-10-29T11:31:27.941Z"
   },
   {
    "duration": 8,
    "start_time": "2022-10-29T11:31:35.374Z"
   },
   {
    "duration": 102,
    "start_time": "2022-10-29T11:31:40.562Z"
   },
   {
    "duration": 102,
    "start_time": "2022-10-29T11:31:46.071Z"
   },
   {
    "duration": 650,
    "start_time": "2022-10-29T11:32:25.433Z"
   },
   {
    "duration": 4,
    "start_time": "2022-10-29T11:32:30.542Z"
   },
   {
    "duration": 115,
    "start_time": "2022-10-29T11:33:18.570Z"
   },
   {
    "duration": 117,
    "start_time": "2022-10-29T11:33:21.386Z"
   },
   {
    "duration": 5,
    "start_time": "2022-10-29T11:34:01.861Z"
   },
   {
    "duration": 212,
    "start_time": "2022-10-29T11:37:02.288Z"
   },
   {
    "duration": 3,
    "start_time": "2022-10-29T11:37:18.651Z"
   },
   {
    "duration": 182,
    "start_time": "2022-10-29T11:37:22.662Z"
   },
   {
    "duration": 188,
    "start_time": "2022-10-29T11:37:36.206Z"
   },
   {
    "duration": 214,
    "start_time": "2022-10-29T11:37:56.720Z"
   },
   {
    "duration": 14,
    "start_time": "2022-10-29T11:38:11.277Z"
   },
   {
    "duration": 1083,
    "start_time": "2022-10-29T11:38:15.775Z"
   },
   {
    "duration": 77,
    "start_time": "2022-10-29T11:38:16.860Z"
   },
   {
    "duration": 12,
    "start_time": "2022-10-29T11:38:16.938Z"
   },
   {
    "duration": 11,
    "start_time": "2022-10-29T11:38:16.951Z"
   },
   {
    "duration": 9,
    "start_time": "2022-10-29T11:38:16.964Z"
   },
   {
    "duration": 6,
    "start_time": "2022-10-29T11:38:16.975Z"
   },
   {
    "duration": 6,
    "start_time": "2022-10-29T11:38:16.982Z"
   },
   {
    "duration": 19,
    "start_time": "2022-10-29T11:38:16.990Z"
   },
   {
    "duration": 9,
    "start_time": "2022-10-29T11:38:17.010Z"
   },
   {
    "duration": 9,
    "start_time": "2022-10-29T11:38:17.021Z"
   },
   {
    "duration": 22,
    "start_time": "2022-10-29T11:38:17.032Z"
   },
   {
    "duration": 14,
    "start_time": "2022-10-29T11:38:17.056Z"
   },
   {
    "duration": 13,
    "start_time": "2022-10-29T11:38:17.072Z"
   },
   {
    "duration": 11,
    "start_time": "2022-10-29T11:38:17.110Z"
   },
   {
    "duration": 335,
    "start_time": "2022-10-29T11:38:17.122Z"
   },
   {
    "duration": 202,
    "start_time": "2022-10-29T11:38:17.459Z"
   },
   {
    "duration": 120,
    "start_time": "2022-10-29T11:38:17.663Z"
   },
   {
    "duration": 234,
    "start_time": "2022-10-29T11:38:17.785Z"
   },
   {
    "duration": 136,
    "start_time": "2022-10-29T11:38:18.021Z"
   },
   {
    "duration": 339,
    "start_time": "2022-10-29T11:38:18.159Z"
   },
   {
    "duration": 1,
    "start_time": "2022-10-29T11:38:18.499Z"
   },
   {
    "duration": 0,
    "start_time": "2022-10-29T11:38:18.500Z"
   },
   {
    "duration": 0,
    "start_time": "2022-10-29T11:38:18.509Z"
   },
   {
    "duration": 0,
    "start_time": "2022-10-29T11:38:18.510Z"
   },
   {
    "duration": 0,
    "start_time": "2022-10-29T11:38:18.511Z"
   },
   {
    "duration": 183,
    "start_time": "2022-10-29T11:38:52.268Z"
   },
   {
    "duration": 280,
    "start_time": "2022-10-29T11:38:59.285Z"
   },
   {
    "duration": 174,
    "start_time": "2022-10-29T11:39:10.875Z"
   },
   {
    "duration": 1040,
    "start_time": "2022-10-29T11:39:25.515Z"
   },
   {
    "duration": 77,
    "start_time": "2022-10-29T11:39:26.557Z"
   },
   {
    "duration": 14,
    "start_time": "2022-10-29T11:39:26.635Z"
   },
   {
    "duration": 10,
    "start_time": "2022-10-29T11:39:26.651Z"
   },
   {
    "duration": 8,
    "start_time": "2022-10-29T11:39:26.663Z"
   },
   {
    "duration": 7,
    "start_time": "2022-10-29T11:39:26.672Z"
   },
   {
    "duration": 9,
    "start_time": "2022-10-29T11:39:26.680Z"
   },
   {
    "duration": 25,
    "start_time": "2022-10-29T11:39:26.690Z"
   },
   {
    "duration": 10,
    "start_time": "2022-10-29T11:39:26.717Z"
   },
   {
    "duration": 12,
    "start_time": "2022-10-29T11:39:26.730Z"
   },
   {
    "duration": 15,
    "start_time": "2022-10-29T11:39:26.744Z"
   },
   {
    "duration": 8,
    "start_time": "2022-10-29T11:39:26.761Z"
   },
   {
    "duration": 56,
    "start_time": "2022-10-29T11:39:26.772Z"
   },
   {
    "duration": 14,
    "start_time": "2022-10-29T11:39:26.830Z"
   },
   {
    "duration": 319,
    "start_time": "2022-10-29T11:39:26.846Z"
   },
   {
    "duration": 199,
    "start_time": "2022-10-29T11:39:27.167Z"
   },
   {
    "duration": 118,
    "start_time": "2022-10-29T11:39:27.368Z"
   },
   {
    "duration": 234,
    "start_time": "2022-10-29T11:39:27.488Z"
   },
   {
    "duration": 148,
    "start_time": "2022-10-29T11:39:27.723Z"
   },
   {
    "duration": 300,
    "start_time": "2022-10-29T11:39:27.873Z"
   },
   {
    "duration": 8,
    "start_time": "2022-10-29T11:39:28.175Z"
   },
   {
    "duration": 157,
    "start_time": "2022-10-29T11:39:28.185Z"
   },
   {
    "duration": 11,
    "start_time": "2022-10-29T11:39:28.344Z"
   },
   {
    "duration": 139,
    "start_time": "2022-10-29T11:39:28.357Z"
   },
   {
    "duration": 14,
    "start_time": "2022-10-29T11:39:28.498Z"
   },
   {
    "duration": 9,
    "start_time": "2022-10-29T11:43:05.960Z"
   },
   {
    "duration": 106,
    "start_time": "2022-10-29T11:43:10.914Z"
   },
   {
    "duration": 9,
    "start_time": "2022-10-29T11:43:13.691Z"
   },
   {
    "duration": 13,
    "start_time": "2022-10-29T11:46:36.300Z"
   },
   {
    "duration": 162,
    "start_time": "2022-10-29T11:48:29.505Z"
   },
   {
    "duration": 487,
    "start_time": "2022-10-29T11:48:37.625Z"
   },
   {
    "duration": 501,
    "start_time": "2022-10-29T11:52:30.148Z"
   },
   {
    "duration": 454,
    "start_time": "2022-10-29T11:52:39.683Z"
   },
   {
    "duration": 10,
    "start_time": "2022-10-29T11:54:31.696Z"
   },
   {
    "duration": 11,
    "start_time": "2022-10-29T11:59:13.346Z"
   },
   {
    "duration": 8,
    "start_time": "2022-10-29T11:59:49.037Z"
   },
   {
    "duration": 355,
    "start_time": "2022-10-29T12:03:02.855Z"
   },
   {
    "duration": 13,
    "start_time": "2022-10-29T12:09:06.399Z"
   },
   {
    "duration": 10,
    "start_time": "2022-10-29T12:09:11.443Z"
   },
   {
    "duration": 10,
    "start_time": "2022-10-29T12:09:43.541Z"
   },
   {
    "duration": 1107,
    "start_time": "2022-10-29T12:10:03.431Z"
   },
   {
    "duration": 76,
    "start_time": "2022-10-29T12:10:04.540Z"
   },
   {
    "duration": 12,
    "start_time": "2022-10-29T12:10:04.617Z"
   },
   {
    "duration": 9,
    "start_time": "2022-10-29T12:10:04.631Z"
   },
   {
    "duration": 20,
    "start_time": "2022-10-29T12:10:04.643Z"
   },
   {
    "duration": 15,
    "start_time": "2022-10-29T12:10:04.665Z"
   },
   {
    "duration": 7,
    "start_time": "2022-10-29T12:10:04.682Z"
   },
   {
    "duration": 24,
    "start_time": "2022-10-29T12:10:04.691Z"
   },
   {
    "duration": 11,
    "start_time": "2022-10-29T12:10:04.717Z"
   },
   {
    "duration": 13,
    "start_time": "2022-10-29T12:10:04.729Z"
   },
   {
    "duration": 15,
    "start_time": "2022-10-29T12:10:04.744Z"
   },
   {
    "duration": 12,
    "start_time": "2022-10-29T12:10:04.760Z"
   },
   {
    "duration": 37,
    "start_time": "2022-10-29T12:10:04.773Z"
   },
   {
    "duration": 13,
    "start_time": "2022-10-29T12:10:04.813Z"
   },
   {
    "duration": 322,
    "start_time": "2022-10-29T12:10:04.827Z"
   },
   {
    "duration": 198,
    "start_time": "2022-10-29T12:10:05.151Z"
   },
   {
    "duration": 113,
    "start_time": "2022-10-29T12:10:05.351Z"
   },
   {
    "duration": 181,
    "start_time": "2022-10-29T12:10:05.465Z"
   },
   {
    "duration": 156,
    "start_time": "2022-10-29T12:10:05.648Z"
   },
   {
    "duration": 234,
    "start_time": "2022-10-29T12:10:05.808Z"
   },
   {
    "duration": 7,
    "start_time": "2022-10-29T12:10:06.044Z"
   },
   {
    "duration": 126,
    "start_time": "2022-10-29T12:10:06.052Z"
   },
   {
    "duration": 3,
    "start_time": "2022-10-29T12:10:06.180Z"
   },
   {
    "duration": 126,
    "start_time": "2022-10-29T12:10:06.185Z"
   },
   {
    "duration": 3,
    "start_time": "2022-10-29T12:10:06.313Z"
   },
   {
    "duration": 481,
    "start_time": "2022-10-29T12:10:06.318Z"
   },
   {
    "duration": 16,
    "start_time": "2022-10-29T12:10:06.800Z"
   },
   {
    "duration": 7,
    "start_time": "2022-10-29T12:10:06.817Z"
   },
   {
    "duration": 382,
    "start_time": "2022-10-29T12:10:06.826Z"
   },
   {
    "duration": 10,
    "start_time": "2022-10-29T12:10:07.210Z"
   },
   {
    "duration": 1399,
    "start_time": "2022-10-29T16:12:12.463Z"
   },
   {
    "duration": 275,
    "start_time": "2022-10-29T16:12:13.864Z"
   },
   {
    "duration": 15,
    "start_time": "2022-10-29T16:12:14.140Z"
   },
   {
    "duration": 11,
    "start_time": "2022-10-29T16:12:14.157Z"
   },
   {
    "duration": 16,
    "start_time": "2022-10-29T16:12:14.170Z"
   },
   {
    "duration": 31,
    "start_time": "2022-10-29T16:12:14.188Z"
   },
   {
    "duration": 8,
    "start_time": "2022-10-29T16:12:14.221Z"
   },
   {
    "duration": 15,
    "start_time": "2022-10-29T16:12:14.231Z"
   },
   {
    "duration": 14,
    "start_time": "2022-10-29T16:12:14.248Z"
   },
   {
    "duration": 19,
    "start_time": "2022-10-29T16:12:14.265Z"
   },
   {
    "duration": 48,
    "start_time": "2022-10-29T16:12:14.285Z"
   },
   {
    "duration": 10,
    "start_time": "2022-10-29T16:12:14.334Z"
   },
   {
    "duration": 15,
    "start_time": "2022-10-29T16:12:14.345Z"
   },
   {
    "duration": 32,
    "start_time": "2022-10-29T16:12:14.362Z"
   },
   {
    "duration": 301,
    "start_time": "2022-10-29T16:12:14.396Z"
   },
   {
    "duration": 216,
    "start_time": "2022-10-29T16:12:14.698Z"
   },
   {
    "duration": 134,
    "start_time": "2022-10-29T16:12:14.916Z"
   },
   {
    "duration": 282,
    "start_time": "2022-10-29T16:12:15.051Z"
   },
   {
    "duration": 148,
    "start_time": "2022-10-29T16:12:15.335Z"
   },
   {
    "duration": 235,
    "start_time": "2022-10-29T16:12:15.487Z"
   },
   {
    "duration": 7,
    "start_time": "2022-10-29T16:12:15.723Z"
   },
   {
    "duration": 144,
    "start_time": "2022-10-29T16:12:15.731Z"
   },
   {
    "duration": 10,
    "start_time": "2022-10-29T16:12:15.879Z"
   },
   {
    "duration": 147,
    "start_time": "2022-10-29T16:12:15.899Z"
   },
   {
    "duration": 4,
    "start_time": "2022-10-29T16:12:16.048Z"
   },
   {
    "duration": 548,
    "start_time": "2022-10-29T16:12:16.054Z"
   },
   {
    "duration": 18,
    "start_time": "2022-10-29T16:12:16.607Z"
   },
   {
    "duration": 25,
    "start_time": "2022-10-29T16:12:16.629Z"
   },
   {
    "duration": 375,
    "start_time": "2022-10-29T16:12:16.656Z"
   },
   {
    "duration": 10,
    "start_time": "2022-10-29T16:12:17.033Z"
   },
   {
    "duration": 10,
    "start_time": "2022-10-29T16:32:53.259Z"
   },
   {
    "duration": 11,
    "start_time": "2022-10-29T16:33:03.967Z"
   },
   {
    "duration": 14,
    "start_time": "2022-10-29T16:35:10.256Z"
   },
   {
    "duration": 9,
    "start_time": "2022-10-29T16:35:14.434Z"
   },
   {
    "duration": 10,
    "start_time": "2022-10-29T16:35:18.751Z"
   },
   {
    "duration": 94,
    "start_time": "2022-10-29T17:05:31.192Z"
   },
   {
    "duration": 5,
    "start_time": "2022-10-29T17:05:40.952Z"
   },
   {
    "duration": 8,
    "start_time": "2022-10-29T17:06:07.584Z"
   },
   {
    "duration": 17,
    "start_time": "2022-10-29T17:06:38.042Z"
   },
   {
    "duration": 6,
    "start_time": "2022-10-29T17:07:12.626Z"
   },
   {
    "duration": 6,
    "start_time": "2022-10-29T17:07:20.447Z"
   },
   {
    "duration": 9,
    "start_time": "2022-10-29T17:07:36.353Z"
   },
   {
    "duration": 4,
    "start_time": "2022-10-29T17:07:44.028Z"
   },
   {
    "duration": 6,
    "start_time": "2022-10-29T17:10:56.280Z"
   },
   {
    "duration": 6,
    "start_time": "2022-10-29T17:11:20.597Z"
   },
   {
    "duration": 132,
    "start_time": "2022-10-29T17:11:47.439Z"
   },
   {
    "duration": 12,
    "start_time": "2022-10-29T17:11:57.051Z"
   },
   {
    "duration": 9,
    "start_time": "2022-10-29T17:12:07.482Z"
   },
   {
    "duration": 18,
    "start_time": "2022-10-29T17:13:20.068Z"
   },
   {
    "duration": 5,
    "start_time": "2022-10-29T17:13:40.227Z"
   },
   {
    "duration": 145,
    "start_time": "2022-10-29T17:13:57.477Z"
   },
   {
    "duration": 11,
    "start_time": "2022-10-29T17:15:57.537Z"
   },
   {
    "duration": 6,
    "start_time": "2022-10-29T17:19:57.912Z"
   },
   {
    "duration": 28,
    "start_time": "2022-10-29T17:21:33.567Z"
   },
   {
    "duration": 5,
    "start_time": "2022-10-29T17:25:33.309Z"
   },
   {
    "duration": 4,
    "start_time": "2022-10-29T17:25:38.402Z"
   },
   {
    "duration": 5,
    "start_time": "2022-10-29T17:25:41.219Z"
   },
   {
    "duration": 7,
    "start_time": "2022-10-29T17:25:53.838Z"
   },
   {
    "duration": 12,
    "start_time": "2022-10-29T17:28:22.070Z"
   },
   {
    "duration": 7,
    "start_time": "2022-10-29T17:33:00.159Z"
   },
   {
    "duration": 27,
    "start_time": "2022-10-29T17:33:02.243Z"
   },
   {
    "duration": 11,
    "start_time": "2022-10-29T17:33:10.259Z"
   },
   {
    "duration": 7,
    "start_time": "2022-10-29T17:33:25.666Z"
   },
   {
    "duration": 34,
    "start_time": "2022-10-29T17:33:26.286Z"
   },
   {
    "duration": 11,
    "start_time": "2022-10-29T17:33:27.466Z"
   },
   {
    "duration": 9,
    "start_time": "2022-10-29T17:45:28.490Z"
   },
   {
    "duration": 11,
    "start_time": "2022-10-29T17:45:57.641Z"
   },
   {
    "duration": 6,
    "start_time": "2022-10-29T17:46:08.939Z"
   },
   {
    "duration": 6,
    "start_time": "2022-10-29T17:46:20.232Z"
   },
   {
    "duration": 12,
    "start_time": "2022-10-29T18:24:07.102Z"
   },
   {
    "duration": 10,
    "start_time": "2022-10-29T18:24:16.141Z"
   },
   {
    "duration": 1081,
    "start_time": "2022-10-29T18:47:30.213Z"
   },
   {
    "duration": 74,
    "start_time": "2022-10-29T18:47:31.296Z"
   },
   {
    "duration": 18,
    "start_time": "2022-10-29T18:47:31.372Z"
   },
   {
    "duration": 8,
    "start_time": "2022-10-29T18:47:31.393Z"
   },
   {
    "duration": 18,
    "start_time": "2022-10-29T18:47:31.402Z"
   },
   {
    "duration": 16,
    "start_time": "2022-10-29T18:47:31.421Z"
   },
   {
    "duration": 35,
    "start_time": "2022-10-29T18:47:31.438Z"
   },
   {
    "duration": 41,
    "start_time": "2022-10-29T18:47:31.475Z"
   },
   {
    "duration": 13,
    "start_time": "2022-10-29T18:47:31.517Z"
   },
   {
    "duration": 11,
    "start_time": "2022-10-29T18:47:31.532Z"
   },
   {
    "duration": 16,
    "start_time": "2022-10-29T18:47:31.545Z"
   },
   {
    "duration": 8,
    "start_time": "2022-10-29T18:47:31.562Z"
   },
   {
    "duration": 9,
    "start_time": "2022-10-29T18:47:31.572Z"
   },
   {
    "duration": 27,
    "start_time": "2022-10-29T18:47:31.583Z"
   },
   {
    "duration": 20,
    "start_time": "2022-10-29T18:47:31.612Z"
   },
   {
    "duration": 277,
    "start_time": "2022-10-29T18:47:31.634Z"
   },
   {
    "duration": 7,
    "start_time": "2022-10-29T18:47:31.913Z"
   },
   {
    "duration": 204,
    "start_time": "2022-10-29T18:47:31.921Z"
   },
   {
    "duration": 115,
    "start_time": "2022-10-29T18:47:32.126Z"
   },
   {
    "duration": 253,
    "start_time": "2022-10-29T18:47:32.242Z"
   },
   {
    "duration": 132,
    "start_time": "2022-10-29T18:47:32.496Z"
   },
   {
    "duration": 207,
    "start_time": "2022-10-29T18:47:32.630Z"
   },
   {
    "duration": 5,
    "start_time": "2022-10-29T18:47:32.839Z"
   },
   {
    "duration": 133,
    "start_time": "2022-10-29T18:47:32.845Z"
   },
   {
    "duration": 10,
    "start_time": "2022-10-29T18:47:32.979Z"
   },
   {
    "duration": 128,
    "start_time": "2022-10-29T18:47:32.993Z"
   },
   {
    "duration": 4,
    "start_time": "2022-10-29T18:47:33.122Z"
   },
   {
    "duration": 158,
    "start_time": "2022-10-29T18:47:33.128Z"
   },
   {
    "duration": 11,
    "start_time": "2022-10-29T18:47:33.290Z"
   },
   {
    "duration": 27,
    "start_time": "2022-10-29T18:47:33.302Z"
   },
   {
    "duration": 36,
    "start_time": "2022-10-29T18:47:33.330Z"
   },
   {
    "duration": 13,
    "start_time": "2022-10-29T18:47:33.368Z"
   },
   {
    "duration": 47,
    "start_time": "2022-10-29T21:41:25.542Z"
   },
   {
    "duration": 1272,
    "start_time": "2022-10-29T21:41:31.291Z"
   },
   {
    "duration": 196,
    "start_time": "2022-10-29T21:41:32.565Z"
   },
   {
    "duration": 6,
    "start_time": "2022-10-29T21:41:32.764Z"
   },
   {
    "duration": 18,
    "start_time": "2022-10-29T21:41:32.773Z"
   },
   {
    "duration": 9,
    "start_time": "2022-10-29T21:41:32.793Z"
   },
   {
    "duration": 13,
    "start_time": "2022-10-29T21:41:32.804Z"
   },
   {
    "duration": 18,
    "start_time": "2022-10-29T21:41:32.819Z"
   },
   {
    "duration": 21,
    "start_time": "2022-10-29T21:41:32.840Z"
   },
   {
    "duration": 15,
    "start_time": "2022-10-29T21:41:32.863Z"
   },
   {
    "duration": 12,
    "start_time": "2022-10-29T21:41:32.882Z"
   },
   {
    "duration": 14,
    "start_time": "2022-10-29T21:41:32.896Z"
   },
   {
    "duration": 23,
    "start_time": "2022-10-29T21:41:32.911Z"
   },
   {
    "duration": 18,
    "start_time": "2022-10-29T21:41:32.936Z"
   },
   {
    "duration": 17,
    "start_time": "2022-10-29T21:41:32.955Z"
   },
   {
    "duration": 8,
    "start_time": "2022-10-29T21:41:32.974Z"
   },
   {
    "duration": 286,
    "start_time": "2022-10-29T21:41:32.984Z"
   },
   {
    "duration": 9,
    "start_time": "2022-10-29T21:41:33.272Z"
   },
   {
    "duration": 207,
    "start_time": "2022-10-29T21:41:33.282Z"
   },
   {
    "duration": 119,
    "start_time": "2022-10-29T21:41:33.490Z"
   },
   {
    "duration": 259,
    "start_time": "2022-10-29T21:41:33.611Z"
   },
   {
    "duration": 142,
    "start_time": "2022-10-29T21:41:33.872Z"
   },
   {
    "duration": 248,
    "start_time": "2022-10-29T21:41:34.015Z"
   },
   {
    "duration": 7,
    "start_time": "2022-10-29T21:41:34.264Z"
   },
   {
    "duration": 120,
    "start_time": "2022-10-29T21:41:34.272Z"
   },
   {
    "duration": 4,
    "start_time": "2022-10-29T21:41:34.393Z"
   },
   {
    "duration": 144,
    "start_time": "2022-10-29T21:41:34.399Z"
   },
   {
    "duration": 4,
    "start_time": "2022-10-29T21:41:34.545Z"
   },
   {
    "duration": 168,
    "start_time": "2022-10-29T21:41:34.552Z"
   },
   {
    "duration": 13,
    "start_time": "2022-10-29T21:41:34.728Z"
   },
   {
    "duration": 17,
    "start_time": "2022-10-29T21:41:34.742Z"
   },
   {
    "duration": 28,
    "start_time": "2022-10-29T21:41:34.761Z"
   },
   {
    "duration": 10,
    "start_time": "2022-10-29T21:41:34.790Z"
   },
   {
    "duration": 12,
    "start_time": "2022-10-29T21:41:55.560Z"
   },
   {
    "duration": 15,
    "start_time": "2022-10-29T21:42:00.521Z"
   },
   {
    "duration": 11,
    "start_time": "2022-10-29T21:42:10.543Z"
   },
   {
    "duration": 5,
    "start_time": "2022-10-29T21:42:33.885Z"
   },
   {
    "duration": 17,
    "start_time": "2022-10-29T21:42:36.892Z"
   },
   {
    "duration": 10,
    "start_time": "2022-10-29T21:42:55.333Z"
   },
   {
    "duration": 11,
    "start_time": "2022-10-29T21:42:58.342Z"
   },
   {
    "duration": 15,
    "start_time": "2022-10-29T21:43:39.999Z"
   },
   {
    "duration": 17,
    "start_time": "2022-10-29T21:44:44.197Z"
   },
   {
    "duration": 8,
    "start_time": "2022-10-29T21:45:15.548Z"
   },
   {
    "duration": 109,
    "start_time": "2022-10-29T21:45:25.885Z"
   },
   {
    "duration": 20,
    "start_time": "2022-10-29T21:45:35.670Z"
   },
   {
    "duration": 12,
    "start_time": "2022-10-29T21:46:08.119Z"
   },
   {
    "duration": 10,
    "start_time": "2022-10-29T21:46:25.462Z"
   },
   {
    "duration": 7,
    "start_time": "2022-10-29T21:46:37.910Z"
   },
   {
    "duration": 7,
    "start_time": "2022-10-29T21:46:58.372Z"
   },
   {
    "duration": 10,
    "start_time": "2022-10-29T21:47:21.809Z"
   },
   {
    "duration": 7,
    "start_time": "2022-10-29T21:47:50.198Z"
   },
   {
    "duration": 7,
    "start_time": "2022-10-29T21:47:54.027Z"
   },
   {
    "duration": 13,
    "start_time": "2022-10-29T21:48:04.317Z"
   },
   {
    "duration": 10,
    "start_time": "2022-10-29T21:48:11.248Z"
   },
   {
    "duration": 14,
    "start_time": "2022-10-29T21:48:15.430Z"
   },
   {
    "duration": 8,
    "start_time": "2022-10-29T21:49:54.555Z"
   },
   {
    "duration": 8,
    "start_time": "2022-10-29T21:50:00.213Z"
   },
   {
    "duration": 9,
    "start_time": "2022-10-29T21:50:25.384Z"
   },
   {
    "duration": 8,
    "start_time": "2022-10-29T21:51:28.637Z"
   },
   {
    "duration": 9,
    "start_time": "2022-10-29T21:51:33.366Z"
   },
   {
    "duration": 15,
    "start_time": "2022-10-29T21:53:06.254Z"
   },
   {
    "duration": 13,
    "start_time": "2022-10-29T21:53:28.159Z"
   },
   {
    "duration": 10,
    "start_time": "2022-10-29T21:54:08.701Z"
   },
   {
    "duration": 11,
    "start_time": "2022-10-29T21:54:19.009Z"
   },
   {
    "duration": 15,
    "start_time": "2022-10-29T21:55:14.423Z"
   },
   {
    "duration": 7,
    "start_time": "2022-10-29T22:00:52.919Z"
   },
   {
    "duration": 7,
    "start_time": "2022-10-29T22:01:00.711Z"
   },
   {
    "duration": 15,
    "start_time": "2022-10-29T22:03:37.101Z"
   },
   {
    "duration": 8,
    "start_time": "2022-10-29T22:03:52.396Z"
   },
   {
    "duration": 21,
    "start_time": "2022-10-29T22:04:23.178Z"
   },
   {
    "duration": 11,
    "start_time": "2022-10-29T22:04:42.303Z"
   },
   {
    "duration": 5,
    "start_time": "2022-10-29T22:04:48.683Z"
   },
   {
    "duration": 6,
    "start_time": "2022-10-29T22:05:02.039Z"
   },
   {
    "duration": 8,
    "start_time": "2022-10-29T22:05:09.013Z"
   },
   {
    "duration": 7,
    "start_time": "2022-10-29T22:05:32.475Z"
   },
   {
    "duration": 8,
    "start_time": "2022-10-29T22:06:19.044Z"
   },
   {
    "duration": 7,
    "start_time": "2022-10-29T22:06:29.578Z"
   },
   {
    "duration": 96,
    "start_time": "2022-10-29T22:12:53.951Z"
   },
   {
    "duration": 165,
    "start_time": "2022-10-29T22:13:23.508Z"
   },
   {
    "duration": 95,
    "start_time": "2022-10-29T22:13:39.438Z"
   },
   {
    "duration": 113,
    "start_time": "2022-10-29T22:13:58.188Z"
   },
   {
    "duration": 156,
    "start_time": "2022-10-29T22:14:03.742Z"
   },
   {
    "duration": 154,
    "start_time": "2022-10-29T22:14:09.099Z"
   },
   {
    "duration": 94,
    "start_time": "2022-10-29T22:14:13.370Z"
   },
   {
    "duration": 96,
    "start_time": "2022-10-29T22:14:17.932Z"
   },
   {
    "duration": 125,
    "start_time": "2022-10-29T22:14:21.978Z"
   },
   {
    "duration": 122,
    "start_time": "2022-10-29T22:14:40.864Z"
   },
   {
    "duration": 103,
    "start_time": "2022-10-29T22:15:04.588Z"
   },
   {
    "duration": 98,
    "start_time": "2022-10-29T22:15:09.873Z"
   },
   {
    "duration": 104,
    "start_time": "2022-10-29T22:15:20.183Z"
   },
   {
    "duration": 103,
    "start_time": "2022-10-29T22:15:30.938Z"
   },
   {
    "duration": 285,
    "start_time": "2022-10-29T22:15:52.300Z"
   },
   {
    "duration": 222,
    "start_time": "2022-10-29T22:15:58.100Z"
   },
   {
    "duration": 101,
    "start_time": "2022-10-29T22:16:05.339Z"
   },
   {
    "duration": 98,
    "start_time": "2022-10-29T22:16:09.635Z"
   },
   {
    "duration": 128,
    "start_time": "2022-10-29T22:16:20.722Z"
   },
   {
    "duration": 126,
    "start_time": "2022-10-29T22:16:32.424Z"
   },
   {
    "duration": 191,
    "start_time": "2022-10-29T22:17:17.945Z"
   },
   {
    "duration": 142,
    "start_time": "2022-10-29T22:17:30.478Z"
   },
   {
    "duration": 153,
    "start_time": "2022-10-29T22:17:56.969Z"
   },
   {
    "duration": 129,
    "start_time": "2022-10-29T22:18:33.597Z"
   },
   {
    "duration": 253,
    "start_time": "2022-10-29T22:19:19.713Z"
   },
   {
    "duration": 420,
    "start_time": "2022-10-29T22:19:44.520Z"
   },
   {
    "duration": 198,
    "start_time": "2022-10-29T22:19:57.037Z"
   },
   {
    "duration": 198,
    "start_time": "2022-10-29T22:20:04.641Z"
   },
   {
    "duration": 149,
    "start_time": "2022-10-29T22:20:52.438Z"
   },
   {
    "duration": 206,
    "start_time": "2022-10-29T22:21:07.925Z"
   },
   {
    "duration": 302,
    "start_time": "2022-10-29T22:22:22.548Z"
   },
   {
    "duration": 141,
    "start_time": "2022-10-29T22:23:41.468Z"
   },
   {
    "duration": 132,
    "start_time": "2022-10-29T22:25:01.030Z"
   },
   {
    "duration": 140,
    "start_time": "2022-10-29T22:25:21.752Z"
   },
   {
    "duration": 1045,
    "start_time": "2022-10-29T22:37:58.917Z"
   },
   {
    "duration": 71,
    "start_time": "2022-10-29T22:37:59.964Z"
   },
   {
    "duration": 11,
    "start_time": "2022-10-29T22:38:00.037Z"
   },
   {
    "duration": 18,
    "start_time": "2022-10-29T22:38:00.050Z"
   },
   {
    "duration": 11,
    "start_time": "2022-10-29T22:38:00.070Z"
   },
   {
    "duration": 7,
    "start_time": "2022-10-29T22:38:00.082Z"
   },
   {
    "duration": 15,
    "start_time": "2022-10-29T22:38:00.091Z"
   },
   {
    "duration": 19,
    "start_time": "2022-10-29T22:38:00.107Z"
   },
   {
    "duration": 19,
    "start_time": "2022-10-29T22:38:00.127Z"
   },
   {
    "duration": 39,
    "start_time": "2022-10-29T22:38:00.148Z"
   },
   {
    "duration": 29,
    "start_time": "2022-10-29T22:38:00.189Z"
   },
   {
    "duration": 21,
    "start_time": "2022-10-29T22:38:00.220Z"
   },
   {
    "duration": 33,
    "start_time": "2022-10-29T22:38:00.242Z"
   },
   {
    "duration": 53,
    "start_time": "2022-10-29T22:38:00.276Z"
   },
   {
    "duration": 35,
    "start_time": "2022-10-29T22:38:00.331Z"
   },
   {
    "duration": 44,
    "start_time": "2022-10-29T22:38:00.367Z"
   },
   {
    "duration": 15,
    "start_time": "2022-10-29T22:38:00.412Z"
   },
   {
    "duration": 34,
    "start_time": "2022-10-29T22:38:00.428Z"
   },
   {
    "duration": 27,
    "start_time": "2022-10-29T22:38:00.464Z"
   },
   {
    "duration": 22,
    "start_time": "2022-10-29T22:38:00.493Z"
   },
   {
    "duration": 31,
    "start_time": "2022-10-29T22:38:00.516Z"
   },
   {
    "duration": 267,
    "start_time": "2022-10-29T22:38:00.549Z"
   },
   {
    "duration": 10,
    "start_time": "2022-10-29T22:38:00.817Z"
   },
   {
    "duration": 290,
    "start_time": "2022-10-29T22:38:00.828Z"
   },
   {
    "duration": 201,
    "start_time": "2022-10-29T22:38:01.121Z"
   },
   {
    "duration": 302,
    "start_time": "2022-10-29T22:38:01.324Z"
   },
   {
    "duration": 225,
    "start_time": "2022-10-29T22:38:01.627Z"
   },
   {
    "duration": 295,
    "start_time": "2022-10-29T22:38:01.856Z"
   },
   {
    "duration": 7,
    "start_time": "2022-10-29T22:38:02.152Z"
   },
   {
    "duration": 144,
    "start_time": "2022-10-29T22:38:02.160Z"
   },
   {
    "duration": 5,
    "start_time": "2022-10-29T22:38:02.305Z"
   },
   {
    "duration": 174,
    "start_time": "2022-10-29T22:38:02.311Z"
   },
   {
    "duration": 4,
    "start_time": "2022-10-29T22:38:02.487Z"
   },
   {
    "duration": 200,
    "start_time": "2022-10-29T22:38:02.493Z"
   },
   {
    "duration": 10,
    "start_time": "2022-10-29T22:38:02.695Z"
   },
   {
    "duration": 20,
    "start_time": "2022-10-29T22:38:02.707Z"
   },
   {
    "duration": 48,
    "start_time": "2022-10-29T22:38:02.728Z"
   },
   {
    "duration": 0,
    "start_time": "2022-10-29T22:38:02.778Z"
   },
   {
    "duration": 1071,
    "start_time": "2022-10-29T22:40:24.321Z"
   },
   {
    "duration": 71,
    "start_time": "2022-10-29T22:40:25.394Z"
   },
   {
    "duration": 11,
    "start_time": "2022-10-29T22:40:25.467Z"
   },
   {
    "duration": 7,
    "start_time": "2022-10-29T22:40:25.480Z"
   },
   {
    "duration": 9,
    "start_time": "2022-10-29T22:40:25.488Z"
   },
   {
    "duration": 7,
    "start_time": "2022-10-29T22:40:25.498Z"
   },
   {
    "duration": 6,
    "start_time": "2022-10-29T22:40:25.506Z"
   },
   {
    "duration": 12,
    "start_time": "2022-10-29T22:40:25.513Z"
   },
   {
    "duration": 11,
    "start_time": "2022-10-29T22:40:25.527Z"
   },
   {
    "duration": 11,
    "start_time": "2022-10-29T22:40:25.541Z"
   },
   {
    "duration": 14,
    "start_time": "2022-10-29T22:40:25.554Z"
   },
   {
    "duration": 10,
    "start_time": "2022-10-29T22:40:25.570Z"
   },
   {
    "duration": 16,
    "start_time": "2022-10-29T22:40:25.582Z"
   },
   {
    "duration": 12,
    "start_time": "2022-10-29T22:40:25.600Z"
   },
   {
    "duration": 11,
    "start_time": "2022-10-29T22:40:25.613Z"
   },
   {
    "duration": 33,
    "start_time": "2022-10-29T22:40:25.626Z"
   },
   {
    "duration": 8,
    "start_time": "2022-10-29T22:40:25.661Z"
   },
   {
    "duration": 6,
    "start_time": "2022-10-29T22:40:25.671Z"
   },
   {
    "duration": 12,
    "start_time": "2022-10-29T22:40:25.678Z"
   },
   {
    "duration": 9,
    "start_time": "2022-10-29T22:40:25.692Z"
   },
   {
    "duration": 24,
    "start_time": "2022-10-29T22:40:25.703Z"
   },
   {
    "duration": 308,
    "start_time": "2022-10-29T22:40:25.729Z"
   },
   {
    "duration": 10,
    "start_time": "2022-10-29T22:40:26.038Z"
   },
   {
    "duration": 278,
    "start_time": "2022-10-29T22:40:26.049Z"
   },
   {
    "duration": 195,
    "start_time": "2022-10-29T22:40:26.329Z"
   },
   {
    "duration": 314,
    "start_time": "2022-10-29T22:40:26.526Z"
   },
   {
    "duration": 225,
    "start_time": "2022-10-29T22:40:26.841Z"
   },
   {
    "duration": 301,
    "start_time": "2022-10-29T22:40:27.069Z"
   },
   {
    "duration": 6,
    "start_time": "2022-10-29T22:40:27.372Z"
   },
   {
    "duration": 154,
    "start_time": "2022-10-29T22:40:27.380Z"
   },
   {
    "duration": 4,
    "start_time": "2022-10-29T22:40:27.536Z"
   },
   {
    "duration": 160,
    "start_time": "2022-10-29T22:40:27.542Z"
   },
   {
    "duration": 4,
    "start_time": "2022-10-29T22:40:27.704Z"
   },
   {
    "duration": 179,
    "start_time": "2022-10-29T22:40:27.709Z"
   },
   {
    "duration": 11,
    "start_time": "2022-10-29T22:40:27.890Z"
   },
   {
    "duration": 24,
    "start_time": "2022-10-29T22:40:27.903Z"
   },
   {
    "duration": 44,
    "start_time": "2022-10-29T22:40:27.928Z"
   },
   {
    "duration": 0,
    "start_time": "2022-10-29T22:40:27.974Z"
   },
   {
    "duration": 26,
    "start_time": "2022-10-29T22:40:45.942Z"
   },
   {
    "duration": 10,
    "start_time": "2022-10-29T22:40:49.353Z"
   },
   {
    "duration": 1006,
    "start_time": "2022-10-29T22:40:53.957Z"
   },
   {
    "duration": 71,
    "start_time": "2022-10-29T22:40:54.965Z"
   },
   {
    "duration": 12,
    "start_time": "2022-10-29T22:40:55.038Z"
   },
   {
    "duration": 12,
    "start_time": "2022-10-29T22:40:55.052Z"
   },
   {
    "duration": 12,
    "start_time": "2022-10-29T22:40:55.066Z"
   },
   {
    "duration": 7,
    "start_time": "2022-10-29T22:40:55.080Z"
   },
   {
    "duration": 6,
    "start_time": "2022-10-29T22:40:55.088Z"
   },
   {
    "duration": 13,
    "start_time": "2022-10-29T22:40:55.095Z"
   },
   {
    "duration": 13,
    "start_time": "2022-10-29T22:40:55.121Z"
   },
   {
    "duration": 9,
    "start_time": "2022-10-29T22:40:55.138Z"
   },
   {
    "duration": 12,
    "start_time": "2022-10-29T22:40:55.150Z"
   },
   {
    "duration": 7,
    "start_time": "2022-10-29T22:40:55.164Z"
   },
   {
    "duration": 11,
    "start_time": "2022-10-29T22:40:55.173Z"
   },
   {
    "duration": 41,
    "start_time": "2022-10-29T22:40:55.186Z"
   },
   {
    "duration": 8,
    "start_time": "2022-10-29T22:40:55.228Z"
   },
   {
    "duration": 14,
    "start_time": "2022-10-29T22:40:55.238Z"
   },
   {
    "duration": 7,
    "start_time": "2022-10-29T22:40:55.254Z"
   },
   {
    "duration": 6,
    "start_time": "2022-10-29T22:40:55.262Z"
   },
   {
    "duration": 7,
    "start_time": "2022-10-29T22:40:55.269Z"
   },
   {
    "duration": 6,
    "start_time": "2022-10-29T22:40:55.278Z"
   },
   {
    "duration": 41,
    "start_time": "2022-10-29T22:40:55.286Z"
   },
   {
    "duration": 265,
    "start_time": "2022-10-29T22:40:55.329Z"
   },
   {
    "duration": 8,
    "start_time": "2022-10-29T22:40:55.596Z"
   },
   {
    "duration": 286,
    "start_time": "2022-10-29T22:40:55.606Z"
   },
   {
    "duration": 189,
    "start_time": "2022-10-29T22:40:55.894Z"
   },
   {
    "duration": 331,
    "start_time": "2022-10-29T22:40:56.085Z"
   },
   {
    "duration": 229,
    "start_time": "2022-10-29T22:40:56.417Z"
   },
   {
    "duration": 310,
    "start_time": "2022-10-29T22:40:56.651Z"
   },
   {
    "duration": 8,
    "start_time": "2022-10-29T22:40:56.962Z"
   },
   {
    "duration": 151,
    "start_time": "2022-10-29T22:40:56.971Z"
   },
   {
    "duration": 4,
    "start_time": "2022-10-29T22:40:57.124Z"
   },
   {
    "duration": 152,
    "start_time": "2022-10-29T22:40:57.130Z"
   },
   {
    "duration": 4,
    "start_time": "2022-10-29T22:40:57.283Z"
   },
   {
    "duration": 169,
    "start_time": "2022-10-29T22:40:57.288Z"
   },
   {
    "duration": 13,
    "start_time": "2022-10-29T22:40:57.459Z"
   },
   {
    "duration": 10,
    "start_time": "2022-10-29T22:40:57.474Z"
   },
   {
    "duration": 44,
    "start_time": "2022-10-29T22:40:57.485Z"
   },
   {
    "duration": 11,
    "start_time": "2022-10-29T22:40:57.531Z"
   }
  ],
  "kernelspec": {
   "display_name": "Python 3 (ipykernel)",
   "language": "python",
   "name": "python3"
  },
  "language_info": {
   "codemirror_mode": {
    "name": "ipython",
    "version": 3
   },
   "file_extension": ".py",
   "mimetype": "text/x-python",
   "name": "python",
   "nbconvert_exporter": "python",
   "pygments_lexer": "ipython3",
   "version": "3.8.9"
  },
  "toc": {
   "base_numbering": 1,
   "nav_menu": {},
   "number_sections": true,
   "sideBar": true,
   "skip_h1_title": true,
   "title_cell": "Table of Contents",
   "title_sidebar": "Contents",
   "toc_cell": false,
   "toc_position": {},
   "toc_section_display": true,
   "toc_window_display": false
  }
 },
 "nbformat": 4,
 "nbformat_minor": 2
}
